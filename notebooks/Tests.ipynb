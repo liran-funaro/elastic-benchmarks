{
 "cells": [
  {
   "cell_type": "code",
   "execution_count": 13,
   "metadata": {
    "ExecuteTime": {
     "end_time": "2019-09-22T10:57:55.639789Z",
     "start_time": "2019-09-22T10:57:55.474734Z"
    },
    "scrolled": true
   },
   "outputs": [],
   "source": [
    "from common import *"
   ]
  },
  {
   "cell_type": "markdown",
   "metadata": {},
   "source": [
    "# Monitor Batch Experiment"
   ]
  },
  {
   "cell_type": "code",
   "execution_count": 14,
   "metadata": {
    "ExecuteTime": {
     "end_time": "2019-09-22T10:58:05.739996Z",
     "start_time": "2019-09-22T10:57:58.469214Z"
    },
    "collapsed": true
   },
   "outputs": [
    {
     "name": "stdout",
     "output_type": "stream",
     "text": [
      "Total remaining time: 0 - Finish time: 2019-09-22 13:58:05.164705\n"
     ]
    },
    {
     "data": {
      "text/html": [
       "<style  type=\"text/css\" >\n",
       "    #T_dadac8dc_dd27_11e9_9233_b15e3176cbe9row0_col1 {\n",
       "            color:  white;\n",
       "             background-color:  green;\n",
       "        }    #T_dadac8dc_dd27_11e9_9233_b15e3176cbe9row1_col1 {\n",
       "            color:  white;\n",
       "             background-color:  green;\n",
       "        }    #T_dadac8dc_dd27_11e9_9233_b15e3176cbe9row2_col1 {\n",
       "            color:  white;\n",
       "             background-color:  green;\n",
       "        }    #T_dadac8dc_dd27_11e9_9233_b15e3176cbe9row3_col1 {\n",
       "            color:  white;\n",
       "             background-color:  green;\n",
       "        }    #T_dadac8dc_dd27_11e9_9233_b15e3176cbe9row4_col1 {\n",
       "            color:  white;\n",
       "             background-color:  green;\n",
       "        }    #T_dadac8dc_dd27_11e9_9233_b15e3176cbe9row5_col1 {\n",
       "            color:  white;\n",
       "             background-color:  green;\n",
       "        }    #T_dadac8dc_dd27_11e9_9233_b15e3176cbe9row6_col1 {\n",
       "            color:  white;\n",
       "             background-color:  green;\n",
       "        }    #T_dadac8dc_dd27_11e9_9233_b15e3176cbe9row7_col1 {\n",
       "            color:  white;\n",
       "             background-color:  green;\n",
       "        }    #T_dadac8dc_dd27_11e9_9233_b15e3176cbe9row8_col1 {\n",
       "            color:  white;\n",
       "             background-color:  green;\n",
       "        }    #T_dadac8dc_dd27_11e9_9233_b15e3176cbe9row9_col1 {\n",
       "            color:  white;\n",
       "             background-color:  green;\n",
       "        }    #T_dadac8dc_dd27_11e9_9233_b15e3176cbe9row10_col1 {\n",
       "            color:  white;\n",
       "             background-color:  green;\n",
       "        }    #T_dadac8dc_dd27_11e9_9233_b15e3176cbe9row11_col1 {\n",
       "            color:  white;\n",
       "             background-color:  green;\n",
       "        }    #T_dadac8dc_dd27_11e9_9233_b15e3176cbe9row12_col1 {\n",
       "            color:  white;\n",
       "             background-color:  green;\n",
       "        }    #T_dadac8dc_dd27_11e9_9233_b15e3176cbe9row13_col1 {\n",
       "            color:  white;\n",
       "             background-color:  green;\n",
       "        }    #T_dadac8dc_dd27_11e9_9233_b15e3176cbe9row14_col1 {\n",
       "            color:  white;\n",
       "             background-color:  green;\n",
       "        }    #T_dadac8dc_dd27_11e9_9233_b15e3176cbe9row15_col1 {\n",
       "            color:  white;\n",
       "             background-color:  green;\n",
       "        }    #T_dadac8dc_dd27_11e9_9233_b15e3176cbe9row16_col1 {\n",
       "            color:  white;\n",
       "             background-color:  green;\n",
       "        }    #T_dadac8dc_dd27_11e9_9233_b15e3176cbe9row17_col1 {\n",
       "            color:  white;\n",
       "             background-color:  green;\n",
       "        }    #T_dadac8dc_dd27_11e9_9233_b15e3176cbe9row18_col1 {\n",
       "            color:  white;\n",
       "             background-color:  green;\n",
       "        }    #T_dadac8dc_dd27_11e9_9233_b15e3176cbe9row19_col1 {\n",
       "            color:  white;\n",
       "             background-color:  green;\n",
       "        }    #T_dadac8dc_dd27_11e9_9233_b15e3176cbe9row20_col1 {\n",
       "            color:  white;\n",
       "             background-color:  green;\n",
       "        }    #T_dadac8dc_dd27_11e9_9233_b15e3176cbe9row21_col1 {\n",
       "            color:  white;\n",
       "             background-color:  green;\n",
       "        }    #T_dadac8dc_dd27_11e9_9233_b15e3176cbe9row22_col1 {\n",
       "            color:  white;\n",
       "             background-color:  green;\n",
       "        }    #T_dadac8dc_dd27_11e9_9233_b15e3176cbe9row23_col1 {\n",
       "            color:  white;\n",
       "             background-color:  green;\n",
       "        }    #T_dadac8dc_dd27_11e9_9233_b15e3176cbe9row24_col1 {\n",
       "            color:  white;\n",
       "             background-color:  green;\n",
       "        }    #T_dadac8dc_dd27_11e9_9233_b15e3176cbe9row25_col1 {\n",
       "            color:  white;\n",
       "             background-color:  green;\n",
       "        }    #T_dadac8dc_dd27_11e9_9233_b15e3176cbe9row26_col1 {\n",
       "            color:  white;\n",
       "             background-color:  green;\n",
       "        }    #T_dadac8dc_dd27_11e9_9233_b15e3176cbe9row27_col1 {\n",
       "            color:  white;\n",
       "             background-color:  green;\n",
       "        }    #T_dadac8dc_dd27_11e9_9233_b15e3176cbe9row28_col1 {\n",
       "            color:  white;\n",
       "             background-color:  green;\n",
       "        }    #T_dadac8dc_dd27_11e9_9233_b15e3176cbe9row29_col1 {\n",
       "            color:  white;\n",
       "             background-color:  green;\n",
       "        }    #T_dadac8dc_dd27_11e9_9233_b15e3176cbe9row30_col1 {\n",
       "            color:  white;\n",
       "             background-color:  green;\n",
       "        }    #T_dadac8dc_dd27_11e9_9233_b15e3176cbe9row31_col1 {\n",
       "            color:  white;\n",
       "             background-color:  green;\n",
       "        }    #T_dadac8dc_dd27_11e9_9233_b15e3176cbe9row32_col1 {\n",
       "            color:  white;\n",
       "             background-color:  green;\n",
       "        }    #T_dadac8dc_dd27_11e9_9233_b15e3176cbe9row33_col1 {\n",
       "            color:  white;\n",
       "             background-color:  green;\n",
       "        }    #T_dadac8dc_dd27_11e9_9233_b15e3176cbe9row34_col1 {\n",
       "            color:  white;\n",
       "             background-color:  green;\n",
       "        }    #T_dadac8dc_dd27_11e9_9233_b15e3176cbe9row35_col1 {\n",
       "            color:  white;\n",
       "             background-color:  green;\n",
       "        }    #T_dadac8dc_dd27_11e9_9233_b15e3176cbe9row36_col1 {\n",
       "            color:  white;\n",
       "             background-color:  green;\n",
       "        }    #T_dadac8dc_dd27_11e9_9233_b15e3176cbe9row37_col1 {\n",
       "            color:  white;\n",
       "             background-color:  green;\n",
       "        }    #T_dadac8dc_dd27_11e9_9233_b15e3176cbe9row38_col1 {\n",
       "            color:  white;\n",
       "             background-color:  green;\n",
       "        }    #T_dadac8dc_dd27_11e9_9233_b15e3176cbe9row39_col1 {\n",
       "            color:  white;\n",
       "             background-color:  green;\n",
       "        }    #T_dadac8dc_dd27_11e9_9233_b15e3176cbe9row40_col1 {\n",
       "            color:  white;\n",
       "             background-color:  green;\n",
       "        }    #T_dadac8dc_dd27_11e9_9233_b15e3176cbe9row41_col1 {\n",
       "            color:  white;\n",
       "             background-color:  green;\n",
       "        }    #T_dadac8dc_dd27_11e9_9233_b15e3176cbe9row42_col1 {\n",
       "            color:  white;\n",
       "             background-color:  green;\n",
       "        }    #T_dadac8dc_dd27_11e9_9233_b15e3176cbe9row43_col1 {\n",
       "            color:  white;\n",
       "             background-color:  green;\n",
       "        }    #T_dadac8dc_dd27_11e9_9233_b15e3176cbe9row44_col1 {\n",
       "            color:  white;\n",
       "             background-color:  green;\n",
       "        }    #T_dadac8dc_dd27_11e9_9233_b15e3176cbe9row45_col1 {\n",
       "            color:  white;\n",
       "             background-color:  green;\n",
       "        }    #T_dadac8dc_dd27_11e9_9233_b15e3176cbe9row46_col1 {\n",
       "            color:  white;\n",
       "             background-color:  green;\n",
       "        }    #T_dadac8dc_dd27_11e9_9233_b15e3176cbe9row47_col1 {\n",
       "            color:  white;\n",
       "             background-color:  green;\n",
       "        }    #T_dadac8dc_dd27_11e9_9233_b15e3176cbe9row48_col1 {\n",
       "            color:  white;\n",
       "             background-color:  green;\n",
       "        }    #T_dadac8dc_dd27_11e9_9233_b15e3176cbe9row49_col1 {\n",
       "            color:  white;\n",
       "             background-color:  green;\n",
       "        }    #T_dadac8dc_dd27_11e9_9233_b15e3176cbe9row50_col1 {\n",
       "            color:  white;\n",
       "             background-color:  green;\n",
       "        }    #T_dadac8dc_dd27_11e9_9233_b15e3176cbe9row51_col1 {\n",
       "            color:  white;\n",
       "             background-color:  green;\n",
       "        }    #T_dadac8dc_dd27_11e9_9233_b15e3176cbe9row52_col1 {\n",
       "            color:  white;\n",
       "             background-color:  green;\n",
       "        }    #T_dadac8dc_dd27_11e9_9233_b15e3176cbe9row53_col1 {\n",
       "            color:  white;\n",
       "             background-color:  green;\n",
       "        }    #T_dadac8dc_dd27_11e9_9233_b15e3176cbe9row54_col1 {\n",
       "            color:  white;\n",
       "             background-color:  green;\n",
       "        }    #T_dadac8dc_dd27_11e9_9233_b15e3176cbe9row55_col1 {\n",
       "            color:  white;\n",
       "             background-color:  green;\n",
       "        }    #T_dadac8dc_dd27_11e9_9233_b15e3176cbe9row56_col1 {\n",
       "            color:  white;\n",
       "             background-color:  green;\n",
       "        }    #T_dadac8dc_dd27_11e9_9233_b15e3176cbe9row57_col1 {\n",
       "            color:  white;\n",
       "             background-color:  green;\n",
       "        }    #T_dadac8dc_dd27_11e9_9233_b15e3176cbe9row58_col1 {\n",
       "            color:  white;\n",
       "             background-color:  green;\n",
       "        }    #T_dadac8dc_dd27_11e9_9233_b15e3176cbe9row59_col1 {\n",
       "            color:  white;\n",
       "             background-color:  green;\n",
       "        }    #T_dadac8dc_dd27_11e9_9233_b15e3176cbe9row60_col1 {\n",
       "            color:  white;\n",
       "             background-color:  green;\n",
       "        }    #T_dadac8dc_dd27_11e9_9233_b15e3176cbe9row61_col1 {\n",
       "            color:  white;\n",
       "             background-color:  green;\n",
       "        }    #T_dadac8dc_dd27_11e9_9233_b15e3176cbe9row62_col1 {\n",
       "            color:  white;\n",
       "             background-color:  green;\n",
       "        }    #T_dadac8dc_dd27_11e9_9233_b15e3176cbe9row63_col1 {\n",
       "            color:  white;\n",
       "             background-color:  green;\n",
       "        }    #T_dadac8dc_dd27_11e9_9233_b15e3176cbe9row64_col1 {\n",
       "            color:  white;\n",
       "             background-color:  green;\n",
       "        }    #T_dadac8dc_dd27_11e9_9233_b15e3176cbe9row65_col1 {\n",
       "            color:  white;\n",
       "             background-color:  green;\n",
       "        }    #T_dadac8dc_dd27_11e9_9233_b15e3176cbe9row66_col1 {\n",
       "            color:  white;\n",
       "             background-color:  green;\n",
       "        }    #T_dadac8dc_dd27_11e9_9233_b15e3176cbe9row67_col1 {\n",
       "            color:  white;\n",
       "             background-color:  green;\n",
       "        }    #T_dadac8dc_dd27_11e9_9233_b15e3176cbe9row68_col1 {\n",
       "            color:  white;\n",
       "             background-color:  green;\n",
       "        }    #T_dadac8dc_dd27_11e9_9233_b15e3176cbe9row69_col1 {\n",
       "            color:  white;\n",
       "             background-color:  green;\n",
       "        }    #T_dadac8dc_dd27_11e9_9233_b15e3176cbe9row70_col1 {\n",
       "            color:  white;\n",
       "             background-color:  green;\n",
       "        }    #T_dadac8dc_dd27_11e9_9233_b15e3176cbe9row71_col1 {\n",
       "            color:  white;\n",
       "             background-color:  green;\n",
       "        }    #T_dadac8dc_dd27_11e9_9233_b15e3176cbe9row72_col1 {\n",
       "            color:  white;\n",
       "             background-color:  green;\n",
       "        }    #T_dadac8dc_dd27_11e9_9233_b15e3176cbe9row73_col1 {\n",
       "            color:  white;\n",
       "             background-color:  green;\n",
       "        }    #T_dadac8dc_dd27_11e9_9233_b15e3176cbe9row74_col1 {\n",
       "            color:  white;\n",
       "             background-color:  green;\n",
       "        }    #T_dadac8dc_dd27_11e9_9233_b15e3176cbe9row75_col1 {\n",
       "            color:  white;\n",
       "             background-color:  green;\n",
       "        }    #T_dadac8dc_dd27_11e9_9233_b15e3176cbe9row76_col1 {\n",
       "            color:  white;\n",
       "             background-color:  green;\n",
       "        }    #T_dadac8dc_dd27_11e9_9233_b15e3176cbe9row77_col1 {\n",
       "            color:  white;\n",
       "             background-color:  green;\n",
       "        }    #T_dadac8dc_dd27_11e9_9233_b15e3176cbe9row78_col1 {\n",
       "            color:  white;\n",
       "             background-color:  green;\n",
       "        }    #T_dadac8dc_dd27_11e9_9233_b15e3176cbe9row79_col1 {\n",
       "            color:  white;\n",
       "             background-color:  green;\n",
       "        }</style><table id=\"T_dadac8dc_dd27_11e9_9233_b15e3176cbe9\" ><thead>    <tr>        <th class=\"blank level0\" ></th>        <th class=\"col_heading level0 col0\" >name</th>        <th class=\"col_heading level0 col1\" >status</th>        <th class=\"col_heading level0 col2\" >duration</th>        <th class=\"col_heading level0 col3\" >runtime</th>        <th class=\"col_heading level0 col4\" >start</th>        <th class=\"col_heading level0 col5\" >end</th>        <th class=\"col_heading level0 col6\" >log-length</th>        <th class=\"col_heading level0 col7\" >warnings</th>        <th class=\"col_heading level0 col8\" >errors</th>    </tr></thead><tbody>\n",
       "                <tr>\n",
       "                        <th id=\"T_dadac8dc_dd27_11e9_9233_b15e3176cbe9level0_row0\" class=\"row_heading level0 row0\" >0</th>\n",
       "                        <td id=\"T_dadac8dc_dd27_11e9_9233_b15e3176cbe9row0_col0\" class=\"data row0 col0\" ><a href=\"localhost:5050#/homes/fonaro/workspace-data/elasticbench/validation/mc/6min/l10-a2048-c300/i9\">./l10-a2048-c300/i9</a></td>\n",
       "                        <td id=\"T_dadac8dc_dd27_11e9_9233_b15e3176cbe9row0_col1\" class=\"data row0 col1\" >finished</td>\n",
       "                        <td id=\"T_dadac8dc_dd27_11e9_9233_b15e3176cbe9row0_col2\" class=\"data row0 col2\" >1 hours</td>\n",
       "                        <td id=\"T_dadac8dc_dd27_11e9_9233_b15e3176cbe9row0_col3\" class=\"data row0 col3\" >1:02 hours</td>\n",
       "                        <td id=\"T_dadac8dc_dd27_11e9_9233_b15e3176cbe9row0_col4\" class=\"data row0 col4\" >04:26 (2019-09-16)</td>\n",
       "                        <td id=\"T_dadac8dc_dd27_11e9_9233_b15e3176cbe9row0_col5\" class=\"data row0 col5\" >05:29 (2019-09-16)</td>\n",
       "                        <td id=\"T_dadac8dc_dd27_11e9_9233_b15e3176cbe9row0_col6\" class=\"data row0 col6\" >1555</td>\n",
       "                        <td id=\"T_dadac8dc_dd27_11e9_9233_b15e3176cbe9row0_col7\" class=\"data row0 col7\" >0</td>\n",
       "                        <td id=\"T_dadac8dc_dd27_11e9_9233_b15e3176cbe9row0_col8\" class=\"data row0 col8\" >0</td>\n",
       "            </tr>\n",
       "            <tr>\n",
       "                        <th id=\"T_dadac8dc_dd27_11e9_9233_b15e3176cbe9level0_row1\" class=\"row_heading level0 row1\" >1</th>\n",
       "                        <td id=\"T_dadac8dc_dd27_11e9_9233_b15e3176cbe9row1_col0\" class=\"data row1 col0\" ><a href=\"localhost:5050#/homes/fonaro/workspace-data/elasticbench/validation/mc/6min/l10-a2048-c300/i8\">./l10-a2048-c300/i8</a></td>\n",
       "                        <td id=\"T_dadac8dc_dd27_11e9_9233_b15e3176cbe9row1_col1\" class=\"data row1 col1\" >finished</td>\n",
       "                        <td id=\"T_dadac8dc_dd27_11e9_9233_b15e3176cbe9row1_col2\" class=\"data row1 col2\" >1 hours</td>\n",
       "                        <td id=\"T_dadac8dc_dd27_11e9_9233_b15e3176cbe9row1_col3\" class=\"data row1 col3\" >1:02 hours</td>\n",
       "                        <td id=\"T_dadac8dc_dd27_11e9_9233_b15e3176cbe9row1_col4\" class=\"data row1 col4\" >03:24 (2019-09-16)</td>\n",
       "                        <td id=\"T_dadac8dc_dd27_11e9_9233_b15e3176cbe9row1_col5\" class=\"data row1 col5\" >04:26 (2019-09-16)</td>\n",
       "                        <td id=\"T_dadac8dc_dd27_11e9_9233_b15e3176cbe9row1_col6\" class=\"data row1 col6\" >1469</td>\n",
       "                        <td id=\"T_dadac8dc_dd27_11e9_9233_b15e3176cbe9row1_col7\" class=\"data row1 col7\" >0</td>\n",
       "                        <td id=\"T_dadac8dc_dd27_11e9_9233_b15e3176cbe9row1_col8\" class=\"data row1 col8\" >0</td>\n",
       "            </tr>\n",
       "            <tr>\n",
       "                        <th id=\"T_dadac8dc_dd27_11e9_9233_b15e3176cbe9level0_row2\" class=\"row_heading level0 row2\" >2</th>\n",
       "                        <td id=\"T_dadac8dc_dd27_11e9_9233_b15e3176cbe9row2_col0\" class=\"data row2 col0\" ><a href=\"localhost:5050#/homes/fonaro/workspace-data/elasticbench/validation/mc/6min/l10-a2048-c300/i7\">./l10-a2048-c300/i7</a></td>\n",
       "                        <td id=\"T_dadac8dc_dd27_11e9_9233_b15e3176cbe9row2_col1\" class=\"data row2 col1\" >finished</td>\n",
       "                        <td id=\"T_dadac8dc_dd27_11e9_9233_b15e3176cbe9row2_col2\" class=\"data row2 col2\" >1 hours</td>\n",
       "                        <td id=\"T_dadac8dc_dd27_11e9_9233_b15e3176cbe9row2_col3\" class=\"data row2 col3\" >1:02 hours</td>\n",
       "                        <td id=\"T_dadac8dc_dd27_11e9_9233_b15e3176cbe9row2_col4\" class=\"data row2 col4\" >02:22 (2019-09-16)</td>\n",
       "                        <td id=\"T_dadac8dc_dd27_11e9_9233_b15e3176cbe9row2_col5\" class=\"data row2 col5\" >03:24 (2019-09-16)</td>\n",
       "                        <td id=\"T_dadac8dc_dd27_11e9_9233_b15e3176cbe9row2_col6\" class=\"data row2 col6\" >1520</td>\n",
       "                        <td id=\"T_dadac8dc_dd27_11e9_9233_b15e3176cbe9row2_col7\" class=\"data row2 col7\" >0</td>\n",
       "                        <td id=\"T_dadac8dc_dd27_11e9_9233_b15e3176cbe9row2_col8\" class=\"data row2 col8\" >0</td>\n",
       "            </tr>\n",
       "            <tr>\n",
       "                        <th id=\"T_dadac8dc_dd27_11e9_9233_b15e3176cbe9level0_row3\" class=\"row_heading level0 row3\" >3</th>\n",
       "                        <td id=\"T_dadac8dc_dd27_11e9_9233_b15e3176cbe9row3_col0\" class=\"data row3 col0\" ><a href=\"localhost:5050#/homes/fonaro/workspace-data/elasticbench/validation/mc/6min/l10-a2048-c300/i6\">./l10-a2048-c300/i6</a></td>\n",
       "                        <td id=\"T_dadac8dc_dd27_11e9_9233_b15e3176cbe9row3_col1\" class=\"data row3 col1\" >finished</td>\n",
       "                        <td id=\"T_dadac8dc_dd27_11e9_9233_b15e3176cbe9row3_col2\" class=\"data row3 col2\" >1 hours</td>\n",
       "                        <td id=\"T_dadac8dc_dd27_11e9_9233_b15e3176cbe9row3_col3\" class=\"data row3 col3\" >1:02 hours</td>\n",
       "                        <td id=\"T_dadac8dc_dd27_11e9_9233_b15e3176cbe9row3_col4\" class=\"data row3 col4\" >01:19 (2019-09-16)</td>\n",
       "                        <td id=\"T_dadac8dc_dd27_11e9_9233_b15e3176cbe9row3_col5\" class=\"data row3 col5\" >02:21 (2019-09-16)</td>\n",
       "                        <td id=\"T_dadac8dc_dd27_11e9_9233_b15e3176cbe9row3_col6\" class=\"data row3 col6\" >1482</td>\n",
       "                        <td id=\"T_dadac8dc_dd27_11e9_9233_b15e3176cbe9row3_col7\" class=\"data row3 col7\" >0</td>\n",
       "                        <td id=\"T_dadac8dc_dd27_11e9_9233_b15e3176cbe9row3_col8\" class=\"data row3 col8\" >0</td>\n",
       "            </tr>\n",
       "            <tr>\n",
       "                        <th id=\"T_dadac8dc_dd27_11e9_9233_b15e3176cbe9level0_row4\" class=\"row_heading level0 row4\" >4</th>\n",
       "                        <td id=\"T_dadac8dc_dd27_11e9_9233_b15e3176cbe9row4_col0\" class=\"data row4 col0\" ><a href=\"localhost:5050#/homes/fonaro/workspace-data/elasticbench/validation/mc/6min/l10-a2048-c300/i5\">./l10-a2048-c300/i5</a></td>\n",
       "                        <td id=\"T_dadac8dc_dd27_11e9_9233_b15e3176cbe9row4_col1\" class=\"data row4 col1\" >finished</td>\n",
       "                        <td id=\"T_dadac8dc_dd27_11e9_9233_b15e3176cbe9row4_col2\" class=\"data row4 col2\" >1 hours</td>\n",
       "                        <td id=\"T_dadac8dc_dd27_11e9_9233_b15e3176cbe9row4_col3\" class=\"data row4 col3\" >1:02 hours</td>\n",
       "                        <td id=\"T_dadac8dc_dd27_11e9_9233_b15e3176cbe9row4_col4\" class=\"data row4 col4\" >00:17 (2019-09-16)</td>\n",
       "                        <td id=\"T_dadac8dc_dd27_11e9_9233_b15e3176cbe9row4_col5\" class=\"data row4 col5\" >01:19 (2019-09-16)</td>\n",
       "                        <td id=\"T_dadac8dc_dd27_11e9_9233_b15e3176cbe9row4_col6\" class=\"data row4 col6\" >1513</td>\n",
       "                        <td id=\"T_dadac8dc_dd27_11e9_9233_b15e3176cbe9row4_col7\" class=\"data row4 col7\" >0</td>\n",
       "                        <td id=\"T_dadac8dc_dd27_11e9_9233_b15e3176cbe9row4_col8\" class=\"data row4 col8\" >0</td>\n",
       "            </tr>\n",
       "            <tr>\n",
       "                        <th id=\"T_dadac8dc_dd27_11e9_9233_b15e3176cbe9level0_row5\" class=\"row_heading level0 row5\" >5</th>\n",
       "                        <td id=\"T_dadac8dc_dd27_11e9_9233_b15e3176cbe9row5_col0\" class=\"data row5 col0\" ><a href=\"localhost:5050#/homes/fonaro/workspace-data/elasticbench/validation/mc/6min/l10-a2048-c300/i4\">./l10-a2048-c300/i4</a></td>\n",
       "                        <td id=\"T_dadac8dc_dd27_11e9_9233_b15e3176cbe9row5_col1\" class=\"data row5 col1\" >finished</td>\n",
       "                        <td id=\"T_dadac8dc_dd27_11e9_9233_b15e3176cbe9row5_col2\" class=\"data row5 col2\" >1 hours</td>\n",
       "                        <td id=\"T_dadac8dc_dd27_11e9_9233_b15e3176cbe9row5_col3\" class=\"data row5 col3\" >1:02 hours</td>\n",
       "                        <td id=\"T_dadac8dc_dd27_11e9_9233_b15e3176cbe9row5_col4\" class=\"data row5 col4\" >23:15 (2019-09-15)</td>\n",
       "                        <td id=\"T_dadac8dc_dd27_11e9_9233_b15e3176cbe9row5_col5\" class=\"data row5 col5\" >00:17 (2019-09-16)</td>\n",
       "                        <td id=\"T_dadac8dc_dd27_11e9_9233_b15e3176cbe9row5_col6\" class=\"data row5 col6\" >1522</td>\n",
       "                        <td id=\"T_dadac8dc_dd27_11e9_9233_b15e3176cbe9row5_col7\" class=\"data row5 col7\" >0</td>\n",
       "                        <td id=\"T_dadac8dc_dd27_11e9_9233_b15e3176cbe9row5_col8\" class=\"data row5 col8\" >0</td>\n",
       "            </tr>\n",
       "            <tr>\n",
       "                        <th id=\"T_dadac8dc_dd27_11e9_9233_b15e3176cbe9level0_row6\" class=\"row_heading level0 row6\" >6</th>\n",
       "                        <td id=\"T_dadac8dc_dd27_11e9_9233_b15e3176cbe9row6_col0\" class=\"data row6 col0\" ><a href=\"localhost:5050#/homes/fonaro/workspace-data/elasticbench/validation/mc/6min/l10-a2048-c300/i3\">./l10-a2048-c300/i3</a></td>\n",
       "                        <td id=\"T_dadac8dc_dd27_11e9_9233_b15e3176cbe9row6_col1\" class=\"data row6 col1\" >finished</td>\n",
       "                        <td id=\"T_dadac8dc_dd27_11e9_9233_b15e3176cbe9row6_col2\" class=\"data row6 col2\" >1 hours</td>\n",
       "                        <td id=\"T_dadac8dc_dd27_11e9_9233_b15e3176cbe9row6_col3\" class=\"data row6 col3\" >1:02 hours</td>\n",
       "                        <td id=\"T_dadac8dc_dd27_11e9_9233_b15e3176cbe9row6_col4\" class=\"data row6 col4\" >22:12 (2019-09-15)</td>\n",
       "                        <td id=\"T_dadac8dc_dd27_11e9_9233_b15e3176cbe9row6_col5\" class=\"data row6 col5\" >23:15 (2019-09-15)</td>\n",
       "                        <td id=\"T_dadac8dc_dd27_11e9_9233_b15e3176cbe9row6_col6\" class=\"data row6 col6\" >1523</td>\n",
       "                        <td id=\"T_dadac8dc_dd27_11e9_9233_b15e3176cbe9row6_col7\" class=\"data row6 col7\" >0</td>\n",
       "                        <td id=\"T_dadac8dc_dd27_11e9_9233_b15e3176cbe9row6_col8\" class=\"data row6 col8\" >0</td>\n",
       "            </tr>\n",
       "            <tr>\n",
       "                        <th id=\"T_dadac8dc_dd27_11e9_9233_b15e3176cbe9level0_row7\" class=\"row_heading level0 row7\" >7</th>\n",
       "                        <td id=\"T_dadac8dc_dd27_11e9_9233_b15e3176cbe9row7_col0\" class=\"data row7 col0\" ><a href=\"localhost:5050#/homes/fonaro/workspace-data/elasticbench/validation/mc/6min/l10-a2048-c300/i2\">./l10-a2048-c300/i2</a></td>\n",
       "                        <td id=\"T_dadac8dc_dd27_11e9_9233_b15e3176cbe9row7_col1\" class=\"data row7 col1\" >finished</td>\n",
       "                        <td id=\"T_dadac8dc_dd27_11e9_9233_b15e3176cbe9row7_col2\" class=\"data row7 col2\" >1 hours</td>\n",
       "                        <td id=\"T_dadac8dc_dd27_11e9_9233_b15e3176cbe9row7_col3\" class=\"data row7 col3\" >1:02 hours</td>\n",
       "                        <td id=\"T_dadac8dc_dd27_11e9_9233_b15e3176cbe9row7_col4\" class=\"data row7 col4\" >21:10 (2019-09-15)</td>\n",
       "                        <td id=\"T_dadac8dc_dd27_11e9_9233_b15e3176cbe9row7_col5\" class=\"data row7 col5\" >22:12 (2019-09-15)</td>\n",
       "                        <td id=\"T_dadac8dc_dd27_11e9_9233_b15e3176cbe9row7_col6\" class=\"data row7 col6\" >1544</td>\n",
       "                        <td id=\"T_dadac8dc_dd27_11e9_9233_b15e3176cbe9row7_col7\" class=\"data row7 col7\" >0</td>\n",
       "                        <td id=\"T_dadac8dc_dd27_11e9_9233_b15e3176cbe9row7_col8\" class=\"data row7 col8\" >0</td>\n",
       "            </tr>\n",
       "            <tr>\n",
       "                        <th id=\"T_dadac8dc_dd27_11e9_9233_b15e3176cbe9level0_row8\" class=\"row_heading level0 row8\" >8</th>\n",
       "                        <td id=\"T_dadac8dc_dd27_11e9_9233_b15e3176cbe9row8_col0\" class=\"data row8 col0\" ><a href=\"localhost:5050#/homes/fonaro/workspace-data/elasticbench/validation/mc/6min/l10-a2048-c300/i19\">./l10-a2048-c300/i19</a></td>\n",
       "                        <td id=\"T_dadac8dc_dd27_11e9_9233_b15e3176cbe9row8_col1\" class=\"data row8 col1\" >finished</td>\n",
       "                        <td id=\"T_dadac8dc_dd27_11e9_9233_b15e3176cbe9row8_col2\" class=\"data row8 col2\" >1 hours</td>\n",
       "                        <td id=\"T_dadac8dc_dd27_11e9_9233_b15e3176cbe9row8_col3\" class=\"data row8 col3\" >1:02 hours</td>\n",
       "                        <td id=\"T_dadac8dc_dd27_11e9_9233_b15e3176cbe9row8_col4\" class=\"data row8 col4\" >20:08 (2019-09-15)</td>\n",
       "                        <td id=\"T_dadac8dc_dd27_11e9_9233_b15e3176cbe9row8_col5\" class=\"data row8 col5\" >21:10 (2019-09-15)</td>\n",
       "                        <td id=\"T_dadac8dc_dd27_11e9_9233_b15e3176cbe9row8_col6\" class=\"data row8 col6\" >1527</td>\n",
       "                        <td id=\"T_dadac8dc_dd27_11e9_9233_b15e3176cbe9row8_col7\" class=\"data row8 col7\" >0</td>\n",
       "                        <td id=\"T_dadac8dc_dd27_11e9_9233_b15e3176cbe9row8_col8\" class=\"data row8 col8\" >0</td>\n",
       "            </tr>\n",
       "            <tr>\n",
       "                        <th id=\"T_dadac8dc_dd27_11e9_9233_b15e3176cbe9level0_row9\" class=\"row_heading level0 row9\" >9</th>\n",
       "                        <td id=\"T_dadac8dc_dd27_11e9_9233_b15e3176cbe9row9_col0\" class=\"data row9 col0\" ><a href=\"localhost:5050#/homes/fonaro/workspace-data/elasticbench/validation/mc/6min/l10-a2048-c300/i18\">./l10-a2048-c300/i18</a></td>\n",
       "                        <td id=\"T_dadac8dc_dd27_11e9_9233_b15e3176cbe9row9_col1\" class=\"data row9 col1\" >finished</td>\n",
       "                        <td id=\"T_dadac8dc_dd27_11e9_9233_b15e3176cbe9row9_col2\" class=\"data row9 col2\" >1 hours</td>\n",
       "                        <td id=\"T_dadac8dc_dd27_11e9_9233_b15e3176cbe9row9_col3\" class=\"data row9 col3\" >1:02 hours</td>\n",
       "                        <td id=\"T_dadac8dc_dd27_11e9_9233_b15e3176cbe9row9_col4\" class=\"data row9 col4\" >19:05 (2019-09-15)</td>\n",
       "                        <td id=\"T_dadac8dc_dd27_11e9_9233_b15e3176cbe9row9_col5\" class=\"data row9 col5\" >20:08 (2019-09-15)</td>\n",
       "                        <td id=\"T_dadac8dc_dd27_11e9_9233_b15e3176cbe9row9_col6\" class=\"data row9 col6\" >1497</td>\n",
       "                        <td id=\"T_dadac8dc_dd27_11e9_9233_b15e3176cbe9row9_col7\" class=\"data row9 col7\" >0</td>\n",
       "                        <td id=\"T_dadac8dc_dd27_11e9_9233_b15e3176cbe9row9_col8\" class=\"data row9 col8\" >0</td>\n",
       "            </tr>\n",
       "            <tr>\n",
       "                        <th id=\"T_dadac8dc_dd27_11e9_9233_b15e3176cbe9level0_row10\" class=\"row_heading level0 row10\" >10</th>\n",
       "                        <td id=\"T_dadac8dc_dd27_11e9_9233_b15e3176cbe9row10_col0\" class=\"data row10 col0\" ><a href=\"localhost:5050#/homes/fonaro/workspace-data/elasticbench/validation/mc/6min/l10-a2048-c300/i17\">./l10-a2048-c300/i17</a></td>\n",
       "                        <td id=\"T_dadac8dc_dd27_11e9_9233_b15e3176cbe9row10_col1\" class=\"data row10 col1\" >finished</td>\n",
       "                        <td id=\"T_dadac8dc_dd27_11e9_9233_b15e3176cbe9row10_col2\" class=\"data row10 col2\" >1 hours</td>\n",
       "                        <td id=\"T_dadac8dc_dd27_11e9_9233_b15e3176cbe9row10_col3\" class=\"data row10 col3\" >1:02 hours</td>\n",
       "                        <td id=\"T_dadac8dc_dd27_11e9_9233_b15e3176cbe9row10_col4\" class=\"data row10 col4\" >18:03 (2019-09-15)</td>\n",
       "                        <td id=\"T_dadac8dc_dd27_11e9_9233_b15e3176cbe9row10_col5\" class=\"data row10 col5\" >19:05 (2019-09-15)</td>\n",
       "                        <td id=\"T_dadac8dc_dd27_11e9_9233_b15e3176cbe9row10_col6\" class=\"data row10 col6\" >1513</td>\n",
       "                        <td id=\"T_dadac8dc_dd27_11e9_9233_b15e3176cbe9row10_col7\" class=\"data row10 col7\" >0</td>\n",
       "                        <td id=\"T_dadac8dc_dd27_11e9_9233_b15e3176cbe9row10_col8\" class=\"data row10 col8\" >0</td>\n",
       "            </tr>\n",
       "            <tr>\n",
       "                        <th id=\"T_dadac8dc_dd27_11e9_9233_b15e3176cbe9level0_row11\" class=\"row_heading level0 row11\" >11</th>\n",
       "                        <td id=\"T_dadac8dc_dd27_11e9_9233_b15e3176cbe9row11_col0\" class=\"data row11 col0\" ><a href=\"localhost:5050#/homes/fonaro/workspace-data/elasticbench/validation/mc/6min/l10-a2048-c300/i16\">./l10-a2048-c300/i16</a></td>\n",
       "                        <td id=\"T_dadac8dc_dd27_11e9_9233_b15e3176cbe9row11_col1\" class=\"data row11 col1\" >finished</td>\n",
       "                        <td id=\"T_dadac8dc_dd27_11e9_9233_b15e3176cbe9row11_col2\" class=\"data row11 col2\" >1 hours</td>\n",
       "                        <td id=\"T_dadac8dc_dd27_11e9_9233_b15e3176cbe9row11_col3\" class=\"data row11 col3\" >1:02 hours</td>\n",
       "                        <td id=\"T_dadac8dc_dd27_11e9_9233_b15e3176cbe9row11_col4\" class=\"data row11 col4\" >17:01 (2019-09-15)</td>\n",
       "                        <td id=\"T_dadac8dc_dd27_11e9_9233_b15e3176cbe9row11_col5\" class=\"data row11 col5\" >18:03 (2019-09-15)</td>\n",
       "                        <td id=\"T_dadac8dc_dd27_11e9_9233_b15e3176cbe9row11_col6\" class=\"data row11 col6\" >1531</td>\n",
       "                        <td id=\"T_dadac8dc_dd27_11e9_9233_b15e3176cbe9row11_col7\" class=\"data row11 col7\" >0</td>\n",
       "                        <td id=\"T_dadac8dc_dd27_11e9_9233_b15e3176cbe9row11_col8\" class=\"data row11 col8\" >0</td>\n",
       "            </tr>\n",
       "            <tr>\n",
       "                        <th id=\"T_dadac8dc_dd27_11e9_9233_b15e3176cbe9level0_row12\" class=\"row_heading level0 row12\" >12</th>\n",
       "                        <td id=\"T_dadac8dc_dd27_11e9_9233_b15e3176cbe9row12_col0\" class=\"data row12 col0\" ><a href=\"localhost:5050#/homes/fonaro/workspace-data/elasticbench/validation/mc/6min/l10-a2048-c300/i15\">./l10-a2048-c300/i15</a></td>\n",
       "                        <td id=\"T_dadac8dc_dd27_11e9_9233_b15e3176cbe9row12_col1\" class=\"data row12 col1\" >finished</td>\n",
       "                        <td id=\"T_dadac8dc_dd27_11e9_9233_b15e3176cbe9row12_col2\" class=\"data row12 col2\" >1 hours</td>\n",
       "                        <td id=\"T_dadac8dc_dd27_11e9_9233_b15e3176cbe9row12_col3\" class=\"data row12 col3\" >1:02 hours</td>\n",
       "                        <td id=\"T_dadac8dc_dd27_11e9_9233_b15e3176cbe9row12_col4\" class=\"data row12 col4\" >15:58 (2019-09-15)</td>\n",
       "                        <td id=\"T_dadac8dc_dd27_11e9_9233_b15e3176cbe9row12_col5\" class=\"data row12 col5\" >17:01 (2019-09-15)</td>\n",
       "                        <td id=\"T_dadac8dc_dd27_11e9_9233_b15e3176cbe9row12_col6\" class=\"data row12 col6\" >1487</td>\n",
       "                        <td id=\"T_dadac8dc_dd27_11e9_9233_b15e3176cbe9row12_col7\" class=\"data row12 col7\" >0</td>\n",
       "                        <td id=\"T_dadac8dc_dd27_11e9_9233_b15e3176cbe9row12_col8\" class=\"data row12 col8\" >0</td>\n",
       "            </tr>\n",
       "            <tr>\n",
       "                        <th id=\"T_dadac8dc_dd27_11e9_9233_b15e3176cbe9level0_row13\" class=\"row_heading level0 row13\" >13</th>\n",
       "                        <td id=\"T_dadac8dc_dd27_11e9_9233_b15e3176cbe9row13_col0\" class=\"data row13 col0\" ><a href=\"localhost:5050#/homes/fonaro/workspace-data/elasticbench/validation/mc/6min/l10-a2048-c300/i14\">./l10-a2048-c300/i14</a></td>\n",
       "                        <td id=\"T_dadac8dc_dd27_11e9_9233_b15e3176cbe9row13_col1\" class=\"data row13 col1\" >finished</td>\n",
       "                        <td id=\"T_dadac8dc_dd27_11e9_9233_b15e3176cbe9row13_col2\" class=\"data row13 col2\" >1 hours</td>\n",
       "                        <td id=\"T_dadac8dc_dd27_11e9_9233_b15e3176cbe9row13_col3\" class=\"data row13 col3\" >1:02 hours</td>\n",
       "                        <td id=\"T_dadac8dc_dd27_11e9_9233_b15e3176cbe9row13_col4\" class=\"data row13 col4\" >14:56 (2019-09-15)</td>\n",
       "                        <td id=\"T_dadac8dc_dd27_11e9_9233_b15e3176cbe9row13_col5\" class=\"data row13 col5\" >15:58 (2019-09-15)</td>\n",
       "                        <td id=\"T_dadac8dc_dd27_11e9_9233_b15e3176cbe9row13_col6\" class=\"data row13 col6\" >1483</td>\n",
       "                        <td id=\"T_dadac8dc_dd27_11e9_9233_b15e3176cbe9row13_col7\" class=\"data row13 col7\" >0</td>\n",
       "                        <td id=\"T_dadac8dc_dd27_11e9_9233_b15e3176cbe9row13_col8\" class=\"data row13 col8\" >0</td>\n",
       "            </tr>\n",
       "            <tr>\n",
       "                        <th id=\"T_dadac8dc_dd27_11e9_9233_b15e3176cbe9level0_row14\" class=\"row_heading level0 row14\" >14</th>\n",
       "                        <td id=\"T_dadac8dc_dd27_11e9_9233_b15e3176cbe9row14_col0\" class=\"data row14 col0\" ><a href=\"localhost:5050#/homes/fonaro/workspace-data/elasticbench/validation/mc/6min/l10-a2048-c300/i13\">./l10-a2048-c300/i13</a></td>\n",
       "                        <td id=\"T_dadac8dc_dd27_11e9_9233_b15e3176cbe9row14_col1\" class=\"data row14 col1\" >finished</td>\n",
       "                        <td id=\"T_dadac8dc_dd27_11e9_9233_b15e3176cbe9row14_col2\" class=\"data row14 col2\" >1 hours</td>\n",
       "                        <td id=\"T_dadac8dc_dd27_11e9_9233_b15e3176cbe9row14_col3\" class=\"data row14 col3\" >1:02 hours</td>\n",
       "                        <td id=\"T_dadac8dc_dd27_11e9_9233_b15e3176cbe9row14_col4\" class=\"data row14 col4\" >13:54 (2019-09-15)</td>\n",
       "                        <td id=\"T_dadac8dc_dd27_11e9_9233_b15e3176cbe9row14_col5\" class=\"data row14 col5\" >14:56 (2019-09-15)</td>\n",
       "                        <td id=\"T_dadac8dc_dd27_11e9_9233_b15e3176cbe9row14_col6\" class=\"data row14 col6\" >1526</td>\n",
       "                        <td id=\"T_dadac8dc_dd27_11e9_9233_b15e3176cbe9row14_col7\" class=\"data row14 col7\" >0</td>\n",
       "                        <td id=\"T_dadac8dc_dd27_11e9_9233_b15e3176cbe9row14_col8\" class=\"data row14 col8\" >0</td>\n",
       "            </tr>\n",
       "            <tr>\n",
       "                        <th id=\"T_dadac8dc_dd27_11e9_9233_b15e3176cbe9level0_row15\" class=\"row_heading level0 row15\" >15</th>\n",
       "                        <td id=\"T_dadac8dc_dd27_11e9_9233_b15e3176cbe9row15_col0\" class=\"data row15 col0\" ><a href=\"localhost:5050#/homes/fonaro/workspace-data/elasticbench/validation/mc/6min/l10-a2048-c300/i12\">./l10-a2048-c300/i12</a></td>\n",
       "                        <td id=\"T_dadac8dc_dd27_11e9_9233_b15e3176cbe9row15_col1\" class=\"data row15 col1\" >finished</td>\n",
       "                        <td id=\"T_dadac8dc_dd27_11e9_9233_b15e3176cbe9row15_col2\" class=\"data row15 col2\" >1 hours</td>\n",
       "                        <td id=\"T_dadac8dc_dd27_11e9_9233_b15e3176cbe9row15_col3\" class=\"data row15 col3\" >1:02 hours</td>\n",
       "                        <td id=\"T_dadac8dc_dd27_11e9_9233_b15e3176cbe9row15_col4\" class=\"data row15 col4\" >12:51 (2019-09-15)</td>\n",
       "                        <td id=\"T_dadac8dc_dd27_11e9_9233_b15e3176cbe9row15_col5\" class=\"data row15 col5\" >13:54 (2019-09-15)</td>\n",
       "                        <td id=\"T_dadac8dc_dd27_11e9_9233_b15e3176cbe9row15_col6\" class=\"data row15 col6\" >1508</td>\n",
       "                        <td id=\"T_dadac8dc_dd27_11e9_9233_b15e3176cbe9row15_col7\" class=\"data row15 col7\" >0</td>\n",
       "                        <td id=\"T_dadac8dc_dd27_11e9_9233_b15e3176cbe9row15_col8\" class=\"data row15 col8\" >0</td>\n",
       "            </tr>\n",
       "            <tr>\n",
       "                        <th id=\"T_dadac8dc_dd27_11e9_9233_b15e3176cbe9level0_row16\" class=\"row_heading level0 row16\" >16</th>\n",
       "                        <td id=\"T_dadac8dc_dd27_11e9_9233_b15e3176cbe9row16_col0\" class=\"data row16 col0\" ><a href=\"localhost:5050#/homes/fonaro/workspace-data/elasticbench/validation/mc/6min/l10-a2048-c300/i11\">./l10-a2048-c300/i11</a></td>\n",
       "                        <td id=\"T_dadac8dc_dd27_11e9_9233_b15e3176cbe9row16_col1\" class=\"data row16 col1\" >finished</td>\n",
       "                        <td id=\"T_dadac8dc_dd27_11e9_9233_b15e3176cbe9row16_col2\" class=\"data row16 col2\" >1 hours</td>\n",
       "                        <td id=\"T_dadac8dc_dd27_11e9_9233_b15e3176cbe9row16_col3\" class=\"data row16 col3\" >1:02 hours</td>\n",
       "                        <td id=\"T_dadac8dc_dd27_11e9_9233_b15e3176cbe9row16_col4\" class=\"data row16 col4\" >11:49 (2019-09-15)</td>\n",
       "                        <td id=\"T_dadac8dc_dd27_11e9_9233_b15e3176cbe9row16_col5\" class=\"data row16 col5\" >12:51 (2019-09-15)</td>\n",
       "                        <td id=\"T_dadac8dc_dd27_11e9_9233_b15e3176cbe9row16_col6\" class=\"data row16 col6\" >1531</td>\n",
       "                        <td id=\"T_dadac8dc_dd27_11e9_9233_b15e3176cbe9row16_col7\" class=\"data row16 col7\" >0</td>\n",
       "                        <td id=\"T_dadac8dc_dd27_11e9_9233_b15e3176cbe9row16_col8\" class=\"data row16 col8\" >0</td>\n",
       "            </tr>\n",
       "            <tr>\n",
       "                        <th id=\"T_dadac8dc_dd27_11e9_9233_b15e3176cbe9level0_row17\" class=\"row_heading level0 row17\" >17</th>\n",
       "                        <td id=\"T_dadac8dc_dd27_11e9_9233_b15e3176cbe9row17_col0\" class=\"data row17 col0\" ><a href=\"localhost:5050#/homes/fonaro/workspace-data/elasticbench/validation/mc/6min/l10-a2048-c300/i10\">./l10-a2048-c300/i10</a></td>\n",
       "                        <td id=\"T_dadac8dc_dd27_11e9_9233_b15e3176cbe9row17_col1\" class=\"data row17 col1\" >finished</td>\n",
       "                        <td id=\"T_dadac8dc_dd27_11e9_9233_b15e3176cbe9row17_col2\" class=\"data row17 col2\" >1 hours</td>\n",
       "                        <td id=\"T_dadac8dc_dd27_11e9_9233_b15e3176cbe9row17_col3\" class=\"data row17 col3\" >1:02 hours</td>\n",
       "                        <td id=\"T_dadac8dc_dd27_11e9_9233_b15e3176cbe9row17_col4\" class=\"data row17 col4\" >10:47 (2019-09-15)</td>\n",
       "                        <td id=\"T_dadac8dc_dd27_11e9_9233_b15e3176cbe9row17_col5\" class=\"data row17 col5\" >11:49 (2019-09-15)</td>\n",
       "                        <td id=\"T_dadac8dc_dd27_11e9_9233_b15e3176cbe9row17_col6\" class=\"data row17 col6\" >1520</td>\n",
       "                        <td id=\"T_dadac8dc_dd27_11e9_9233_b15e3176cbe9row17_col7\" class=\"data row17 col7\" >0</td>\n",
       "                        <td id=\"T_dadac8dc_dd27_11e9_9233_b15e3176cbe9row17_col8\" class=\"data row17 col8\" >0</td>\n",
       "            </tr>\n",
       "            <tr>\n",
       "                        <th id=\"T_dadac8dc_dd27_11e9_9233_b15e3176cbe9level0_row18\" class=\"row_heading level0 row18\" >18</th>\n",
       "                        <td id=\"T_dadac8dc_dd27_11e9_9233_b15e3176cbe9row18_col0\" class=\"data row18 col0\" ><a href=\"localhost:5050#/homes/fonaro/workspace-data/elasticbench/validation/mc/6min/l10-a2048-c300/i1\">./l10-a2048-c300/i1</a></td>\n",
       "                        <td id=\"T_dadac8dc_dd27_11e9_9233_b15e3176cbe9row18_col1\" class=\"data row18 col1\" >finished</td>\n",
       "                        <td id=\"T_dadac8dc_dd27_11e9_9233_b15e3176cbe9row18_col2\" class=\"data row18 col2\" >1 hours</td>\n",
       "                        <td id=\"T_dadac8dc_dd27_11e9_9233_b15e3176cbe9row18_col3\" class=\"data row18 col3\" >1:02 hours</td>\n",
       "                        <td id=\"T_dadac8dc_dd27_11e9_9233_b15e3176cbe9row18_col4\" class=\"data row18 col4\" >09:44 (2019-09-15)</td>\n",
       "                        <td id=\"T_dadac8dc_dd27_11e9_9233_b15e3176cbe9row18_col5\" class=\"data row18 col5\" >10:47 (2019-09-15)</td>\n",
       "                        <td id=\"T_dadac8dc_dd27_11e9_9233_b15e3176cbe9row18_col6\" class=\"data row18 col6\" >1512</td>\n",
       "                        <td id=\"T_dadac8dc_dd27_11e9_9233_b15e3176cbe9row18_col7\" class=\"data row18 col7\" >0</td>\n",
       "                        <td id=\"T_dadac8dc_dd27_11e9_9233_b15e3176cbe9row18_col8\" class=\"data row18 col8\" >0</td>\n",
       "            </tr>\n",
       "            <tr>\n",
       "                        <th id=\"T_dadac8dc_dd27_11e9_9233_b15e3176cbe9level0_row19\" class=\"row_heading level0 row19\" >19</th>\n",
       "                        <td id=\"T_dadac8dc_dd27_11e9_9233_b15e3176cbe9row19_col0\" class=\"data row19 col0\" ><a href=\"localhost:5050#/homes/fonaro/workspace-data/elasticbench/validation/mc/6min/l10-a2048-c300/i0\">./l10-a2048-c300/i0</a></td>\n",
       "                        <td id=\"T_dadac8dc_dd27_11e9_9233_b15e3176cbe9row19_col1\" class=\"data row19 col1\" >finished</td>\n",
       "                        <td id=\"T_dadac8dc_dd27_11e9_9233_b15e3176cbe9row19_col2\" class=\"data row19 col2\" >1 hours</td>\n",
       "                        <td id=\"T_dadac8dc_dd27_11e9_9233_b15e3176cbe9row19_col3\" class=\"data row19 col3\" >1:02 hours</td>\n",
       "                        <td id=\"T_dadac8dc_dd27_11e9_9233_b15e3176cbe9row19_col4\" class=\"data row19 col4\" >08:42 (2019-09-15)</td>\n",
       "                        <td id=\"T_dadac8dc_dd27_11e9_9233_b15e3176cbe9row19_col5\" class=\"data row19 col5\" >09:44 (2019-09-15)</td>\n",
       "                        <td id=\"T_dadac8dc_dd27_11e9_9233_b15e3176cbe9row19_col6\" class=\"data row19 col6\" >1494</td>\n",
       "                        <td id=\"T_dadac8dc_dd27_11e9_9233_b15e3176cbe9row19_col7\" class=\"data row19 col7\" >0</td>\n",
       "                        <td id=\"T_dadac8dc_dd27_11e9_9233_b15e3176cbe9row19_col8\" class=\"data row19 col8\" >0</td>\n",
       "            </tr>\n",
       "            <tr>\n",
       "                        <th id=\"T_dadac8dc_dd27_11e9_9233_b15e3176cbe9level0_row20\" class=\"row_heading level0 row20\" >20</th>\n",
       "                        <td id=\"T_dadac8dc_dd27_11e9_9233_b15e3176cbe9row20_col0\" class=\"data row20 col0\" ><a href=\"localhost:5050#/homes/fonaro/workspace-data/elasticbench/validation/mc/6min/l10-a2048-c150/i9\">./l10-a2048-c150/i9</a></td>\n",
       "                        <td id=\"T_dadac8dc_dd27_11e9_9233_b15e3176cbe9row20_col1\" class=\"data row20 col1\" >finished</td>\n",
       "                        <td id=\"T_dadac8dc_dd27_11e9_9233_b15e3176cbe9row20_col2\" class=\"data row20 col2\" >1 hours</td>\n",
       "                        <td id=\"T_dadac8dc_dd27_11e9_9233_b15e3176cbe9row20_col3\" class=\"data row20 col3\" >1:02 hours</td>\n",
       "                        <td id=\"T_dadac8dc_dd27_11e9_9233_b15e3176cbe9row20_col4\" class=\"data row20 col4\" >07:40 (2019-09-15)</td>\n",
       "                        <td id=\"T_dadac8dc_dd27_11e9_9233_b15e3176cbe9row20_col5\" class=\"data row20 col5\" >08:42 (2019-09-15)</td>\n",
       "                        <td id=\"T_dadac8dc_dd27_11e9_9233_b15e3176cbe9row20_col6\" class=\"data row20 col6\" >1520</td>\n",
       "                        <td id=\"T_dadac8dc_dd27_11e9_9233_b15e3176cbe9row20_col7\" class=\"data row20 col7\" >0</td>\n",
       "                        <td id=\"T_dadac8dc_dd27_11e9_9233_b15e3176cbe9row20_col8\" class=\"data row20 col8\" >0</td>\n",
       "            </tr>\n",
       "            <tr>\n",
       "                        <th id=\"T_dadac8dc_dd27_11e9_9233_b15e3176cbe9level0_row21\" class=\"row_heading level0 row21\" >21</th>\n",
       "                        <td id=\"T_dadac8dc_dd27_11e9_9233_b15e3176cbe9row21_col0\" class=\"data row21 col0\" ><a href=\"localhost:5050#/homes/fonaro/workspace-data/elasticbench/validation/mc/6min/l10-a2048-c150/i8\">./l10-a2048-c150/i8</a></td>\n",
       "                        <td id=\"T_dadac8dc_dd27_11e9_9233_b15e3176cbe9row21_col1\" class=\"data row21 col1\" >finished</td>\n",
       "                        <td id=\"T_dadac8dc_dd27_11e9_9233_b15e3176cbe9row21_col2\" class=\"data row21 col2\" >1 hours</td>\n",
       "                        <td id=\"T_dadac8dc_dd27_11e9_9233_b15e3176cbe9row21_col3\" class=\"data row21 col3\" >1:02 hours</td>\n",
       "                        <td id=\"T_dadac8dc_dd27_11e9_9233_b15e3176cbe9row21_col4\" class=\"data row21 col4\" >06:37 (2019-09-15)</td>\n",
       "                        <td id=\"T_dadac8dc_dd27_11e9_9233_b15e3176cbe9row21_col5\" class=\"data row21 col5\" >07:40 (2019-09-15)</td>\n",
       "                        <td id=\"T_dadac8dc_dd27_11e9_9233_b15e3176cbe9row21_col6\" class=\"data row21 col6\" >1488</td>\n",
       "                        <td id=\"T_dadac8dc_dd27_11e9_9233_b15e3176cbe9row21_col7\" class=\"data row21 col7\" >0</td>\n",
       "                        <td id=\"T_dadac8dc_dd27_11e9_9233_b15e3176cbe9row21_col8\" class=\"data row21 col8\" >0</td>\n",
       "            </tr>\n",
       "            <tr>\n",
       "                        <th id=\"T_dadac8dc_dd27_11e9_9233_b15e3176cbe9level0_row22\" class=\"row_heading level0 row22\" >22</th>\n",
       "                        <td id=\"T_dadac8dc_dd27_11e9_9233_b15e3176cbe9row22_col0\" class=\"data row22 col0\" ><a href=\"localhost:5050#/homes/fonaro/workspace-data/elasticbench/validation/mc/6min/l10-a2048-c150/i7\">./l10-a2048-c150/i7</a></td>\n",
       "                        <td id=\"T_dadac8dc_dd27_11e9_9233_b15e3176cbe9row22_col1\" class=\"data row22 col1\" >finished</td>\n",
       "                        <td id=\"T_dadac8dc_dd27_11e9_9233_b15e3176cbe9row22_col2\" class=\"data row22 col2\" >1 hours</td>\n",
       "                        <td id=\"T_dadac8dc_dd27_11e9_9233_b15e3176cbe9row22_col3\" class=\"data row22 col3\" >1:02 hours</td>\n",
       "                        <td id=\"T_dadac8dc_dd27_11e9_9233_b15e3176cbe9row22_col4\" class=\"data row22 col4\" >05:35 (2019-09-15)</td>\n",
       "                        <td id=\"T_dadac8dc_dd27_11e9_9233_b15e3176cbe9row22_col5\" class=\"data row22 col5\" >06:37 (2019-09-15)</td>\n",
       "                        <td id=\"T_dadac8dc_dd27_11e9_9233_b15e3176cbe9row22_col6\" class=\"data row22 col6\" >1504</td>\n",
       "                        <td id=\"T_dadac8dc_dd27_11e9_9233_b15e3176cbe9row22_col7\" class=\"data row22 col7\" >0</td>\n",
       "                        <td id=\"T_dadac8dc_dd27_11e9_9233_b15e3176cbe9row22_col8\" class=\"data row22 col8\" >0</td>\n",
       "            </tr>\n",
       "            <tr>\n",
       "                        <th id=\"T_dadac8dc_dd27_11e9_9233_b15e3176cbe9level0_row23\" class=\"row_heading level0 row23\" >23</th>\n",
       "                        <td id=\"T_dadac8dc_dd27_11e9_9233_b15e3176cbe9row23_col0\" class=\"data row23 col0\" ><a href=\"localhost:5050#/homes/fonaro/workspace-data/elasticbench/validation/mc/6min/l10-a2048-c150/i6\">./l10-a2048-c150/i6</a></td>\n",
       "                        <td id=\"T_dadac8dc_dd27_11e9_9233_b15e3176cbe9row23_col1\" class=\"data row23 col1\" >finished</td>\n",
       "                        <td id=\"T_dadac8dc_dd27_11e9_9233_b15e3176cbe9row23_col2\" class=\"data row23 col2\" >1 hours</td>\n",
       "                        <td id=\"T_dadac8dc_dd27_11e9_9233_b15e3176cbe9row23_col3\" class=\"data row23 col3\" >1:02 hours</td>\n",
       "                        <td id=\"T_dadac8dc_dd27_11e9_9233_b15e3176cbe9row23_col4\" class=\"data row23 col4\" >04:32 (2019-09-15)</td>\n",
       "                        <td id=\"T_dadac8dc_dd27_11e9_9233_b15e3176cbe9row23_col5\" class=\"data row23 col5\" >05:35 (2019-09-15)</td>\n",
       "                        <td id=\"T_dadac8dc_dd27_11e9_9233_b15e3176cbe9row23_col6\" class=\"data row23 col6\" >1465</td>\n",
       "                        <td id=\"T_dadac8dc_dd27_11e9_9233_b15e3176cbe9row23_col7\" class=\"data row23 col7\" >0</td>\n",
       "                        <td id=\"T_dadac8dc_dd27_11e9_9233_b15e3176cbe9row23_col8\" class=\"data row23 col8\" >0</td>\n",
       "            </tr>\n",
       "            <tr>\n",
       "                        <th id=\"T_dadac8dc_dd27_11e9_9233_b15e3176cbe9level0_row24\" class=\"row_heading level0 row24\" >24</th>\n",
       "                        <td id=\"T_dadac8dc_dd27_11e9_9233_b15e3176cbe9row24_col0\" class=\"data row24 col0\" ><a href=\"localhost:5050#/homes/fonaro/workspace-data/elasticbench/validation/mc/6min/l10-a2048-c150/i5\">./l10-a2048-c150/i5</a></td>\n",
       "                        <td id=\"T_dadac8dc_dd27_11e9_9233_b15e3176cbe9row24_col1\" class=\"data row24 col1\" >finished</td>\n",
       "                        <td id=\"T_dadac8dc_dd27_11e9_9233_b15e3176cbe9row24_col2\" class=\"data row24 col2\" >1 hours</td>\n",
       "                        <td id=\"T_dadac8dc_dd27_11e9_9233_b15e3176cbe9row24_col3\" class=\"data row24 col3\" >1:02 hours</td>\n",
       "                        <td id=\"T_dadac8dc_dd27_11e9_9233_b15e3176cbe9row24_col4\" class=\"data row24 col4\" >03:30 (2019-09-15)</td>\n",
       "                        <td id=\"T_dadac8dc_dd27_11e9_9233_b15e3176cbe9row24_col5\" class=\"data row24 col5\" >04:32 (2019-09-15)</td>\n",
       "                        <td id=\"T_dadac8dc_dd27_11e9_9233_b15e3176cbe9row24_col6\" class=\"data row24 col6\" >1498</td>\n",
       "                        <td id=\"T_dadac8dc_dd27_11e9_9233_b15e3176cbe9row24_col7\" class=\"data row24 col7\" >0</td>\n",
       "                        <td id=\"T_dadac8dc_dd27_11e9_9233_b15e3176cbe9row24_col8\" class=\"data row24 col8\" >0</td>\n",
       "            </tr>\n",
       "            <tr>\n",
       "                        <th id=\"T_dadac8dc_dd27_11e9_9233_b15e3176cbe9level0_row25\" class=\"row_heading level0 row25\" >25</th>\n",
       "                        <td id=\"T_dadac8dc_dd27_11e9_9233_b15e3176cbe9row25_col0\" class=\"data row25 col0\" ><a href=\"localhost:5050#/homes/fonaro/workspace-data/elasticbench/validation/mc/6min/l10-a2048-c150/i4\">./l10-a2048-c150/i4</a></td>\n",
       "                        <td id=\"T_dadac8dc_dd27_11e9_9233_b15e3176cbe9row25_col1\" class=\"data row25 col1\" >finished</td>\n",
       "                        <td id=\"T_dadac8dc_dd27_11e9_9233_b15e3176cbe9row25_col2\" class=\"data row25 col2\" >1 hours</td>\n",
       "                        <td id=\"T_dadac8dc_dd27_11e9_9233_b15e3176cbe9row25_col3\" class=\"data row25 col3\" >1:02 hours</td>\n",
       "                        <td id=\"T_dadac8dc_dd27_11e9_9233_b15e3176cbe9row25_col4\" class=\"data row25 col4\" >02:27 (2019-09-15)</td>\n",
       "                        <td id=\"T_dadac8dc_dd27_11e9_9233_b15e3176cbe9row25_col5\" class=\"data row25 col5\" >03:30 (2019-09-15)</td>\n",
       "                        <td id=\"T_dadac8dc_dd27_11e9_9233_b15e3176cbe9row25_col6\" class=\"data row25 col6\" >1489</td>\n",
       "                        <td id=\"T_dadac8dc_dd27_11e9_9233_b15e3176cbe9row25_col7\" class=\"data row25 col7\" >0</td>\n",
       "                        <td id=\"T_dadac8dc_dd27_11e9_9233_b15e3176cbe9row25_col8\" class=\"data row25 col8\" >0</td>\n",
       "            </tr>\n",
       "            <tr>\n",
       "                        <th id=\"T_dadac8dc_dd27_11e9_9233_b15e3176cbe9level0_row26\" class=\"row_heading level0 row26\" >26</th>\n",
       "                        <td id=\"T_dadac8dc_dd27_11e9_9233_b15e3176cbe9row26_col0\" class=\"data row26 col0\" ><a href=\"localhost:5050#/homes/fonaro/workspace-data/elasticbench/validation/mc/6min/l10-a2048-c150/i3\">./l10-a2048-c150/i3</a></td>\n",
       "                        <td id=\"T_dadac8dc_dd27_11e9_9233_b15e3176cbe9row26_col1\" class=\"data row26 col1\" >finished</td>\n",
       "                        <td id=\"T_dadac8dc_dd27_11e9_9233_b15e3176cbe9row26_col2\" class=\"data row26 col2\" >1 hours</td>\n",
       "                        <td id=\"T_dadac8dc_dd27_11e9_9233_b15e3176cbe9row26_col3\" class=\"data row26 col3\" >1:02 hours</td>\n",
       "                        <td id=\"T_dadac8dc_dd27_11e9_9233_b15e3176cbe9row26_col4\" class=\"data row26 col4\" >01:25 (2019-09-15)</td>\n",
       "                        <td id=\"T_dadac8dc_dd27_11e9_9233_b15e3176cbe9row26_col5\" class=\"data row26 col5\" >02:27 (2019-09-15)</td>\n",
       "                        <td id=\"T_dadac8dc_dd27_11e9_9233_b15e3176cbe9row26_col6\" class=\"data row26 col6\" >1512</td>\n",
       "                        <td id=\"T_dadac8dc_dd27_11e9_9233_b15e3176cbe9row26_col7\" class=\"data row26 col7\" >0</td>\n",
       "                        <td id=\"T_dadac8dc_dd27_11e9_9233_b15e3176cbe9row26_col8\" class=\"data row26 col8\" >0</td>\n",
       "            </tr>\n",
       "            <tr>\n",
       "                        <th id=\"T_dadac8dc_dd27_11e9_9233_b15e3176cbe9level0_row27\" class=\"row_heading level0 row27\" >27</th>\n",
       "                        <td id=\"T_dadac8dc_dd27_11e9_9233_b15e3176cbe9row27_col0\" class=\"data row27 col0\" ><a href=\"localhost:5050#/homes/fonaro/workspace-data/elasticbench/validation/mc/6min/l10-a2048-c150/i2\">./l10-a2048-c150/i2</a></td>\n",
       "                        <td id=\"T_dadac8dc_dd27_11e9_9233_b15e3176cbe9row27_col1\" class=\"data row27 col1\" >finished</td>\n",
       "                        <td id=\"T_dadac8dc_dd27_11e9_9233_b15e3176cbe9row27_col2\" class=\"data row27 col2\" >1 hours</td>\n",
       "                        <td id=\"T_dadac8dc_dd27_11e9_9233_b15e3176cbe9row27_col3\" class=\"data row27 col3\" >1:02 hours</td>\n",
       "                        <td id=\"T_dadac8dc_dd27_11e9_9233_b15e3176cbe9row27_col4\" class=\"data row27 col4\" >00:22 (2019-09-15)</td>\n",
       "                        <td id=\"T_dadac8dc_dd27_11e9_9233_b15e3176cbe9row27_col5\" class=\"data row27 col5\" >01:25 (2019-09-15)</td>\n",
       "                        <td id=\"T_dadac8dc_dd27_11e9_9233_b15e3176cbe9row27_col6\" class=\"data row27 col6\" >1547</td>\n",
       "                        <td id=\"T_dadac8dc_dd27_11e9_9233_b15e3176cbe9row27_col7\" class=\"data row27 col7\" >0</td>\n",
       "                        <td id=\"T_dadac8dc_dd27_11e9_9233_b15e3176cbe9row27_col8\" class=\"data row27 col8\" >0</td>\n",
       "            </tr>\n",
       "            <tr>\n",
       "                        <th id=\"T_dadac8dc_dd27_11e9_9233_b15e3176cbe9level0_row28\" class=\"row_heading level0 row28\" >28</th>\n",
       "                        <td id=\"T_dadac8dc_dd27_11e9_9233_b15e3176cbe9row28_col0\" class=\"data row28 col0\" ><a href=\"localhost:5050#/homes/fonaro/workspace-data/elasticbench/validation/mc/6min/l10-a2048-c150/i19\">./l10-a2048-c150/i19</a></td>\n",
       "                        <td id=\"T_dadac8dc_dd27_11e9_9233_b15e3176cbe9row28_col1\" class=\"data row28 col1\" >finished</td>\n",
       "                        <td id=\"T_dadac8dc_dd27_11e9_9233_b15e3176cbe9row28_col2\" class=\"data row28 col2\" >1 hours</td>\n",
       "                        <td id=\"T_dadac8dc_dd27_11e9_9233_b15e3176cbe9row28_col3\" class=\"data row28 col3\" >1:02 hours</td>\n",
       "                        <td id=\"T_dadac8dc_dd27_11e9_9233_b15e3176cbe9row28_col4\" class=\"data row28 col4\" >23:20 (2019-09-14)</td>\n",
       "                        <td id=\"T_dadac8dc_dd27_11e9_9233_b15e3176cbe9row28_col5\" class=\"data row28 col5\" >00:22 (2019-09-15)</td>\n",
       "                        <td id=\"T_dadac8dc_dd27_11e9_9233_b15e3176cbe9row28_col6\" class=\"data row28 col6\" >1523</td>\n",
       "                        <td id=\"T_dadac8dc_dd27_11e9_9233_b15e3176cbe9row28_col7\" class=\"data row28 col7\" >0</td>\n",
       "                        <td id=\"T_dadac8dc_dd27_11e9_9233_b15e3176cbe9row28_col8\" class=\"data row28 col8\" >0</td>\n",
       "            </tr>\n",
       "            <tr>\n",
       "                        <th id=\"T_dadac8dc_dd27_11e9_9233_b15e3176cbe9level0_row29\" class=\"row_heading level0 row29\" >29</th>\n",
       "                        <td id=\"T_dadac8dc_dd27_11e9_9233_b15e3176cbe9row29_col0\" class=\"data row29 col0\" ><a href=\"localhost:5050#/homes/fonaro/workspace-data/elasticbench/validation/mc/6min/l10-a2048-c150/i18\">./l10-a2048-c150/i18</a></td>\n",
       "                        <td id=\"T_dadac8dc_dd27_11e9_9233_b15e3176cbe9row29_col1\" class=\"data row29 col1\" >finished</td>\n",
       "                        <td id=\"T_dadac8dc_dd27_11e9_9233_b15e3176cbe9row29_col2\" class=\"data row29 col2\" >1 hours</td>\n",
       "                        <td id=\"T_dadac8dc_dd27_11e9_9233_b15e3176cbe9row29_col3\" class=\"data row29 col3\" >1:02 hours</td>\n",
       "                        <td id=\"T_dadac8dc_dd27_11e9_9233_b15e3176cbe9row29_col4\" class=\"data row29 col4\" >22:18 (2019-09-14)</td>\n",
       "                        <td id=\"T_dadac8dc_dd27_11e9_9233_b15e3176cbe9row29_col5\" class=\"data row29 col5\" >23:20 (2019-09-14)</td>\n",
       "                        <td id=\"T_dadac8dc_dd27_11e9_9233_b15e3176cbe9row29_col6\" class=\"data row29 col6\" >1487</td>\n",
       "                        <td id=\"T_dadac8dc_dd27_11e9_9233_b15e3176cbe9row29_col7\" class=\"data row29 col7\" >0</td>\n",
       "                        <td id=\"T_dadac8dc_dd27_11e9_9233_b15e3176cbe9row29_col8\" class=\"data row29 col8\" >0</td>\n",
       "            </tr>\n",
       "            <tr>\n",
       "                        <th id=\"T_dadac8dc_dd27_11e9_9233_b15e3176cbe9level0_row30\" class=\"row_heading level0 row30\" >30</th>\n",
       "                        <td id=\"T_dadac8dc_dd27_11e9_9233_b15e3176cbe9row30_col0\" class=\"data row30 col0\" ><a href=\"localhost:5050#/homes/fonaro/workspace-data/elasticbench/validation/mc/6min/l10-a2048-c150/i17\">./l10-a2048-c150/i17</a></td>\n",
       "                        <td id=\"T_dadac8dc_dd27_11e9_9233_b15e3176cbe9row30_col1\" class=\"data row30 col1\" >finished</td>\n",
       "                        <td id=\"T_dadac8dc_dd27_11e9_9233_b15e3176cbe9row30_col2\" class=\"data row30 col2\" >1 hours</td>\n",
       "                        <td id=\"T_dadac8dc_dd27_11e9_9233_b15e3176cbe9row30_col3\" class=\"data row30 col3\" >1:02 hours</td>\n",
       "                        <td id=\"T_dadac8dc_dd27_11e9_9233_b15e3176cbe9row30_col4\" class=\"data row30 col4\" >21:15 (2019-09-14)</td>\n",
       "                        <td id=\"T_dadac8dc_dd27_11e9_9233_b15e3176cbe9row30_col5\" class=\"data row30 col5\" >22:18 (2019-09-14)</td>\n",
       "                        <td id=\"T_dadac8dc_dd27_11e9_9233_b15e3176cbe9row30_col6\" class=\"data row30 col6\" >1534</td>\n",
       "                        <td id=\"T_dadac8dc_dd27_11e9_9233_b15e3176cbe9row30_col7\" class=\"data row30 col7\" >0</td>\n",
       "                        <td id=\"T_dadac8dc_dd27_11e9_9233_b15e3176cbe9row30_col8\" class=\"data row30 col8\" >0</td>\n",
       "            </tr>\n",
       "            <tr>\n",
       "                        <th id=\"T_dadac8dc_dd27_11e9_9233_b15e3176cbe9level0_row31\" class=\"row_heading level0 row31\" >31</th>\n",
       "                        <td id=\"T_dadac8dc_dd27_11e9_9233_b15e3176cbe9row31_col0\" class=\"data row31 col0\" ><a href=\"localhost:5050#/homes/fonaro/workspace-data/elasticbench/validation/mc/6min/l10-a2048-c150/i16\">./l10-a2048-c150/i16</a></td>\n",
       "                        <td id=\"T_dadac8dc_dd27_11e9_9233_b15e3176cbe9row31_col1\" class=\"data row31 col1\" >finished</td>\n",
       "                        <td id=\"T_dadac8dc_dd27_11e9_9233_b15e3176cbe9row31_col2\" class=\"data row31 col2\" >1 hours</td>\n",
       "                        <td id=\"T_dadac8dc_dd27_11e9_9233_b15e3176cbe9row31_col3\" class=\"data row31 col3\" >1:02 hours</td>\n",
       "                        <td id=\"T_dadac8dc_dd27_11e9_9233_b15e3176cbe9row31_col4\" class=\"data row31 col4\" >20:13 (2019-09-14)</td>\n",
       "                        <td id=\"T_dadac8dc_dd27_11e9_9233_b15e3176cbe9row31_col5\" class=\"data row31 col5\" >21:15 (2019-09-14)</td>\n",
       "                        <td id=\"T_dadac8dc_dd27_11e9_9233_b15e3176cbe9row31_col6\" class=\"data row31 col6\" >1504</td>\n",
       "                        <td id=\"T_dadac8dc_dd27_11e9_9233_b15e3176cbe9row31_col7\" class=\"data row31 col7\" >0</td>\n",
       "                        <td id=\"T_dadac8dc_dd27_11e9_9233_b15e3176cbe9row31_col8\" class=\"data row31 col8\" >0</td>\n",
       "            </tr>\n",
       "            <tr>\n",
       "                        <th id=\"T_dadac8dc_dd27_11e9_9233_b15e3176cbe9level0_row32\" class=\"row_heading level0 row32\" >32</th>\n",
       "                        <td id=\"T_dadac8dc_dd27_11e9_9233_b15e3176cbe9row32_col0\" class=\"data row32 col0\" ><a href=\"localhost:5050#/homes/fonaro/workspace-data/elasticbench/validation/mc/6min/l10-a2048-c150/i15\">./l10-a2048-c150/i15</a></td>\n",
       "                        <td id=\"T_dadac8dc_dd27_11e9_9233_b15e3176cbe9row32_col1\" class=\"data row32 col1\" >finished</td>\n",
       "                        <td id=\"T_dadac8dc_dd27_11e9_9233_b15e3176cbe9row32_col2\" class=\"data row32 col2\" >1 hours</td>\n",
       "                        <td id=\"T_dadac8dc_dd27_11e9_9233_b15e3176cbe9row32_col3\" class=\"data row32 col3\" >1:02 hours</td>\n",
       "                        <td id=\"T_dadac8dc_dd27_11e9_9233_b15e3176cbe9row32_col4\" class=\"data row32 col4\" >19:11 (2019-09-14)</td>\n",
       "                        <td id=\"T_dadac8dc_dd27_11e9_9233_b15e3176cbe9row32_col5\" class=\"data row32 col5\" >20:13 (2019-09-14)</td>\n",
       "                        <td id=\"T_dadac8dc_dd27_11e9_9233_b15e3176cbe9row32_col6\" class=\"data row32 col6\" >1516</td>\n",
       "                        <td id=\"T_dadac8dc_dd27_11e9_9233_b15e3176cbe9row32_col7\" class=\"data row32 col7\" >0</td>\n",
       "                        <td id=\"T_dadac8dc_dd27_11e9_9233_b15e3176cbe9row32_col8\" class=\"data row32 col8\" >0</td>\n",
       "            </tr>\n",
       "            <tr>\n",
       "                        <th id=\"T_dadac8dc_dd27_11e9_9233_b15e3176cbe9level0_row33\" class=\"row_heading level0 row33\" >33</th>\n",
       "                        <td id=\"T_dadac8dc_dd27_11e9_9233_b15e3176cbe9row33_col0\" class=\"data row33 col0\" ><a href=\"localhost:5050#/homes/fonaro/workspace-data/elasticbench/validation/mc/6min/l10-a2048-c150/i14\">./l10-a2048-c150/i14</a></td>\n",
       "                        <td id=\"T_dadac8dc_dd27_11e9_9233_b15e3176cbe9row33_col1\" class=\"data row33 col1\" >finished</td>\n",
       "                        <td id=\"T_dadac8dc_dd27_11e9_9233_b15e3176cbe9row33_col2\" class=\"data row33 col2\" >1 hours</td>\n",
       "                        <td id=\"T_dadac8dc_dd27_11e9_9233_b15e3176cbe9row33_col3\" class=\"data row33 col3\" >1:02 hours</td>\n",
       "                        <td id=\"T_dadac8dc_dd27_11e9_9233_b15e3176cbe9row33_col4\" class=\"data row33 col4\" >18:08 (2019-09-14)</td>\n",
       "                        <td id=\"T_dadac8dc_dd27_11e9_9233_b15e3176cbe9row33_col5\" class=\"data row33 col5\" >19:10 (2019-09-14)</td>\n",
       "                        <td id=\"T_dadac8dc_dd27_11e9_9233_b15e3176cbe9row33_col6\" class=\"data row33 col6\" >1545</td>\n",
       "                        <td id=\"T_dadac8dc_dd27_11e9_9233_b15e3176cbe9row33_col7\" class=\"data row33 col7\" >0</td>\n",
       "                        <td id=\"T_dadac8dc_dd27_11e9_9233_b15e3176cbe9row33_col8\" class=\"data row33 col8\" >0</td>\n",
       "            </tr>\n",
       "            <tr>\n",
       "                        <th id=\"T_dadac8dc_dd27_11e9_9233_b15e3176cbe9level0_row34\" class=\"row_heading level0 row34\" >34</th>\n",
       "                        <td id=\"T_dadac8dc_dd27_11e9_9233_b15e3176cbe9row34_col0\" class=\"data row34 col0\" ><a href=\"localhost:5050#/homes/fonaro/workspace-data/elasticbench/validation/mc/6min/l10-a2048-c150/i13\">./l10-a2048-c150/i13</a></td>\n",
       "                        <td id=\"T_dadac8dc_dd27_11e9_9233_b15e3176cbe9row34_col1\" class=\"data row34 col1\" >finished</td>\n",
       "                        <td id=\"T_dadac8dc_dd27_11e9_9233_b15e3176cbe9row34_col2\" class=\"data row34 col2\" >1 hours</td>\n",
       "                        <td id=\"T_dadac8dc_dd27_11e9_9233_b15e3176cbe9row34_col3\" class=\"data row34 col3\" >1:02 hours</td>\n",
       "                        <td id=\"T_dadac8dc_dd27_11e9_9233_b15e3176cbe9row34_col4\" class=\"data row34 col4\" >17:06 (2019-09-14)</td>\n",
       "                        <td id=\"T_dadac8dc_dd27_11e9_9233_b15e3176cbe9row34_col5\" class=\"data row34 col5\" >18:08 (2019-09-14)</td>\n",
       "                        <td id=\"T_dadac8dc_dd27_11e9_9233_b15e3176cbe9row34_col6\" class=\"data row34 col6\" >1466</td>\n",
       "                        <td id=\"T_dadac8dc_dd27_11e9_9233_b15e3176cbe9row34_col7\" class=\"data row34 col7\" >0</td>\n",
       "                        <td id=\"T_dadac8dc_dd27_11e9_9233_b15e3176cbe9row34_col8\" class=\"data row34 col8\" >0</td>\n",
       "            </tr>\n",
       "            <tr>\n",
       "                        <th id=\"T_dadac8dc_dd27_11e9_9233_b15e3176cbe9level0_row35\" class=\"row_heading level0 row35\" >35</th>\n",
       "                        <td id=\"T_dadac8dc_dd27_11e9_9233_b15e3176cbe9row35_col0\" class=\"data row35 col0\" ><a href=\"localhost:5050#/homes/fonaro/workspace-data/elasticbench/validation/mc/6min/l10-a2048-c150/i12\">./l10-a2048-c150/i12</a></td>\n",
       "                        <td id=\"T_dadac8dc_dd27_11e9_9233_b15e3176cbe9row35_col1\" class=\"data row35 col1\" >finished</td>\n",
       "                        <td id=\"T_dadac8dc_dd27_11e9_9233_b15e3176cbe9row35_col2\" class=\"data row35 col2\" >1 hours</td>\n",
       "                        <td id=\"T_dadac8dc_dd27_11e9_9233_b15e3176cbe9row35_col3\" class=\"data row35 col3\" >1:02 hours</td>\n",
       "                        <td id=\"T_dadac8dc_dd27_11e9_9233_b15e3176cbe9row35_col4\" class=\"data row35 col4\" >16:03 (2019-09-14)</td>\n",
       "                        <td id=\"T_dadac8dc_dd27_11e9_9233_b15e3176cbe9row35_col5\" class=\"data row35 col5\" >17:06 (2019-09-14)</td>\n",
       "                        <td id=\"T_dadac8dc_dd27_11e9_9233_b15e3176cbe9row35_col6\" class=\"data row35 col6\" >1504</td>\n",
       "                        <td id=\"T_dadac8dc_dd27_11e9_9233_b15e3176cbe9row35_col7\" class=\"data row35 col7\" >0</td>\n",
       "                        <td id=\"T_dadac8dc_dd27_11e9_9233_b15e3176cbe9row35_col8\" class=\"data row35 col8\" >0</td>\n",
       "            </tr>\n",
       "            <tr>\n",
       "                        <th id=\"T_dadac8dc_dd27_11e9_9233_b15e3176cbe9level0_row36\" class=\"row_heading level0 row36\" >36</th>\n",
       "                        <td id=\"T_dadac8dc_dd27_11e9_9233_b15e3176cbe9row36_col0\" class=\"data row36 col0\" ><a href=\"localhost:5050#/homes/fonaro/workspace-data/elasticbench/validation/mc/6min/l10-a2048-c150/i11\">./l10-a2048-c150/i11</a></td>\n",
       "                        <td id=\"T_dadac8dc_dd27_11e9_9233_b15e3176cbe9row36_col1\" class=\"data row36 col1\" >finished</td>\n",
       "                        <td id=\"T_dadac8dc_dd27_11e9_9233_b15e3176cbe9row36_col2\" class=\"data row36 col2\" >1 hours</td>\n",
       "                        <td id=\"T_dadac8dc_dd27_11e9_9233_b15e3176cbe9row36_col3\" class=\"data row36 col3\" >1:02 hours</td>\n",
       "                        <td id=\"T_dadac8dc_dd27_11e9_9233_b15e3176cbe9row36_col4\" class=\"data row36 col4\" >15:01 (2019-09-14)</td>\n",
       "                        <td id=\"T_dadac8dc_dd27_11e9_9233_b15e3176cbe9row36_col5\" class=\"data row36 col5\" >16:03 (2019-09-14)</td>\n",
       "                        <td id=\"T_dadac8dc_dd27_11e9_9233_b15e3176cbe9row36_col6\" class=\"data row36 col6\" >1484</td>\n",
       "                        <td id=\"T_dadac8dc_dd27_11e9_9233_b15e3176cbe9row36_col7\" class=\"data row36 col7\" >0</td>\n",
       "                        <td id=\"T_dadac8dc_dd27_11e9_9233_b15e3176cbe9row36_col8\" class=\"data row36 col8\" >0</td>\n",
       "            </tr>\n",
       "            <tr>\n",
       "                        <th id=\"T_dadac8dc_dd27_11e9_9233_b15e3176cbe9level0_row37\" class=\"row_heading level0 row37\" >37</th>\n",
       "                        <td id=\"T_dadac8dc_dd27_11e9_9233_b15e3176cbe9row37_col0\" class=\"data row37 col0\" ><a href=\"localhost:5050#/homes/fonaro/workspace-data/elasticbench/validation/mc/6min/l10-a2048-c150/i10\">./l10-a2048-c150/i10</a></td>\n",
       "                        <td id=\"T_dadac8dc_dd27_11e9_9233_b15e3176cbe9row37_col1\" class=\"data row37 col1\" >finished</td>\n",
       "                        <td id=\"T_dadac8dc_dd27_11e9_9233_b15e3176cbe9row37_col2\" class=\"data row37 col2\" >1 hours</td>\n",
       "                        <td id=\"T_dadac8dc_dd27_11e9_9233_b15e3176cbe9row37_col3\" class=\"data row37 col3\" >1:02 hours</td>\n",
       "                        <td id=\"T_dadac8dc_dd27_11e9_9233_b15e3176cbe9row37_col4\" class=\"data row37 col4\" >13:59 (2019-09-14)</td>\n",
       "                        <td id=\"T_dadac8dc_dd27_11e9_9233_b15e3176cbe9row37_col5\" class=\"data row37 col5\" >15:01 (2019-09-14)</td>\n",
       "                        <td id=\"T_dadac8dc_dd27_11e9_9233_b15e3176cbe9row37_col6\" class=\"data row37 col6\" >1492</td>\n",
       "                        <td id=\"T_dadac8dc_dd27_11e9_9233_b15e3176cbe9row37_col7\" class=\"data row37 col7\" >0</td>\n",
       "                        <td id=\"T_dadac8dc_dd27_11e9_9233_b15e3176cbe9row37_col8\" class=\"data row37 col8\" >0</td>\n",
       "            </tr>\n",
       "            <tr>\n",
       "                        <th id=\"T_dadac8dc_dd27_11e9_9233_b15e3176cbe9level0_row38\" class=\"row_heading level0 row38\" >38</th>\n",
       "                        <td id=\"T_dadac8dc_dd27_11e9_9233_b15e3176cbe9row38_col0\" class=\"data row38 col0\" ><a href=\"localhost:5050#/homes/fonaro/workspace-data/elasticbench/validation/mc/6min/l10-a2048-c150/i1\">./l10-a2048-c150/i1</a></td>\n",
       "                        <td id=\"T_dadac8dc_dd27_11e9_9233_b15e3176cbe9row38_col1\" class=\"data row38 col1\" >finished</td>\n",
       "                        <td id=\"T_dadac8dc_dd27_11e9_9233_b15e3176cbe9row38_col2\" class=\"data row38 col2\" >1 hours</td>\n",
       "                        <td id=\"T_dadac8dc_dd27_11e9_9233_b15e3176cbe9row38_col3\" class=\"data row38 col3\" >1:02 hours</td>\n",
       "                        <td id=\"T_dadac8dc_dd27_11e9_9233_b15e3176cbe9row38_col4\" class=\"data row38 col4\" >12:56 (2019-09-14)</td>\n",
       "                        <td id=\"T_dadac8dc_dd27_11e9_9233_b15e3176cbe9row38_col5\" class=\"data row38 col5\" >13:59 (2019-09-14)</td>\n",
       "                        <td id=\"T_dadac8dc_dd27_11e9_9233_b15e3176cbe9row38_col6\" class=\"data row38 col6\" >1502</td>\n",
       "                        <td id=\"T_dadac8dc_dd27_11e9_9233_b15e3176cbe9row38_col7\" class=\"data row38 col7\" >0</td>\n",
       "                        <td id=\"T_dadac8dc_dd27_11e9_9233_b15e3176cbe9row38_col8\" class=\"data row38 col8\" >0</td>\n",
       "            </tr>\n",
       "            <tr>\n",
       "                        <th id=\"T_dadac8dc_dd27_11e9_9233_b15e3176cbe9level0_row39\" class=\"row_heading level0 row39\" >39</th>\n",
       "                        <td id=\"T_dadac8dc_dd27_11e9_9233_b15e3176cbe9row39_col0\" class=\"data row39 col0\" ><a href=\"localhost:5050#/homes/fonaro/workspace-data/elasticbench/validation/mc/6min/l10-a2048-c150/i0\">./l10-a2048-c150/i0</a></td>\n",
       "                        <td id=\"T_dadac8dc_dd27_11e9_9233_b15e3176cbe9row39_col1\" class=\"data row39 col1\" >finished</td>\n",
       "                        <td id=\"T_dadac8dc_dd27_11e9_9233_b15e3176cbe9row39_col2\" class=\"data row39 col2\" >1 hours</td>\n",
       "                        <td id=\"T_dadac8dc_dd27_11e9_9233_b15e3176cbe9row39_col3\" class=\"data row39 col3\" >1:02 hours</td>\n",
       "                        <td id=\"T_dadac8dc_dd27_11e9_9233_b15e3176cbe9row39_col4\" class=\"data row39 col4\" >11:54 (2019-09-14)</td>\n",
       "                        <td id=\"T_dadac8dc_dd27_11e9_9233_b15e3176cbe9row39_col5\" class=\"data row39 col5\" >12:56 (2019-09-14)</td>\n",
       "                        <td id=\"T_dadac8dc_dd27_11e9_9233_b15e3176cbe9row39_col6\" class=\"data row39 col6\" >1452</td>\n",
       "                        <td id=\"T_dadac8dc_dd27_11e9_9233_b15e3176cbe9row39_col7\" class=\"data row39 col7\" >0</td>\n",
       "                        <td id=\"T_dadac8dc_dd27_11e9_9233_b15e3176cbe9row39_col8\" class=\"data row39 col8\" >0</td>\n",
       "            </tr>\n",
       "            <tr>\n",
       "                        <th id=\"T_dadac8dc_dd27_11e9_9233_b15e3176cbe9level0_row40\" class=\"row_heading level0 row40\" >40</th>\n",
       "                        <td id=\"T_dadac8dc_dd27_11e9_9233_b15e3176cbe9row40_col0\" class=\"data row40 col0\" ><a href=\"localhost:5050#/homes/fonaro/workspace-data/elasticbench/validation/mc/6min/l10-a2048-c100/i9\">./l10-a2048-c100/i9</a></td>\n",
       "                        <td id=\"T_dadac8dc_dd27_11e9_9233_b15e3176cbe9row40_col1\" class=\"data row40 col1\" >finished</td>\n",
       "                        <td id=\"T_dadac8dc_dd27_11e9_9233_b15e3176cbe9row40_col2\" class=\"data row40 col2\" >1 hours</td>\n",
       "                        <td id=\"T_dadac8dc_dd27_11e9_9233_b15e3176cbe9row40_col3\" class=\"data row40 col3\" >1:02 hours</td>\n",
       "                        <td id=\"T_dadac8dc_dd27_11e9_9233_b15e3176cbe9row40_col4\" class=\"data row40 col4\" >10:52 (2019-09-14)</td>\n",
       "                        <td id=\"T_dadac8dc_dd27_11e9_9233_b15e3176cbe9row40_col5\" class=\"data row40 col5\" >11:54 (2019-09-14)</td>\n",
       "                        <td id=\"T_dadac8dc_dd27_11e9_9233_b15e3176cbe9row40_col6\" class=\"data row40 col6\" >1487</td>\n",
       "                        <td id=\"T_dadac8dc_dd27_11e9_9233_b15e3176cbe9row40_col7\" class=\"data row40 col7\" >0</td>\n",
       "                        <td id=\"T_dadac8dc_dd27_11e9_9233_b15e3176cbe9row40_col8\" class=\"data row40 col8\" >0</td>\n",
       "            </tr>\n",
       "            <tr>\n",
       "                        <th id=\"T_dadac8dc_dd27_11e9_9233_b15e3176cbe9level0_row41\" class=\"row_heading level0 row41\" >41</th>\n",
       "                        <td id=\"T_dadac8dc_dd27_11e9_9233_b15e3176cbe9row41_col0\" class=\"data row41 col0\" ><a href=\"localhost:5050#/homes/fonaro/workspace-data/elasticbench/validation/mc/6min/l10-a2048-c100/i8\">./l10-a2048-c100/i8</a></td>\n",
       "                        <td id=\"T_dadac8dc_dd27_11e9_9233_b15e3176cbe9row41_col1\" class=\"data row41 col1\" >finished</td>\n",
       "                        <td id=\"T_dadac8dc_dd27_11e9_9233_b15e3176cbe9row41_col2\" class=\"data row41 col2\" >1 hours</td>\n",
       "                        <td id=\"T_dadac8dc_dd27_11e9_9233_b15e3176cbe9row41_col3\" class=\"data row41 col3\" >1:02 hours</td>\n",
       "                        <td id=\"T_dadac8dc_dd27_11e9_9233_b15e3176cbe9row41_col4\" class=\"data row41 col4\" >09:49 (2019-09-14)</td>\n",
       "                        <td id=\"T_dadac8dc_dd27_11e9_9233_b15e3176cbe9row41_col5\" class=\"data row41 col5\" >10:52 (2019-09-14)</td>\n",
       "                        <td id=\"T_dadac8dc_dd27_11e9_9233_b15e3176cbe9row41_col6\" class=\"data row41 col6\" >1496</td>\n",
       "                        <td id=\"T_dadac8dc_dd27_11e9_9233_b15e3176cbe9row41_col7\" class=\"data row41 col7\" >0</td>\n",
       "                        <td id=\"T_dadac8dc_dd27_11e9_9233_b15e3176cbe9row41_col8\" class=\"data row41 col8\" >0</td>\n",
       "            </tr>\n",
       "            <tr>\n",
       "                        <th id=\"T_dadac8dc_dd27_11e9_9233_b15e3176cbe9level0_row42\" class=\"row_heading level0 row42\" >42</th>\n",
       "                        <td id=\"T_dadac8dc_dd27_11e9_9233_b15e3176cbe9row42_col0\" class=\"data row42 col0\" ><a href=\"localhost:5050#/homes/fonaro/workspace-data/elasticbench/validation/mc/6min/l10-a2048-c100/i7\">./l10-a2048-c100/i7</a></td>\n",
       "                        <td id=\"T_dadac8dc_dd27_11e9_9233_b15e3176cbe9row42_col1\" class=\"data row42 col1\" >finished</td>\n",
       "                        <td id=\"T_dadac8dc_dd27_11e9_9233_b15e3176cbe9row42_col2\" class=\"data row42 col2\" >1 hours</td>\n",
       "                        <td id=\"T_dadac8dc_dd27_11e9_9233_b15e3176cbe9row42_col3\" class=\"data row42 col3\" >1:02 hours</td>\n",
       "                        <td id=\"T_dadac8dc_dd27_11e9_9233_b15e3176cbe9row42_col4\" class=\"data row42 col4\" >08:47 (2019-09-14)</td>\n",
       "                        <td id=\"T_dadac8dc_dd27_11e9_9233_b15e3176cbe9row42_col5\" class=\"data row42 col5\" >09:49 (2019-09-14)</td>\n",
       "                        <td id=\"T_dadac8dc_dd27_11e9_9233_b15e3176cbe9row42_col6\" class=\"data row42 col6\" >1536</td>\n",
       "                        <td id=\"T_dadac8dc_dd27_11e9_9233_b15e3176cbe9row42_col7\" class=\"data row42 col7\" >0</td>\n",
       "                        <td id=\"T_dadac8dc_dd27_11e9_9233_b15e3176cbe9row42_col8\" class=\"data row42 col8\" >0</td>\n",
       "            </tr>\n",
       "            <tr>\n",
       "                        <th id=\"T_dadac8dc_dd27_11e9_9233_b15e3176cbe9level0_row43\" class=\"row_heading level0 row43\" >43</th>\n",
       "                        <td id=\"T_dadac8dc_dd27_11e9_9233_b15e3176cbe9row43_col0\" class=\"data row43 col0\" ><a href=\"localhost:5050#/homes/fonaro/workspace-data/elasticbench/validation/mc/6min/l10-a2048-c100/i6\">./l10-a2048-c100/i6</a></td>\n",
       "                        <td id=\"T_dadac8dc_dd27_11e9_9233_b15e3176cbe9row43_col1\" class=\"data row43 col1\" >finished</td>\n",
       "                        <td id=\"T_dadac8dc_dd27_11e9_9233_b15e3176cbe9row43_col2\" class=\"data row43 col2\" >1 hours</td>\n",
       "                        <td id=\"T_dadac8dc_dd27_11e9_9233_b15e3176cbe9row43_col3\" class=\"data row43 col3\" >1:02 hours</td>\n",
       "                        <td id=\"T_dadac8dc_dd27_11e9_9233_b15e3176cbe9row43_col4\" class=\"data row43 col4\" >07:44 (2019-09-14)</td>\n",
       "                        <td id=\"T_dadac8dc_dd27_11e9_9233_b15e3176cbe9row43_col5\" class=\"data row43 col5\" >08:47 (2019-09-14)</td>\n",
       "                        <td id=\"T_dadac8dc_dd27_11e9_9233_b15e3176cbe9row43_col6\" class=\"data row43 col6\" >1433</td>\n",
       "                        <td id=\"T_dadac8dc_dd27_11e9_9233_b15e3176cbe9row43_col7\" class=\"data row43 col7\" >0</td>\n",
       "                        <td id=\"T_dadac8dc_dd27_11e9_9233_b15e3176cbe9row43_col8\" class=\"data row43 col8\" >0</td>\n",
       "            </tr>\n",
       "            <tr>\n",
       "                        <th id=\"T_dadac8dc_dd27_11e9_9233_b15e3176cbe9level0_row44\" class=\"row_heading level0 row44\" >44</th>\n",
       "                        <td id=\"T_dadac8dc_dd27_11e9_9233_b15e3176cbe9row44_col0\" class=\"data row44 col0\" ><a href=\"localhost:5050#/homes/fonaro/workspace-data/elasticbench/validation/mc/6min/l10-a2048-c100/i5\">./l10-a2048-c100/i5</a></td>\n",
       "                        <td id=\"T_dadac8dc_dd27_11e9_9233_b15e3176cbe9row44_col1\" class=\"data row44 col1\" >finished</td>\n",
       "                        <td id=\"T_dadac8dc_dd27_11e9_9233_b15e3176cbe9row44_col2\" class=\"data row44 col2\" >1 hours</td>\n",
       "                        <td id=\"T_dadac8dc_dd27_11e9_9233_b15e3176cbe9row44_col3\" class=\"data row44 col3\" >1:02 hours</td>\n",
       "                        <td id=\"T_dadac8dc_dd27_11e9_9233_b15e3176cbe9row44_col4\" class=\"data row44 col4\" >06:42 (2019-09-14)</td>\n",
       "                        <td id=\"T_dadac8dc_dd27_11e9_9233_b15e3176cbe9row44_col5\" class=\"data row44 col5\" >07:44 (2019-09-14)</td>\n",
       "                        <td id=\"T_dadac8dc_dd27_11e9_9233_b15e3176cbe9row44_col6\" class=\"data row44 col6\" >1463</td>\n",
       "                        <td id=\"T_dadac8dc_dd27_11e9_9233_b15e3176cbe9row44_col7\" class=\"data row44 col7\" >0</td>\n",
       "                        <td id=\"T_dadac8dc_dd27_11e9_9233_b15e3176cbe9row44_col8\" class=\"data row44 col8\" >0</td>\n",
       "            </tr>\n",
       "            <tr>\n",
       "                        <th id=\"T_dadac8dc_dd27_11e9_9233_b15e3176cbe9level0_row45\" class=\"row_heading level0 row45\" >45</th>\n",
       "                        <td id=\"T_dadac8dc_dd27_11e9_9233_b15e3176cbe9row45_col0\" class=\"data row45 col0\" ><a href=\"localhost:5050#/homes/fonaro/workspace-data/elasticbench/validation/mc/6min/l10-a2048-c100/i4\">./l10-a2048-c100/i4</a></td>\n",
       "                        <td id=\"T_dadac8dc_dd27_11e9_9233_b15e3176cbe9row45_col1\" class=\"data row45 col1\" >finished</td>\n",
       "                        <td id=\"T_dadac8dc_dd27_11e9_9233_b15e3176cbe9row45_col2\" class=\"data row45 col2\" >1 hours</td>\n",
       "                        <td id=\"T_dadac8dc_dd27_11e9_9233_b15e3176cbe9row45_col3\" class=\"data row45 col3\" >1:02 hours</td>\n",
       "                        <td id=\"T_dadac8dc_dd27_11e9_9233_b15e3176cbe9row45_col4\" class=\"data row45 col4\" >05:40 (2019-09-14)</td>\n",
       "                        <td id=\"T_dadac8dc_dd27_11e9_9233_b15e3176cbe9row45_col5\" class=\"data row45 col5\" >06:42 (2019-09-14)</td>\n",
       "                        <td id=\"T_dadac8dc_dd27_11e9_9233_b15e3176cbe9row45_col6\" class=\"data row45 col6\" >1504</td>\n",
       "                        <td id=\"T_dadac8dc_dd27_11e9_9233_b15e3176cbe9row45_col7\" class=\"data row45 col7\" >0</td>\n",
       "                        <td id=\"T_dadac8dc_dd27_11e9_9233_b15e3176cbe9row45_col8\" class=\"data row45 col8\" >0</td>\n",
       "            </tr>\n",
       "            <tr>\n",
       "                        <th id=\"T_dadac8dc_dd27_11e9_9233_b15e3176cbe9level0_row46\" class=\"row_heading level0 row46\" >46</th>\n",
       "                        <td id=\"T_dadac8dc_dd27_11e9_9233_b15e3176cbe9row46_col0\" class=\"data row46 col0\" ><a href=\"localhost:5050#/homes/fonaro/workspace-data/elasticbench/validation/mc/6min/l10-a2048-c100/i3\">./l10-a2048-c100/i3</a></td>\n",
       "                        <td id=\"T_dadac8dc_dd27_11e9_9233_b15e3176cbe9row46_col1\" class=\"data row46 col1\" >finished</td>\n",
       "                        <td id=\"T_dadac8dc_dd27_11e9_9233_b15e3176cbe9row46_col2\" class=\"data row46 col2\" >1 hours</td>\n",
       "                        <td id=\"T_dadac8dc_dd27_11e9_9233_b15e3176cbe9row46_col3\" class=\"data row46 col3\" >1:02 hours</td>\n",
       "                        <td id=\"T_dadac8dc_dd27_11e9_9233_b15e3176cbe9row46_col4\" class=\"data row46 col4\" >04:37 (2019-09-14)</td>\n",
       "                        <td id=\"T_dadac8dc_dd27_11e9_9233_b15e3176cbe9row46_col5\" class=\"data row46 col5\" >05:40 (2019-09-14)</td>\n",
       "                        <td id=\"T_dadac8dc_dd27_11e9_9233_b15e3176cbe9row46_col6\" class=\"data row46 col6\" >1448</td>\n",
       "                        <td id=\"T_dadac8dc_dd27_11e9_9233_b15e3176cbe9row46_col7\" class=\"data row46 col7\" >0</td>\n",
       "                        <td id=\"T_dadac8dc_dd27_11e9_9233_b15e3176cbe9row46_col8\" class=\"data row46 col8\" >0</td>\n",
       "            </tr>\n",
       "            <tr>\n",
       "                        <th id=\"T_dadac8dc_dd27_11e9_9233_b15e3176cbe9level0_row47\" class=\"row_heading level0 row47\" >47</th>\n",
       "                        <td id=\"T_dadac8dc_dd27_11e9_9233_b15e3176cbe9row47_col0\" class=\"data row47 col0\" ><a href=\"localhost:5050#/homes/fonaro/workspace-data/elasticbench/validation/mc/6min/l10-a2048-c100/i2\">./l10-a2048-c100/i2</a></td>\n",
       "                        <td id=\"T_dadac8dc_dd27_11e9_9233_b15e3176cbe9row47_col1\" class=\"data row47 col1\" >finished</td>\n",
       "                        <td id=\"T_dadac8dc_dd27_11e9_9233_b15e3176cbe9row47_col2\" class=\"data row47 col2\" >1 hours</td>\n",
       "                        <td id=\"T_dadac8dc_dd27_11e9_9233_b15e3176cbe9row47_col3\" class=\"data row47 col3\" >1:02 hours</td>\n",
       "                        <td id=\"T_dadac8dc_dd27_11e9_9233_b15e3176cbe9row47_col4\" class=\"data row47 col4\" >03:35 (2019-09-14)</td>\n",
       "                        <td id=\"T_dadac8dc_dd27_11e9_9233_b15e3176cbe9row47_col5\" class=\"data row47 col5\" >04:37 (2019-09-14)</td>\n",
       "                        <td id=\"T_dadac8dc_dd27_11e9_9233_b15e3176cbe9row47_col6\" class=\"data row47 col6\" >1466</td>\n",
       "                        <td id=\"T_dadac8dc_dd27_11e9_9233_b15e3176cbe9row47_col7\" class=\"data row47 col7\" >0</td>\n",
       "                        <td id=\"T_dadac8dc_dd27_11e9_9233_b15e3176cbe9row47_col8\" class=\"data row47 col8\" >0</td>\n",
       "            </tr>\n",
       "            <tr>\n",
       "                        <th id=\"T_dadac8dc_dd27_11e9_9233_b15e3176cbe9level0_row48\" class=\"row_heading level0 row48\" >48</th>\n",
       "                        <td id=\"T_dadac8dc_dd27_11e9_9233_b15e3176cbe9row48_col0\" class=\"data row48 col0\" ><a href=\"localhost:5050#/homes/fonaro/workspace-data/elasticbench/validation/mc/6min/l10-a2048-c100/i19\">./l10-a2048-c100/i19</a></td>\n",
       "                        <td id=\"T_dadac8dc_dd27_11e9_9233_b15e3176cbe9row48_col1\" class=\"data row48 col1\" >finished</td>\n",
       "                        <td id=\"T_dadac8dc_dd27_11e9_9233_b15e3176cbe9row48_col2\" class=\"data row48 col2\" >1 hours</td>\n",
       "                        <td id=\"T_dadac8dc_dd27_11e9_9233_b15e3176cbe9row48_col3\" class=\"data row48 col3\" >1:02 hours</td>\n",
       "                        <td id=\"T_dadac8dc_dd27_11e9_9233_b15e3176cbe9row48_col4\" class=\"data row48 col4\" >02:33 (2019-09-14)</td>\n",
       "                        <td id=\"T_dadac8dc_dd27_11e9_9233_b15e3176cbe9row48_col5\" class=\"data row48 col5\" >03:35 (2019-09-14)</td>\n",
       "                        <td id=\"T_dadac8dc_dd27_11e9_9233_b15e3176cbe9row48_col6\" class=\"data row48 col6\" >1534</td>\n",
       "                        <td id=\"T_dadac8dc_dd27_11e9_9233_b15e3176cbe9row48_col7\" class=\"data row48 col7\" >0</td>\n",
       "                        <td id=\"T_dadac8dc_dd27_11e9_9233_b15e3176cbe9row48_col8\" class=\"data row48 col8\" >0</td>\n",
       "            </tr>\n",
       "            <tr>\n",
       "                        <th id=\"T_dadac8dc_dd27_11e9_9233_b15e3176cbe9level0_row49\" class=\"row_heading level0 row49\" >49</th>\n",
       "                        <td id=\"T_dadac8dc_dd27_11e9_9233_b15e3176cbe9row49_col0\" class=\"data row49 col0\" ><a href=\"localhost:5050#/homes/fonaro/workspace-data/elasticbench/validation/mc/6min/l10-a2048-c100/i18\">./l10-a2048-c100/i18</a></td>\n",
       "                        <td id=\"T_dadac8dc_dd27_11e9_9233_b15e3176cbe9row49_col1\" class=\"data row49 col1\" >finished</td>\n",
       "                        <td id=\"T_dadac8dc_dd27_11e9_9233_b15e3176cbe9row49_col2\" class=\"data row49 col2\" >1 hours</td>\n",
       "                        <td id=\"T_dadac8dc_dd27_11e9_9233_b15e3176cbe9row49_col3\" class=\"data row49 col3\" >1:02 hours</td>\n",
       "                        <td id=\"T_dadac8dc_dd27_11e9_9233_b15e3176cbe9row49_col4\" class=\"data row49 col4\" >01:30 (2019-09-14)</td>\n",
       "                        <td id=\"T_dadac8dc_dd27_11e9_9233_b15e3176cbe9row49_col5\" class=\"data row49 col5\" >02:33 (2019-09-14)</td>\n",
       "                        <td id=\"T_dadac8dc_dd27_11e9_9233_b15e3176cbe9row49_col6\" class=\"data row49 col6\" >1481</td>\n",
       "                        <td id=\"T_dadac8dc_dd27_11e9_9233_b15e3176cbe9row49_col7\" class=\"data row49 col7\" >0</td>\n",
       "                        <td id=\"T_dadac8dc_dd27_11e9_9233_b15e3176cbe9row49_col8\" class=\"data row49 col8\" >0</td>\n",
       "            </tr>\n",
       "            <tr>\n",
       "                        <th id=\"T_dadac8dc_dd27_11e9_9233_b15e3176cbe9level0_row50\" class=\"row_heading level0 row50\" >50</th>\n",
       "                        <td id=\"T_dadac8dc_dd27_11e9_9233_b15e3176cbe9row50_col0\" class=\"data row50 col0\" ><a href=\"localhost:5050#/homes/fonaro/workspace-data/elasticbench/validation/mc/6min/l10-a2048-c100/i17\">./l10-a2048-c100/i17</a></td>\n",
       "                        <td id=\"T_dadac8dc_dd27_11e9_9233_b15e3176cbe9row50_col1\" class=\"data row50 col1\" >finished</td>\n",
       "                        <td id=\"T_dadac8dc_dd27_11e9_9233_b15e3176cbe9row50_col2\" class=\"data row50 col2\" >1 hours</td>\n",
       "                        <td id=\"T_dadac8dc_dd27_11e9_9233_b15e3176cbe9row50_col3\" class=\"data row50 col3\" >1:02 hours</td>\n",
       "                        <td id=\"T_dadac8dc_dd27_11e9_9233_b15e3176cbe9row50_col4\" class=\"data row50 col4\" >00:28 (2019-09-14)</td>\n",
       "                        <td id=\"T_dadac8dc_dd27_11e9_9233_b15e3176cbe9row50_col5\" class=\"data row50 col5\" >01:30 (2019-09-14)</td>\n",
       "                        <td id=\"T_dadac8dc_dd27_11e9_9233_b15e3176cbe9row50_col6\" class=\"data row50 col6\" >1483</td>\n",
       "                        <td id=\"T_dadac8dc_dd27_11e9_9233_b15e3176cbe9row50_col7\" class=\"data row50 col7\" >0</td>\n",
       "                        <td id=\"T_dadac8dc_dd27_11e9_9233_b15e3176cbe9row50_col8\" class=\"data row50 col8\" >0</td>\n",
       "            </tr>\n",
       "            <tr>\n",
       "                        <th id=\"T_dadac8dc_dd27_11e9_9233_b15e3176cbe9level0_row51\" class=\"row_heading level0 row51\" >51</th>\n",
       "                        <td id=\"T_dadac8dc_dd27_11e9_9233_b15e3176cbe9row51_col0\" class=\"data row51 col0\" ><a href=\"localhost:5050#/homes/fonaro/workspace-data/elasticbench/validation/mc/6min/l10-a2048-c100/i16\">./l10-a2048-c100/i16</a></td>\n",
       "                        <td id=\"T_dadac8dc_dd27_11e9_9233_b15e3176cbe9row51_col1\" class=\"data row51 col1\" >finished</td>\n",
       "                        <td id=\"T_dadac8dc_dd27_11e9_9233_b15e3176cbe9row51_col2\" class=\"data row51 col2\" >1 hours</td>\n",
       "                        <td id=\"T_dadac8dc_dd27_11e9_9233_b15e3176cbe9row51_col3\" class=\"data row51 col3\" >1:02 hours</td>\n",
       "                        <td id=\"T_dadac8dc_dd27_11e9_9233_b15e3176cbe9row51_col4\" class=\"data row51 col4\" >23:26 (2019-09-13)</td>\n",
       "                        <td id=\"T_dadac8dc_dd27_11e9_9233_b15e3176cbe9row51_col5\" class=\"data row51 col5\" >00:28 (2019-09-14)</td>\n",
       "                        <td id=\"T_dadac8dc_dd27_11e9_9233_b15e3176cbe9row51_col6\" class=\"data row51 col6\" >1486</td>\n",
       "                        <td id=\"T_dadac8dc_dd27_11e9_9233_b15e3176cbe9row51_col7\" class=\"data row51 col7\" >0</td>\n",
       "                        <td id=\"T_dadac8dc_dd27_11e9_9233_b15e3176cbe9row51_col8\" class=\"data row51 col8\" >0</td>\n",
       "            </tr>\n",
       "            <tr>\n",
       "                        <th id=\"T_dadac8dc_dd27_11e9_9233_b15e3176cbe9level0_row52\" class=\"row_heading level0 row52\" >52</th>\n",
       "                        <td id=\"T_dadac8dc_dd27_11e9_9233_b15e3176cbe9row52_col0\" class=\"data row52 col0\" ><a href=\"localhost:5050#/homes/fonaro/workspace-data/elasticbench/validation/mc/6min/l10-a2048-c100/i15\">./l10-a2048-c100/i15</a></td>\n",
       "                        <td id=\"T_dadac8dc_dd27_11e9_9233_b15e3176cbe9row52_col1\" class=\"data row52 col1\" >finished</td>\n",
       "                        <td id=\"T_dadac8dc_dd27_11e9_9233_b15e3176cbe9row52_col2\" class=\"data row52 col2\" >1 hours</td>\n",
       "                        <td id=\"T_dadac8dc_dd27_11e9_9233_b15e3176cbe9row52_col3\" class=\"data row52 col3\" >1:02 hours</td>\n",
       "                        <td id=\"T_dadac8dc_dd27_11e9_9233_b15e3176cbe9row52_col4\" class=\"data row52 col4\" >22:23 (2019-09-13)</td>\n",
       "                        <td id=\"T_dadac8dc_dd27_11e9_9233_b15e3176cbe9row52_col5\" class=\"data row52 col5\" >23:26 (2019-09-13)</td>\n",
       "                        <td id=\"T_dadac8dc_dd27_11e9_9233_b15e3176cbe9row52_col6\" class=\"data row52 col6\" >1541</td>\n",
       "                        <td id=\"T_dadac8dc_dd27_11e9_9233_b15e3176cbe9row52_col7\" class=\"data row52 col7\" >0</td>\n",
       "                        <td id=\"T_dadac8dc_dd27_11e9_9233_b15e3176cbe9row52_col8\" class=\"data row52 col8\" >0</td>\n",
       "            </tr>\n",
       "            <tr>\n",
       "                        <th id=\"T_dadac8dc_dd27_11e9_9233_b15e3176cbe9level0_row53\" class=\"row_heading level0 row53\" >53</th>\n",
       "                        <td id=\"T_dadac8dc_dd27_11e9_9233_b15e3176cbe9row53_col0\" class=\"data row53 col0\" ><a href=\"localhost:5050#/homes/fonaro/workspace-data/elasticbench/validation/mc/6min/l10-a2048-c100/i14\">./l10-a2048-c100/i14</a></td>\n",
       "                        <td id=\"T_dadac8dc_dd27_11e9_9233_b15e3176cbe9row53_col1\" class=\"data row53 col1\" >finished</td>\n",
       "                        <td id=\"T_dadac8dc_dd27_11e9_9233_b15e3176cbe9row53_col2\" class=\"data row53 col2\" >1 hours</td>\n",
       "                        <td id=\"T_dadac8dc_dd27_11e9_9233_b15e3176cbe9row53_col3\" class=\"data row53 col3\" >1:02 hours</td>\n",
       "                        <td id=\"T_dadac8dc_dd27_11e9_9233_b15e3176cbe9row53_col4\" class=\"data row53 col4\" >21:21 (2019-09-13)</td>\n",
       "                        <td id=\"T_dadac8dc_dd27_11e9_9233_b15e3176cbe9row53_col5\" class=\"data row53 col5\" >22:23 (2019-09-13)</td>\n",
       "                        <td id=\"T_dadac8dc_dd27_11e9_9233_b15e3176cbe9row53_col6\" class=\"data row53 col6\" >1489</td>\n",
       "                        <td id=\"T_dadac8dc_dd27_11e9_9233_b15e3176cbe9row53_col7\" class=\"data row53 col7\" >0</td>\n",
       "                        <td id=\"T_dadac8dc_dd27_11e9_9233_b15e3176cbe9row53_col8\" class=\"data row53 col8\" >0</td>\n",
       "            </tr>\n",
       "            <tr>\n",
       "                        <th id=\"T_dadac8dc_dd27_11e9_9233_b15e3176cbe9level0_row54\" class=\"row_heading level0 row54\" >54</th>\n",
       "                        <td id=\"T_dadac8dc_dd27_11e9_9233_b15e3176cbe9row54_col0\" class=\"data row54 col0\" ><a href=\"localhost:5050#/homes/fonaro/workspace-data/elasticbench/validation/mc/6min/l10-a2048-c100/i13\">./l10-a2048-c100/i13</a></td>\n",
       "                        <td id=\"T_dadac8dc_dd27_11e9_9233_b15e3176cbe9row54_col1\" class=\"data row54 col1\" >finished</td>\n",
       "                        <td id=\"T_dadac8dc_dd27_11e9_9233_b15e3176cbe9row54_col2\" class=\"data row54 col2\" >1 hours</td>\n",
       "                        <td id=\"T_dadac8dc_dd27_11e9_9233_b15e3176cbe9row54_col3\" class=\"data row54 col3\" >1:02 hours</td>\n",
       "                        <td id=\"T_dadac8dc_dd27_11e9_9233_b15e3176cbe9row54_col4\" class=\"data row54 col4\" >20:19 (2019-09-13)</td>\n",
       "                        <td id=\"T_dadac8dc_dd27_11e9_9233_b15e3176cbe9row54_col5\" class=\"data row54 col5\" >21:21 (2019-09-13)</td>\n",
       "                        <td id=\"T_dadac8dc_dd27_11e9_9233_b15e3176cbe9row54_col6\" class=\"data row54 col6\" >1507</td>\n",
       "                        <td id=\"T_dadac8dc_dd27_11e9_9233_b15e3176cbe9row54_col7\" class=\"data row54 col7\" >0</td>\n",
       "                        <td id=\"T_dadac8dc_dd27_11e9_9233_b15e3176cbe9row54_col8\" class=\"data row54 col8\" >0</td>\n",
       "            </tr>\n",
       "            <tr>\n",
       "                        <th id=\"T_dadac8dc_dd27_11e9_9233_b15e3176cbe9level0_row55\" class=\"row_heading level0 row55\" >55</th>\n",
       "                        <td id=\"T_dadac8dc_dd27_11e9_9233_b15e3176cbe9row55_col0\" class=\"data row55 col0\" ><a href=\"localhost:5050#/homes/fonaro/workspace-data/elasticbench/validation/mc/6min/l10-a2048-c100/i12\">./l10-a2048-c100/i12</a></td>\n",
       "                        <td id=\"T_dadac8dc_dd27_11e9_9233_b15e3176cbe9row55_col1\" class=\"data row55 col1\" >finished</td>\n",
       "                        <td id=\"T_dadac8dc_dd27_11e9_9233_b15e3176cbe9row55_col2\" class=\"data row55 col2\" >1 hours</td>\n",
       "                        <td id=\"T_dadac8dc_dd27_11e9_9233_b15e3176cbe9row55_col3\" class=\"data row55 col3\" >1:02 hours</td>\n",
       "                        <td id=\"T_dadac8dc_dd27_11e9_9233_b15e3176cbe9row55_col4\" class=\"data row55 col4\" >19:16 (2019-09-13)</td>\n",
       "                        <td id=\"T_dadac8dc_dd27_11e9_9233_b15e3176cbe9row55_col5\" class=\"data row55 col5\" >20:19 (2019-09-13)</td>\n",
       "                        <td id=\"T_dadac8dc_dd27_11e9_9233_b15e3176cbe9row55_col6\" class=\"data row55 col6\" >1449</td>\n",
       "                        <td id=\"T_dadac8dc_dd27_11e9_9233_b15e3176cbe9row55_col7\" class=\"data row55 col7\" >0</td>\n",
       "                        <td id=\"T_dadac8dc_dd27_11e9_9233_b15e3176cbe9row55_col8\" class=\"data row55 col8\" >0</td>\n",
       "            </tr>\n",
       "            <tr>\n",
       "                        <th id=\"T_dadac8dc_dd27_11e9_9233_b15e3176cbe9level0_row56\" class=\"row_heading level0 row56\" >56</th>\n",
       "                        <td id=\"T_dadac8dc_dd27_11e9_9233_b15e3176cbe9row56_col0\" class=\"data row56 col0\" ><a href=\"localhost:5050#/homes/fonaro/workspace-data/elasticbench/validation/mc/6min/l10-a2048-c100/i11\">./l10-a2048-c100/i11</a></td>\n",
       "                        <td id=\"T_dadac8dc_dd27_11e9_9233_b15e3176cbe9row56_col1\" class=\"data row56 col1\" >finished</td>\n",
       "                        <td id=\"T_dadac8dc_dd27_11e9_9233_b15e3176cbe9row56_col2\" class=\"data row56 col2\" >1 hours</td>\n",
       "                        <td id=\"T_dadac8dc_dd27_11e9_9233_b15e3176cbe9row56_col3\" class=\"data row56 col3\" >1:02 hours</td>\n",
       "                        <td id=\"T_dadac8dc_dd27_11e9_9233_b15e3176cbe9row56_col4\" class=\"data row56 col4\" >18:14 (2019-09-13)</td>\n",
       "                        <td id=\"T_dadac8dc_dd27_11e9_9233_b15e3176cbe9row56_col5\" class=\"data row56 col5\" >19:16 (2019-09-13)</td>\n",
       "                        <td id=\"T_dadac8dc_dd27_11e9_9233_b15e3176cbe9row56_col6\" class=\"data row56 col6\" >1518</td>\n",
       "                        <td id=\"T_dadac8dc_dd27_11e9_9233_b15e3176cbe9row56_col7\" class=\"data row56 col7\" >0</td>\n",
       "                        <td id=\"T_dadac8dc_dd27_11e9_9233_b15e3176cbe9row56_col8\" class=\"data row56 col8\" >0</td>\n",
       "            </tr>\n",
       "            <tr>\n",
       "                        <th id=\"T_dadac8dc_dd27_11e9_9233_b15e3176cbe9level0_row57\" class=\"row_heading level0 row57\" >57</th>\n",
       "                        <td id=\"T_dadac8dc_dd27_11e9_9233_b15e3176cbe9row57_col0\" class=\"data row57 col0\" ><a href=\"localhost:5050#/homes/fonaro/workspace-data/elasticbench/validation/mc/6min/l10-a2048-c100/i10\">./l10-a2048-c100/i10</a></td>\n",
       "                        <td id=\"T_dadac8dc_dd27_11e9_9233_b15e3176cbe9row57_col1\" class=\"data row57 col1\" >finished</td>\n",
       "                        <td id=\"T_dadac8dc_dd27_11e9_9233_b15e3176cbe9row57_col2\" class=\"data row57 col2\" >1 hours</td>\n",
       "                        <td id=\"T_dadac8dc_dd27_11e9_9233_b15e3176cbe9row57_col3\" class=\"data row57 col3\" >1:02 hours</td>\n",
       "                        <td id=\"T_dadac8dc_dd27_11e9_9233_b15e3176cbe9row57_col4\" class=\"data row57 col4\" >17:12 (2019-09-13)</td>\n",
       "                        <td id=\"T_dadac8dc_dd27_11e9_9233_b15e3176cbe9row57_col5\" class=\"data row57 col5\" >18:14 (2019-09-13)</td>\n",
       "                        <td id=\"T_dadac8dc_dd27_11e9_9233_b15e3176cbe9row57_col6\" class=\"data row57 col6\" >1503</td>\n",
       "                        <td id=\"T_dadac8dc_dd27_11e9_9233_b15e3176cbe9row57_col7\" class=\"data row57 col7\" >0</td>\n",
       "                        <td id=\"T_dadac8dc_dd27_11e9_9233_b15e3176cbe9row57_col8\" class=\"data row57 col8\" >0</td>\n",
       "            </tr>\n",
       "            <tr>\n",
       "                        <th id=\"T_dadac8dc_dd27_11e9_9233_b15e3176cbe9level0_row58\" class=\"row_heading level0 row58\" >58</th>\n",
       "                        <td id=\"T_dadac8dc_dd27_11e9_9233_b15e3176cbe9row58_col0\" class=\"data row58 col0\" ><a href=\"localhost:5050#/homes/fonaro/workspace-data/elasticbench/validation/mc/6min/l10-a2048-c100/i1\">./l10-a2048-c100/i1</a></td>\n",
       "                        <td id=\"T_dadac8dc_dd27_11e9_9233_b15e3176cbe9row58_col1\" class=\"data row58 col1\" >finished</td>\n",
       "                        <td id=\"T_dadac8dc_dd27_11e9_9233_b15e3176cbe9row58_col2\" class=\"data row58 col2\" >1 hours</td>\n",
       "                        <td id=\"T_dadac8dc_dd27_11e9_9233_b15e3176cbe9row58_col3\" class=\"data row58 col3\" >1:02 hours</td>\n",
       "                        <td id=\"T_dadac8dc_dd27_11e9_9233_b15e3176cbe9row58_col4\" class=\"data row58 col4\" >16:09 (2019-09-13)</td>\n",
       "                        <td id=\"T_dadac8dc_dd27_11e9_9233_b15e3176cbe9row58_col5\" class=\"data row58 col5\" >17:12 (2019-09-13)</td>\n",
       "                        <td id=\"T_dadac8dc_dd27_11e9_9233_b15e3176cbe9row58_col6\" class=\"data row58 col6\" >1473</td>\n",
       "                        <td id=\"T_dadac8dc_dd27_11e9_9233_b15e3176cbe9row58_col7\" class=\"data row58 col7\" >0</td>\n",
       "                        <td id=\"T_dadac8dc_dd27_11e9_9233_b15e3176cbe9row58_col8\" class=\"data row58 col8\" >0</td>\n",
       "            </tr>\n",
       "            <tr>\n",
       "                        <th id=\"T_dadac8dc_dd27_11e9_9233_b15e3176cbe9level0_row59\" class=\"row_heading level0 row59\" >59</th>\n",
       "                        <td id=\"T_dadac8dc_dd27_11e9_9233_b15e3176cbe9row59_col0\" class=\"data row59 col0\" ><a href=\"localhost:5050#/homes/fonaro/workspace-data/elasticbench/validation/mc/6min/l10-a2048-c100/i0\">./l10-a2048-c100/i0</a></td>\n",
       "                        <td id=\"T_dadac8dc_dd27_11e9_9233_b15e3176cbe9row59_col1\" class=\"data row59 col1\" >finished</td>\n",
       "                        <td id=\"T_dadac8dc_dd27_11e9_9233_b15e3176cbe9row59_col2\" class=\"data row59 col2\" >1 hours</td>\n",
       "                        <td id=\"T_dadac8dc_dd27_11e9_9233_b15e3176cbe9row59_col3\" class=\"data row59 col3\" >1:02 hours</td>\n",
       "                        <td id=\"T_dadac8dc_dd27_11e9_9233_b15e3176cbe9row59_col4\" class=\"data row59 col4\" >15:07 (2019-09-13)</td>\n",
       "                        <td id=\"T_dadac8dc_dd27_11e9_9233_b15e3176cbe9row59_col5\" class=\"data row59 col5\" >16:09 (2019-09-13)</td>\n",
       "                        <td id=\"T_dadac8dc_dd27_11e9_9233_b15e3176cbe9row59_col6\" class=\"data row59 col6\" >1485</td>\n",
       "                        <td id=\"T_dadac8dc_dd27_11e9_9233_b15e3176cbe9row59_col7\" class=\"data row59 col7\" >0</td>\n",
       "                        <td id=\"T_dadac8dc_dd27_11e9_9233_b15e3176cbe9row59_col8\" class=\"data row59 col8\" >0</td>\n",
       "            </tr>\n",
       "            <tr>\n",
       "                        <th id=\"T_dadac8dc_dd27_11e9_9233_b15e3176cbe9level0_row60\" class=\"row_heading level0 row60\" >60</th>\n",
       "                        <td id=\"T_dadac8dc_dd27_11e9_9233_b15e3176cbe9row60_col0\" class=\"data row60 col0\" ><a href=\"localhost:5050#/homes/fonaro/workspace-data/elasticbench/validation/mc/6min/l10-a2048-c15/i9\">./l10-a2048-c15/i9</a></td>\n",
       "                        <td id=\"T_dadac8dc_dd27_11e9_9233_b15e3176cbe9row60_col1\" class=\"data row60 col1\" >finished</td>\n",
       "                        <td id=\"T_dadac8dc_dd27_11e9_9233_b15e3176cbe9row60_col2\" class=\"data row60 col2\" >1 hours</td>\n",
       "                        <td id=\"T_dadac8dc_dd27_11e9_9233_b15e3176cbe9row60_col3\" class=\"data row60 col3\" >1:02 hours</td>\n",
       "                        <td id=\"T_dadac8dc_dd27_11e9_9233_b15e3176cbe9row60_col4\" class=\"data row60 col4\" >09:50 (2019-08-27)</td>\n",
       "                        <td id=\"T_dadac8dc_dd27_11e9_9233_b15e3176cbe9row60_col5\" class=\"data row60 col5\" >10:52 (2019-08-27)</td>\n",
       "                        <td id=\"T_dadac8dc_dd27_11e9_9233_b15e3176cbe9row60_col6\" class=\"data row60 col6\" >1490</td>\n",
       "                        <td id=\"T_dadac8dc_dd27_11e9_9233_b15e3176cbe9row60_col7\" class=\"data row60 col7\" >0</td>\n",
       "                        <td id=\"T_dadac8dc_dd27_11e9_9233_b15e3176cbe9row60_col8\" class=\"data row60 col8\" >0</td>\n",
       "            </tr>\n",
       "            <tr>\n",
       "                        <th id=\"T_dadac8dc_dd27_11e9_9233_b15e3176cbe9level0_row61\" class=\"row_heading level0 row61\" >61</th>\n",
       "                        <td id=\"T_dadac8dc_dd27_11e9_9233_b15e3176cbe9row61_col0\" class=\"data row61 col0\" ><a href=\"localhost:5050#/homes/fonaro/workspace-data/elasticbench/validation/mc/6min/l10-a2048-c15/i8\">./l10-a2048-c15/i8</a></td>\n",
       "                        <td id=\"T_dadac8dc_dd27_11e9_9233_b15e3176cbe9row61_col1\" class=\"data row61 col1\" >finished</td>\n",
       "                        <td id=\"T_dadac8dc_dd27_11e9_9233_b15e3176cbe9row61_col2\" class=\"data row61 col2\" >1 hours</td>\n",
       "                        <td id=\"T_dadac8dc_dd27_11e9_9233_b15e3176cbe9row61_col3\" class=\"data row61 col3\" >1:02 hours</td>\n",
       "                        <td id=\"T_dadac8dc_dd27_11e9_9233_b15e3176cbe9row61_col4\" class=\"data row61 col4\" >08:48 (2019-08-27)</td>\n",
       "                        <td id=\"T_dadac8dc_dd27_11e9_9233_b15e3176cbe9row61_col5\" class=\"data row61 col5\" >09:50 (2019-08-27)</td>\n",
       "                        <td id=\"T_dadac8dc_dd27_11e9_9233_b15e3176cbe9row61_col6\" class=\"data row61 col6\" >1451</td>\n",
       "                        <td id=\"T_dadac8dc_dd27_11e9_9233_b15e3176cbe9row61_col7\" class=\"data row61 col7\" >0</td>\n",
       "                        <td id=\"T_dadac8dc_dd27_11e9_9233_b15e3176cbe9row61_col8\" class=\"data row61 col8\" >0</td>\n",
       "            </tr>\n",
       "            <tr>\n",
       "                        <th id=\"T_dadac8dc_dd27_11e9_9233_b15e3176cbe9level0_row62\" class=\"row_heading level0 row62\" >62</th>\n",
       "                        <td id=\"T_dadac8dc_dd27_11e9_9233_b15e3176cbe9row62_col0\" class=\"data row62 col0\" ><a href=\"localhost:5050#/homes/fonaro/workspace-data/elasticbench/validation/mc/6min/l10-a2048-c15/i7\">./l10-a2048-c15/i7</a></td>\n",
       "                        <td id=\"T_dadac8dc_dd27_11e9_9233_b15e3176cbe9row62_col1\" class=\"data row62 col1\" >finished</td>\n",
       "                        <td id=\"T_dadac8dc_dd27_11e9_9233_b15e3176cbe9row62_col2\" class=\"data row62 col2\" >1 hours</td>\n",
       "                        <td id=\"T_dadac8dc_dd27_11e9_9233_b15e3176cbe9row62_col3\" class=\"data row62 col3\" >1:02 hours</td>\n",
       "                        <td id=\"T_dadac8dc_dd27_11e9_9233_b15e3176cbe9row62_col4\" class=\"data row62 col4\" >07:45 (2019-08-27)</td>\n",
       "                        <td id=\"T_dadac8dc_dd27_11e9_9233_b15e3176cbe9row62_col5\" class=\"data row62 col5\" >08:48 (2019-08-27)</td>\n",
       "                        <td id=\"T_dadac8dc_dd27_11e9_9233_b15e3176cbe9row62_col6\" class=\"data row62 col6\" >1411</td>\n",
       "                        <td id=\"T_dadac8dc_dd27_11e9_9233_b15e3176cbe9row62_col7\" class=\"data row62 col7\" >0</td>\n",
       "                        <td id=\"T_dadac8dc_dd27_11e9_9233_b15e3176cbe9row62_col8\" class=\"data row62 col8\" >0</td>\n",
       "            </tr>\n",
       "            <tr>\n",
       "                        <th id=\"T_dadac8dc_dd27_11e9_9233_b15e3176cbe9level0_row63\" class=\"row_heading level0 row63\" >63</th>\n",
       "                        <td id=\"T_dadac8dc_dd27_11e9_9233_b15e3176cbe9row63_col0\" class=\"data row63 col0\" ><a href=\"localhost:5050#/homes/fonaro/workspace-data/elasticbench/validation/mc/6min/l10-a2048-c15/i6\">./l10-a2048-c15/i6</a></td>\n",
       "                        <td id=\"T_dadac8dc_dd27_11e9_9233_b15e3176cbe9row63_col1\" class=\"data row63 col1\" >finished</td>\n",
       "                        <td id=\"T_dadac8dc_dd27_11e9_9233_b15e3176cbe9row63_col2\" class=\"data row63 col2\" >1 hours</td>\n",
       "                        <td id=\"T_dadac8dc_dd27_11e9_9233_b15e3176cbe9row63_col3\" class=\"data row63 col3\" >1:02 hours</td>\n",
       "                        <td id=\"T_dadac8dc_dd27_11e9_9233_b15e3176cbe9row63_col4\" class=\"data row63 col4\" >06:43 (2019-08-27)</td>\n",
       "                        <td id=\"T_dadac8dc_dd27_11e9_9233_b15e3176cbe9row63_col5\" class=\"data row63 col5\" >07:45 (2019-08-27)</td>\n",
       "                        <td id=\"T_dadac8dc_dd27_11e9_9233_b15e3176cbe9row63_col6\" class=\"data row63 col6\" >1426</td>\n",
       "                        <td id=\"T_dadac8dc_dd27_11e9_9233_b15e3176cbe9row63_col7\" class=\"data row63 col7\" >0</td>\n",
       "                        <td id=\"T_dadac8dc_dd27_11e9_9233_b15e3176cbe9row63_col8\" class=\"data row63 col8\" >0</td>\n",
       "            </tr>\n",
       "            <tr>\n",
       "                        <th id=\"T_dadac8dc_dd27_11e9_9233_b15e3176cbe9level0_row64\" class=\"row_heading level0 row64\" >64</th>\n",
       "                        <td id=\"T_dadac8dc_dd27_11e9_9233_b15e3176cbe9row64_col0\" class=\"data row64 col0\" ><a href=\"localhost:5050#/homes/fonaro/workspace-data/elasticbench/validation/mc/6min/l10-a2048-c15/i5\">./l10-a2048-c15/i5</a></td>\n",
       "                        <td id=\"T_dadac8dc_dd27_11e9_9233_b15e3176cbe9row64_col1\" class=\"data row64 col1\" >finished</td>\n",
       "                        <td id=\"T_dadac8dc_dd27_11e9_9233_b15e3176cbe9row64_col2\" class=\"data row64 col2\" >1 hours</td>\n",
       "                        <td id=\"T_dadac8dc_dd27_11e9_9233_b15e3176cbe9row64_col3\" class=\"data row64 col3\" >1:02 hours</td>\n",
       "                        <td id=\"T_dadac8dc_dd27_11e9_9233_b15e3176cbe9row64_col4\" class=\"data row64 col4\" >05:41 (2019-08-27)</td>\n",
       "                        <td id=\"T_dadac8dc_dd27_11e9_9233_b15e3176cbe9row64_col5\" class=\"data row64 col5\" >06:43 (2019-08-27)</td>\n",
       "                        <td id=\"T_dadac8dc_dd27_11e9_9233_b15e3176cbe9row64_col6\" class=\"data row64 col6\" >1466</td>\n",
       "                        <td id=\"T_dadac8dc_dd27_11e9_9233_b15e3176cbe9row64_col7\" class=\"data row64 col7\" >0</td>\n",
       "                        <td id=\"T_dadac8dc_dd27_11e9_9233_b15e3176cbe9row64_col8\" class=\"data row64 col8\" >0</td>\n",
       "            </tr>\n",
       "            <tr>\n",
       "                        <th id=\"T_dadac8dc_dd27_11e9_9233_b15e3176cbe9level0_row65\" class=\"row_heading level0 row65\" >65</th>\n",
       "                        <td id=\"T_dadac8dc_dd27_11e9_9233_b15e3176cbe9row65_col0\" class=\"data row65 col0\" ><a href=\"localhost:5050#/homes/fonaro/workspace-data/elasticbench/validation/mc/6min/l10-a2048-c15/i4\">./l10-a2048-c15/i4</a></td>\n",
       "                        <td id=\"T_dadac8dc_dd27_11e9_9233_b15e3176cbe9row65_col1\" class=\"data row65 col1\" >finished</td>\n",
       "                        <td id=\"T_dadac8dc_dd27_11e9_9233_b15e3176cbe9row65_col2\" class=\"data row65 col2\" >1 hours</td>\n",
       "                        <td id=\"T_dadac8dc_dd27_11e9_9233_b15e3176cbe9row65_col3\" class=\"data row65 col3\" >1:02 hours</td>\n",
       "                        <td id=\"T_dadac8dc_dd27_11e9_9233_b15e3176cbe9row65_col4\" class=\"data row65 col4\" >04:38 (2019-08-27)</td>\n",
       "                        <td id=\"T_dadac8dc_dd27_11e9_9233_b15e3176cbe9row65_col5\" class=\"data row65 col5\" >05:41 (2019-08-27)</td>\n",
       "                        <td id=\"T_dadac8dc_dd27_11e9_9233_b15e3176cbe9row65_col6\" class=\"data row65 col6\" >1400</td>\n",
       "                        <td id=\"T_dadac8dc_dd27_11e9_9233_b15e3176cbe9row65_col7\" class=\"data row65 col7\" >0</td>\n",
       "                        <td id=\"T_dadac8dc_dd27_11e9_9233_b15e3176cbe9row65_col8\" class=\"data row65 col8\" >0</td>\n",
       "            </tr>\n",
       "            <tr>\n",
       "                        <th id=\"T_dadac8dc_dd27_11e9_9233_b15e3176cbe9level0_row66\" class=\"row_heading level0 row66\" >66</th>\n",
       "                        <td id=\"T_dadac8dc_dd27_11e9_9233_b15e3176cbe9row66_col0\" class=\"data row66 col0\" ><a href=\"localhost:5050#/homes/fonaro/workspace-data/elasticbench/validation/mc/6min/l10-a2048-c15/i3\">./l10-a2048-c15/i3</a></td>\n",
       "                        <td id=\"T_dadac8dc_dd27_11e9_9233_b15e3176cbe9row66_col1\" class=\"data row66 col1\" >finished</td>\n",
       "                        <td id=\"T_dadac8dc_dd27_11e9_9233_b15e3176cbe9row66_col2\" class=\"data row66 col2\" >1 hours</td>\n",
       "                        <td id=\"T_dadac8dc_dd27_11e9_9233_b15e3176cbe9row66_col3\" class=\"data row66 col3\" >1:02 hours</td>\n",
       "                        <td id=\"T_dadac8dc_dd27_11e9_9233_b15e3176cbe9row66_col4\" class=\"data row66 col4\" >03:36 (2019-08-27)</td>\n",
       "                        <td id=\"T_dadac8dc_dd27_11e9_9233_b15e3176cbe9row66_col5\" class=\"data row66 col5\" >04:38 (2019-08-27)</td>\n",
       "                        <td id=\"T_dadac8dc_dd27_11e9_9233_b15e3176cbe9row66_col6\" class=\"data row66 col6\" >1395</td>\n",
       "                        <td id=\"T_dadac8dc_dd27_11e9_9233_b15e3176cbe9row66_col7\" class=\"data row66 col7\" >0</td>\n",
       "                        <td id=\"T_dadac8dc_dd27_11e9_9233_b15e3176cbe9row66_col8\" class=\"data row66 col8\" >0</td>\n",
       "            </tr>\n",
       "            <tr>\n",
       "                        <th id=\"T_dadac8dc_dd27_11e9_9233_b15e3176cbe9level0_row67\" class=\"row_heading level0 row67\" >67</th>\n",
       "                        <td id=\"T_dadac8dc_dd27_11e9_9233_b15e3176cbe9row67_col0\" class=\"data row67 col0\" ><a href=\"localhost:5050#/homes/fonaro/workspace-data/elasticbench/validation/mc/6min/l10-a2048-c15/i2\">./l10-a2048-c15/i2</a></td>\n",
       "                        <td id=\"T_dadac8dc_dd27_11e9_9233_b15e3176cbe9row67_col1\" class=\"data row67 col1\" >finished</td>\n",
       "                        <td id=\"T_dadac8dc_dd27_11e9_9233_b15e3176cbe9row67_col2\" class=\"data row67 col2\" >1 hours</td>\n",
       "                        <td id=\"T_dadac8dc_dd27_11e9_9233_b15e3176cbe9row67_col3\" class=\"data row67 col3\" >1:02 hours</td>\n",
       "                        <td id=\"T_dadac8dc_dd27_11e9_9233_b15e3176cbe9row67_col4\" class=\"data row67 col4\" >02:34 (2019-08-27)</td>\n",
       "                        <td id=\"T_dadac8dc_dd27_11e9_9233_b15e3176cbe9row67_col5\" class=\"data row67 col5\" >03:36 (2019-08-27)</td>\n",
       "                        <td id=\"T_dadac8dc_dd27_11e9_9233_b15e3176cbe9row67_col6\" class=\"data row67 col6\" >1455</td>\n",
       "                        <td id=\"T_dadac8dc_dd27_11e9_9233_b15e3176cbe9row67_col7\" class=\"data row67 col7\" >0</td>\n",
       "                        <td id=\"T_dadac8dc_dd27_11e9_9233_b15e3176cbe9row67_col8\" class=\"data row67 col8\" >0</td>\n",
       "            </tr>\n",
       "            <tr>\n",
       "                        <th id=\"T_dadac8dc_dd27_11e9_9233_b15e3176cbe9level0_row68\" class=\"row_heading level0 row68\" >68</th>\n",
       "                        <td id=\"T_dadac8dc_dd27_11e9_9233_b15e3176cbe9row68_col0\" class=\"data row68 col0\" ><a href=\"localhost:5050#/homes/fonaro/workspace-data/elasticbench/validation/mc/6min/l10-a2048-c15/i19\">./l10-a2048-c15/i19</a></td>\n",
       "                        <td id=\"T_dadac8dc_dd27_11e9_9233_b15e3176cbe9row68_col1\" class=\"data row68 col1\" >finished</td>\n",
       "                        <td id=\"T_dadac8dc_dd27_11e9_9233_b15e3176cbe9row68_col2\" class=\"data row68 col2\" >1 hours</td>\n",
       "                        <td id=\"T_dadac8dc_dd27_11e9_9233_b15e3176cbe9row68_col3\" class=\"data row68 col3\" >1:02 hours</td>\n",
       "                        <td id=\"T_dadac8dc_dd27_11e9_9233_b15e3176cbe9row68_col4\" class=\"data row68 col4\" >01:31 (2019-08-27)</td>\n",
       "                        <td id=\"T_dadac8dc_dd27_11e9_9233_b15e3176cbe9row68_col5\" class=\"data row68 col5\" >02:33 (2019-08-27)</td>\n",
       "                        <td id=\"T_dadac8dc_dd27_11e9_9233_b15e3176cbe9row68_col6\" class=\"data row68 col6\" >1653</td>\n",
       "                        <td id=\"T_dadac8dc_dd27_11e9_9233_b15e3176cbe9row68_col7\" class=\"data row68 col7\" >0</td>\n",
       "                        <td id=\"T_dadac8dc_dd27_11e9_9233_b15e3176cbe9row68_col8\" class=\"data row68 col8\" >0</td>\n",
       "            </tr>\n",
       "            <tr>\n",
       "                        <th id=\"T_dadac8dc_dd27_11e9_9233_b15e3176cbe9level0_row69\" class=\"row_heading level0 row69\" >69</th>\n",
       "                        <td id=\"T_dadac8dc_dd27_11e9_9233_b15e3176cbe9row69_col0\" class=\"data row69 col0\" ><a href=\"localhost:5050#/homes/fonaro/workspace-data/elasticbench/validation/mc/6min/l10-a2048-c15/i18\">./l10-a2048-c15/i18</a></td>\n",
       "                        <td id=\"T_dadac8dc_dd27_11e9_9233_b15e3176cbe9row69_col1\" class=\"data row69 col1\" >finished</td>\n",
       "                        <td id=\"T_dadac8dc_dd27_11e9_9233_b15e3176cbe9row69_col2\" class=\"data row69 col2\" >1 hours</td>\n",
       "                        <td id=\"T_dadac8dc_dd27_11e9_9233_b15e3176cbe9row69_col3\" class=\"data row69 col3\" >1:02 hours</td>\n",
       "                        <td id=\"T_dadac8dc_dd27_11e9_9233_b15e3176cbe9row69_col4\" class=\"data row69 col4\" >00:29 (2019-08-27)</td>\n",
       "                        <td id=\"T_dadac8dc_dd27_11e9_9233_b15e3176cbe9row69_col5\" class=\"data row69 col5\" >01:31 (2019-08-27)</td>\n",
       "                        <td id=\"T_dadac8dc_dd27_11e9_9233_b15e3176cbe9row69_col6\" class=\"data row69 col6\" >1377</td>\n",
       "                        <td id=\"T_dadac8dc_dd27_11e9_9233_b15e3176cbe9row69_col7\" class=\"data row69 col7\" >0</td>\n",
       "                        <td id=\"T_dadac8dc_dd27_11e9_9233_b15e3176cbe9row69_col8\" class=\"data row69 col8\" >0</td>\n",
       "            </tr>\n",
       "            <tr>\n",
       "                        <th id=\"T_dadac8dc_dd27_11e9_9233_b15e3176cbe9level0_row70\" class=\"row_heading level0 row70\" >70</th>\n",
       "                        <td id=\"T_dadac8dc_dd27_11e9_9233_b15e3176cbe9row70_col0\" class=\"data row70 col0\" ><a href=\"localhost:5050#/homes/fonaro/workspace-data/elasticbench/validation/mc/6min/l10-a2048-c15/i17\">./l10-a2048-c15/i17</a></td>\n",
       "                        <td id=\"T_dadac8dc_dd27_11e9_9233_b15e3176cbe9row70_col1\" class=\"data row70 col1\" >finished</td>\n",
       "                        <td id=\"T_dadac8dc_dd27_11e9_9233_b15e3176cbe9row70_col2\" class=\"data row70 col2\" >1 hours</td>\n",
       "                        <td id=\"T_dadac8dc_dd27_11e9_9233_b15e3176cbe9row70_col3\" class=\"data row70 col3\" >1:02 hours</td>\n",
       "                        <td id=\"T_dadac8dc_dd27_11e9_9233_b15e3176cbe9row70_col4\" class=\"data row70 col4\" >23:26 (2019-08-26)</td>\n",
       "                        <td id=\"T_dadac8dc_dd27_11e9_9233_b15e3176cbe9row70_col5\" class=\"data row70 col5\" >00:29 (2019-08-27)</td>\n",
       "                        <td id=\"T_dadac8dc_dd27_11e9_9233_b15e3176cbe9row70_col6\" class=\"data row70 col6\" >1401</td>\n",
       "                        <td id=\"T_dadac8dc_dd27_11e9_9233_b15e3176cbe9row70_col7\" class=\"data row70 col7\" >0</td>\n",
       "                        <td id=\"T_dadac8dc_dd27_11e9_9233_b15e3176cbe9row70_col8\" class=\"data row70 col8\" >0</td>\n",
       "            </tr>\n",
       "            <tr>\n",
       "                        <th id=\"T_dadac8dc_dd27_11e9_9233_b15e3176cbe9level0_row71\" class=\"row_heading level0 row71\" >71</th>\n",
       "                        <td id=\"T_dadac8dc_dd27_11e9_9233_b15e3176cbe9row71_col0\" class=\"data row71 col0\" ><a href=\"localhost:5050#/homes/fonaro/workspace-data/elasticbench/validation/mc/6min/l10-a2048-c15/i16\">./l10-a2048-c15/i16</a></td>\n",
       "                        <td id=\"T_dadac8dc_dd27_11e9_9233_b15e3176cbe9row71_col1\" class=\"data row71 col1\" >finished</td>\n",
       "                        <td id=\"T_dadac8dc_dd27_11e9_9233_b15e3176cbe9row71_col2\" class=\"data row71 col2\" >1 hours</td>\n",
       "                        <td id=\"T_dadac8dc_dd27_11e9_9233_b15e3176cbe9row71_col3\" class=\"data row71 col3\" >1:02 hours</td>\n",
       "                        <td id=\"T_dadac8dc_dd27_11e9_9233_b15e3176cbe9row71_col4\" class=\"data row71 col4\" >22:24 (2019-08-26)</td>\n",
       "                        <td id=\"T_dadac8dc_dd27_11e9_9233_b15e3176cbe9row71_col5\" class=\"data row71 col5\" >23:26 (2019-08-26)</td>\n",
       "                        <td id=\"T_dadac8dc_dd27_11e9_9233_b15e3176cbe9row71_col6\" class=\"data row71 col6\" >1605</td>\n",
       "                        <td id=\"T_dadac8dc_dd27_11e9_9233_b15e3176cbe9row71_col7\" class=\"data row71 col7\" >0</td>\n",
       "                        <td id=\"T_dadac8dc_dd27_11e9_9233_b15e3176cbe9row71_col8\" class=\"data row71 col8\" >0</td>\n",
       "            </tr>\n",
       "            <tr>\n",
       "                        <th id=\"T_dadac8dc_dd27_11e9_9233_b15e3176cbe9level0_row72\" class=\"row_heading level0 row72\" >72</th>\n",
       "                        <td id=\"T_dadac8dc_dd27_11e9_9233_b15e3176cbe9row72_col0\" class=\"data row72 col0\" ><a href=\"localhost:5050#/homes/fonaro/workspace-data/elasticbench/validation/mc/6min/l10-a2048-c15/i15\">./l10-a2048-c15/i15</a></td>\n",
       "                        <td id=\"T_dadac8dc_dd27_11e9_9233_b15e3176cbe9row72_col1\" class=\"data row72 col1\" >finished</td>\n",
       "                        <td id=\"T_dadac8dc_dd27_11e9_9233_b15e3176cbe9row72_col2\" class=\"data row72 col2\" >1 hours</td>\n",
       "                        <td id=\"T_dadac8dc_dd27_11e9_9233_b15e3176cbe9row72_col3\" class=\"data row72 col3\" >1:02 hours</td>\n",
       "                        <td id=\"T_dadac8dc_dd27_11e9_9233_b15e3176cbe9row72_col4\" class=\"data row72 col4\" >21:22 (2019-08-26)</td>\n",
       "                        <td id=\"T_dadac8dc_dd27_11e9_9233_b15e3176cbe9row72_col5\" class=\"data row72 col5\" >22:24 (2019-08-26)</td>\n",
       "                        <td id=\"T_dadac8dc_dd27_11e9_9233_b15e3176cbe9row72_col6\" class=\"data row72 col6\" >1471</td>\n",
       "                        <td id=\"T_dadac8dc_dd27_11e9_9233_b15e3176cbe9row72_col7\" class=\"data row72 col7\" >0</td>\n",
       "                        <td id=\"T_dadac8dc_dd27_11e9_9233_b15e3176cbe9row72_col8\" class=\"data row72 col8\" >0</td>\n",
       "            </tr>\n",
       "            <tr>\n",
       "                        <th id=\"T_dadac8dc_dd27_11e9_9233_b15e3176cbe9level0_row73\" class=\"row_heading level0 row73\" >73</th>\n",
       "                        <td id=\"T_dadac8dc_dd27_11e9_9233_b15e3176cbe9row73_col0\" class=\"data row73 col0\" ><a href=\"localhost:5050#/homes/fonaro/workspace-data/elasticbench/validation/mc/6min/l10-a2048-c15/i14\">./l10-a2048-c15/i14</a></td>\n",
       "                        <td id=\"T_dadac8dc_dd27_11e9_9233_b15e3176cbe9row73_col1\" class=\"data row73 col1\" >finished</td>\n",
       "                        <td id=\"T_dadac8dc_dd27_11e9_9233_b15e3176cbe9row73_col2\" class=\"data row73 col2\" >1 hours</td>\n",
       "                        <td id=\"T_dadac8dc_dd27_11e9_9233_b15e3176cbe9row73_col3\" class=\"data row73 col3\" >1:02 hours</td>\n",
       "                        <td id=\"T_dadac8dc_dd27_11e9_9233_b15e3176cbe9row73_col4\" class=\"data row73 col4\" >20:19 (2019-08-26)</td>\n",
       "                        <td id=\"T_dadac8dc_dd27_11e9_9233_b15e3176cbe9row73_col5\" class=\"data row73 col5\" >21:22 (2019-08-26)</td>\n",
       "                        <td id=\"T_dadac8dc_dd27_11e9_9233_b15e3176cbe9row73_col6\" class=\"data row73 col6\" >1422</td>\n",
       "                        <td id=\"T_dadac8dc_dd27_11e9_9233_b15e3176cbe9row73_col7\" class=\"data row73 col7\" >0</td>\n",
       "                        <td id=\"T_dadac8dc_dd27_11e9_9233_b15e3176cbe9row73_col8\" class=\"data row73 col8\" >0</td>\n",
       "            </tr>\n",
       "            <tr>\n",
       "                        <th id=\"T_dadac8dc_dd27_11e9_9233_b15e3176cbe9level0_row74\" class=\"row_heading level0 row74\" >74</th>\n",
       "                        <td id=\"T_dadac8dc_dd27_11e9_9233_b15e3176cbe9row74_col0\" class=\"data row74 col0\" ><a href=\"localhost:5050#/homes/fonaro/workspace-data/elasticbench/validation/mc/6min/l10-a2048-c15/i13\">./l10-a2048-c15/i13</a></td>\n",
       "                        <td id=\"T_dadac8dc_dd27_11e9_9233_b15e3176cbe9row74_col1\" class=\"data row74 col1\" >finished</td>\n",
       "                        <td id=\"T_dadac8dc_dd27_11e9_9233_b15e3176cbe9row74_col2\" class=\"data row74 col2\" >1 hours</td>\n",
       "                        <td id=\"T_dadac8dc_dd27_11e9_9233_b15e3176cbe9row74_col3\" class=\"data row74 col3\" >1:02 hours</td>\n",
       "                        <td id=\"T_dadac8dc_dd27_11e9_9233_b15e3176cbe9row74_col4\" class=\"data row74 col4\" >19:17 (2019-08-26)</td>\n",
       "                        <td id=\"T_dadac8dc_dd27_11e9_9233_b15e3176cbe9row74_col5\" class=\"data row74 col5\" >20:19 (2019-08-26)</td>\n",
       "                        <td id=\"T_dadac8dc_dd27_11e9_9233_b15e3176cbe9row74_col6\" class=\"data row74 col6\" >1452</td>\n",
       "                        <td id=\"T_dadac8dc_dd27_11e9_9233_b15e3176cbe9row74_col7\" class=\"data row74 col7\" >0</td>\n",
       "                        <td id=\"T_dadac8dc_dd27_11e9_9233_b15e3176cbe9row74_col8\" class=\"data row74 col8\" >0</td>\n",
       "            </tr>\n",
       "            <tr>\n",
       "                        <th id=\"T_dadac8dc_dd27_11e9_9233_b15e3176cbe9level0_row75\" class=\"row_heading level0 row75\" >75</th>\n",
       "                        <td id=\"T_dadac8dc_dd27_11e9_9233_b15e3176cbe9row75_col0\" class=\"data row75 col0\" ><a href=\"localhost:5050#/homes/fonaro/workspace-data/elasticbench/validation/mc/6min/l10-a2048-c15/i12\">./l10-a2048-c15/i12</a></td>\n",
       "                        <td id=\"T_dadac8dc_dd27_11e9_9233_b15e3176cbe9row75_col1\" class=\"data row75 col1\" >finished</td>\n",
       "                        <td id=\"T_dadac8dc_dd27_11e9_9233_b15e3176cbe9row75_col2\" class=\"data row75 col2\" >1 hours</td>\n",
       "                        <td id=\"T_dadac8dc_dd27_11e9_9233_b15e3176cbe9row75_col3\" class=\"data row75 col3\" >1:02 hours</td>\n",
       "                        <td id=\"T_dadac8dc_dd27_11e9_9233_b15e3176cbe9row75_col4\" class=\"data row75 col4\" >18:14 (2019-08-26)</td>\n",
       "                        <td id=\"T_dadac8dc_dd27_11e9_9233_b15e3176cbe9row75_col5\" class=\"data row75 col5\" >19:17 (2019-08-26)</td>\n",
       "                        <td id=\"T_dadac8dc_dd27_11e9_9233_b15e3176cbe9row75_col6\" class=\"data row75 col6\" >1373</td>\n",
       "                        <td id=\"T_dadac8dc_dd27_11e9_9233_b15e3176cbe9row75_col7\" class=\"data row75 col7\" >0</td>\n",
       "                        <td id=\"T_dadac8dc_dd27_11e9_9233_b15e3176cbe9row75_col8\" class=\"data row75 col8\" >0</td>\n",
       "            </tr>\n",
       "            <tr>\n",
       "                        <th id=\"T_dadac8dc_dd27_11e9_9233_b15e3176cbe9level0_row76\" class=\"row_heading level0 row76\" >76</th>\n",
       "                        <td id=\"T_dadac8dc_dd27_11e9_9233_b15e3176cbe9row76_col0\" class=\"data row76 col0\" ><a href=\"localhost:5050#/homes/fonaro/workspace-data/elasticbench/validation/mc/6min/l10-a2048-c15/i11\">./l10-a2048-c15/i11</a></td>\n",
       "                        <td id=\"T_dadac8dc_dd27_11e9_9233_b15e3176cbe9row76_col1\" class=\"data row76 col1\" >finished</td>\n",
       "                        <td id=\"T_dadac8dc_dd27_11e9_9233_b15e3176cbe9row76_col2\" class=\"data row76 col2\" >1 hours</td>\n",
       "                        <td id=\"T_dadac8dc_dd27_11e9_9233_b15e3176cbe9row76_col3\" class=\"data row76 col3\" >1:02 hours</td>\n",
       "                        <td id=\"T_dadac8dc_dd27_11e9_9233_b15e3176cbe9row76_col4\" class=\"data row76 col4\" >17:12 (2019-08-26)</td>\n",
       "                        <td id=\"T_dadac8dc_dd27_11e9_9233_b15e3176cbe9row76_col5\" class=\"data row76 col5\" >18:14 (2019-08-26)</td>\n",
       "                        <td id=\"T_dadac8dc_dd27_11e9_9233_b15e3176cbe9row76_col6\" class=\"data row76 col6\" >1543</td>\n",
       "                        <td id=\"T_dadac8dc_dd27_11e9_9233_b15e3176cbe9row76_col7\" class=\"data row76 col7\" >0</td>\n",
       "                        <td id=\"T_dadac8dc_dd27_11e9_9233_b15e3176cbe9row76_col8\" class=\"data row76 col8\" >0</td>\n",
       "            </tr>\n",
       "            <tr>\n",
       "                        <th id=\"T_dadac8dc_dd27_11e9_9233_b15e3176cbe9level0_row77\" class=\"row_heading level0 row77\" >77</th>\n",
       "                        <td id=\"T_dadac8dc_dd27_11e9_9233_b15e3176cbe9row77_col0\" class=\"data row77 col0\" ><a href=\"localhost:5050#/homes/fonaro/workspace-data/elasticbench/validation/mc/6min/l10-a2048-c15/i10\">./l10-a2048-c15/i10</a></td>\n",
       "                        <td id=\"T_dadac8dc_dd27_11e9_9233_b15e3176cbe9row77_col1\" class=\"data row77 col1\" >finished</td>\n",
       "                        <td id=\"T_dadac8dc_dd27_11e9_9233_b15e3176cbe9row77_col2\" class=\"data row77 col2\" >1 hours</td>\n",
       "                        <td id=\"T_dadac8dc_dd27_11e9_9233_b15e3176cbe9row77_col3\" class=\"data row77 col3\" >1:02 hours</td>\n",
       "                        <td id=\"T_dadac8dc_dd27_11e9_9233_b15e3176cbe9row77_col4\" class=\"data row77 col4\" >16:10 (2019-08-26)</td>\n",
       "                        <td id=\"T_dadac8dc_dd27_11e9_9233_b15e3176cbe9row77_col5\" class=\"data row77 col5\" >17:12 (2019-08-26)</td>\n",
       "                        <td id=\"T_dadac8dc_dd27_11e9_9233_b15e3176cbe9row77_col6\" class=\"data row77 col6\" >1404</td>\n",
       "                        <td id=\"T_dadac8dc_dd27_11e9_9233_b15e3176cbe9row77_col7\" class=\"data row77 col7\" >0</td>\n",
       "                        <td id=\"T_dadac8dc_dd27_11e9_9233_b15e3176cbe9row77_col8\" class=\"data row77 col8\" >0</td>\n",
       "            </tr>\n",
       "            <tr>\n",
       "                        <th id=\"T_dadac8dc_dd27_11e9_9233_b15e3176cbe9level0_row78\" class=\"row_heading level0 row78\" >78</th>\n",
       "                        <td id=\"T_dadac8dc_dd27_11e9_9233_b15e3176cbe9row78_col0\" class=\"data row78 col0\" ><a href=\"localhost:5050#/homes/fonaro/workspace-data/elasticbench/validation/mc/6min/l10-a2048-c15/i1\">./l10-a2048-c15/i1</a></td>\n",
       "                        <td id=\"T_dadac8dc_dd27_11e9_9233_b15e3176cbe9row78_col1\" class=\"data row78 col1\" >finished</td>\n",
       "                        <td id=\"T_dadac8dc_dd27_11e9_9233_b15e3176cbe9row78_col2\" class=\"data row78 col2\" >1 hours</td>\n",
       "                        <td id=\"T_dadac8dc_dd27_11e9_9233_b15e3176cbe9row78_col3\" class=\"data row78 col3\" >1:02 hours</td>\n",
       "                        <td id=\"T_dadac8dc_dd27_11e9_9233_b15e3176cbe9row78_col4\" class=\"data row78 col4\" >15:07 (2019-08-26)</td>\n",
       "                        <td id=\"T_dadac8dc_dd27_11e9_9233_b15e3176cbe9row78_col5\" class=\"data row78 col5\" >16:10 (2019-08-26)</td>\n",
       "                        <td id=\"T_dadac8dc_dd27_11e9_9233_b15e3176cbe9row78_col6\" class=\"data row78 col6\" >1530</td>\n",
       "                        <td id=\"T_dadac8dc_dd27_11e9_9233_b15e3176cbe9row78_col7\" class=\"data row78 col7\" >0</td>\n",
       "                        <td id=\"T_dadac8dc_dd27_11e9_9233_b15e3176cbe9row78_col8\" class=\"data row78 col8\" >0</td>\n",
       "            </tr>\n",
       "            <tr>\n",
       "                        <th id=\"T_dadac8dc_dd27_11e9_9233_b15e3176cbe9level0_row79\" class=\"row_heading level0 row79\" >79</th>\n",
       "                        <td id=\"T_dadac8dc_dd27_11e9_9233_b15e3176cbe9row79_col0\" class=\"data row79 col0\" ><a href=\"localhost:5050#/homes/fonaro/workspace-data/elasticbench/validation/mc/6min/l10-a2048-c15/i0\">./l10-a2048-c15/i0</a></td>\n",
       "                        <td id=\"T_dadac8dc_dd27_11e9_9233_b15e3176cbe9row79_col1\" class=\"data row79 col1\" >finished</td>\n",
       "                        <td id=\"T_dadac8dc_dd27_11e9_9233_b15e3176cbe9row79_col2\" class=\"data row79 col2\" >1 hours</td>\n",
       "                        <td id=\"T_dadac8dc_dd27_11e9_9233_b15e3176cbe9row79_col3\" class=\"data row79 col3\" >1:02 hours</td>\n",
       "                        <td id=\"T_dadac8dc_dd27_11e9_9233_b15e3176cbe9row79_col4\" class=\"data row79 col4\" >14:05 (2019-08-26)</td>\n",
       "                        <td id=\"T_dadac8dc_dd27_11e9_9233_b15e3176cbe9row79_col5\" class=\"data row79 col5\" >15:07 (2019-08-26)</td>\n",
       "                        <td id=\"T_dadac8dc_dd27_11e9_9233_b15e3176cbe9row79_col6\" class=\"data row79 col6\" >1402</td>\n",
       "                        <td id=\"T_dadac8dc_dd27_11e9_9233_b15e3176cbe9row79_col7\" class=\"data row79 col7\" >0</td>\n",
       "                        <td id=\"T_dadac8dc_dd27_11e9_9233_b15e3176cbe9row79_col8\" class=\"data row79 col8\" >0</td>\n",
       "            </tr>\n",
       "    </tbody></table>"
      ],
      "text/plain": [
       "<pandas.io.formats.style.Styler at 0x7fea9f069f98>"
      ]
     },
     "execution_count": 14,
     "metadata": {},
     "output_type": "execute_result"
    }
   ],
   "source": [
    "batch_progress(settings.output_path('validation/mc/6min'), monitor_address=settings.monitor_server_address())"
   ]
  },
  {
   "cell_type": "code",
   "execution_count": 5,
   "metadata": {
    "ExecuteTime": {
     "end_time": "2019-08-13T08:12:25.925196Z",
     "start_time": "2019-08-13T08:12:25.880325Z"
    }
   },
   "outputs": [
    {
     "data": {
      "text/plain": [
       "False"
      ]
     },
     "execution_count": 5,
     "metadata": {},
     "output_type": "execute_result"
    }
   ],
   "source": [
    "import nesteddict\n",
    "store = nesteddict.NestedDictFS(settings.output_path('mem-trace', '6min'), mode='c', store_engine='pickle')\n",
    "(4096, 10, 10) in store"
   ]
  },
  {
   "cell_type": "markdown",
   "metadata": {
    "heading_collapsed": true
   },
   "source": [
    "# Creating Tests"
   ]
  },
  {
   "cell_type": "code",
   "execution_count": 6,
   "metadata": {
    "ExecuteTime": {
     "end_time": "2019-08-13T08:15:34.249157Z",
     "start_time": "2019-08-13T08:15:30.986854Z"
    },
    "hidden": true
   },
   "outputs": [],
   "source": [
    "from elasticbench.exp.mem_trace import generate_multiple_mem_trace\n",
    "generate_multiple_mem_trace('6min', [512, 1024, 2048, 4096], [15, 10, 5], 20, min_amplitude=512)"
   ]
  },
  {
   "cell_type": "code",
   "execution_count": 3,
   "metadata": {
    "ExecuteTime": {
     "end_time": "2019-09-13T12:01:13.250822Z",
     "start_time": "2019-09-13T12:01:12.435248Z"
    },
    "hidden": true
   },
   "outputs": [],
   "source": [
    "from elasticbench.exp.mem_trace import generate_multiple_mem_trace\n",
    "generate_multiple_mem_trace('6min', [2048], [300, 150, 100], 20, min_amplitude=512)"
   ]
  },
  {
   "cell_type": "code",
   "execution_count": null,
   "metadata": {
    "ExecuteTime": {
     "end_time": "2019-09-13T12:03:45.299555Z",
     "start_time": "2019-09-13T12:03:31.933451Z"
    },
    "hidden": true,
    "scrolled": false
   },
   "outputs": [],
   "source": [
    "from elasticbench.exp.mem_trace import iterate_over_stored_mem_trace\n",
    "\n",
    "for (m, c, i), mem_func in iterate_over_stored_mem_trace('6min'):\n",
    "    plt.figure(figsize=(5,2))\n",
    "    mem_func.plot()\n",
    "    plt.title(f'{m}-{c}-{i}')\n",
    "    plt.show()"
   ]
  },
  {
   "cell_type": "markdown",
   "metadata": {
    "hidden": true
   },
   "source": [
    "## Validation"
   ]
  },
  {
   "cell_type": "code",
   "execution_count": 8,
   "metadata": {
    "ExecuteTime": {
     "end_time": "2019-09-13T12:06:07.355550Z",
     "start_time": "2019-09-13T12:06:06.877789Z"
    },
    "hidden": true
   },
   "outputs": [
    {
     "data": {
      "text/html": [
       "<a href=\"localhost:5050#validation/mc/6min\">validation/mc/6min</a>"
      ],
      "text/plain": [
       "<IPython.core.display.HTML object>"
      ]
     },
     "execution_count": 8,
     "metadata": {},
     "output_type": "execute_result"
    }
   ],
   "source": [
    "mc_exp.make_all_validation('6min', parameters_set={(2048, 100), (2048, 150), (2048, 300)})"
   ]
  },
  {
   "cell_type": "code",
   "execution_count": 7,
   "metadata": {
    "ExecuteTime": {
     "end_time": "2019-08-13T08:17:56.596779Z",
     "start_time": "2019-08-13T08:17:56.011606Z"
    },
    "hidden": true
   },
   "outputs": [
    {
     "data": {
      "text/html": [
       "<a href=\"localhost:5050#validation/memcached/l20-g0.90/6min\">validation/memcached/l20-g0.90/6min</a>"
      ],
      "text/plain": [
       "<IPython.core.display.HTML object>"
      ]
     },
     "execution_count": 7,
     "metadata": {},
     "output_type": "execute_result"
    }
   ],
   "source": [
    "mcd_exp.make_all_validation('6min', cmd_get_percent=0.9)"
   ]
  },
  {
   "cell_type": "markdown",
   "metadata": {
    "heading_collapsed": true,
    "hidden": true
   },
   "source": [
    "## Decrease Increase"
   ]
  },
  {
   "cell_type": "code",
   "execution_count": 14,
   "metadata": {
    "ExecuteTime": {
     "end_time": "2019-07-26T13:30:24.336213Z",
     "start_time": "2019-07-26T13:30:24.241841Z"
    },
    "hidden": true
   },
   "outputs": [
    {
     "data": {
      "text/html": [
       "<a href=\"localhost:5050#dec-inc/mc/l10-m896-3072\">dec-inc/mc/l10-m896-3072</a>"
      ],
      "text/plain": [
       "<IPython.core.display.HTML object>"
      ]
     },
     "execution_count": 14,
     "metadata": {},
     "output_type": "execute_result"
    }
   ],
   "source": [
    "mc_exp.decrease_increase_test(load=10)"
   ]
  },
  {
   "cell_type": "code",
   "execution_count": 22,
   "metadata": {
    "ExecuteTime": {
     "end_time": "2019-07-26T14:18:38.579409Z",
     "start_time": "2019-07-26T14:18:38.512298Z"
    },
    "hidden": true
   },
   "outputs": [
    {
     "data": {
      "text/html": [
       "<a href=\"localhost:5050#dec-inc/memcached/l20-m896-4096\">dec-inc/memcached/l20-m896-4096</a>"
      ],
      "text/plain": [
       "<IPython.core.display.HTML object>"
      ]
     },
     "execution_count": 22,
     "metadata": {},
     "output_type": "execute_result"
    }
   ],
   "source": [
    "mcd_exp.decrease_increase_test(load=20, win_size='100k')"
   ]
  },
  {
   "cell_type": "markdown",
   "metadata": {
    "heading_collapsed": true,
    "hidden": true
   },
   "source": [
    "## Oscillation Test"
   ]
  },
  {
   "cell_type": "code",
   "execution_count": 23,
   "metadata": {
    "ExecuteTime": {
     "end_time": "2019-07-26T14:24:16.224807Z",
     "start_time": "2019-07-26T14:24:16.108768Z"
    },
    "hidden": true
   },
   "outputs": [
    {
     "data": {
      "text/plain": [
       "(3, <IPython.core.display.HTML object>)"
      ]
     },
     "execution_count": 23,
     "metadata": {},
     "output_type": "execute_result"
    }
   ],
   "source": [
    "mc_exp.make_all_drop_test(load=10, repeat=3, exp_type='drop-init')"
   ]
  },
  {
   "cell_type": "code",
   "execution_count": 24,
   "metadata": {
    "ExecuteTime": {
     "end_time": "2019-07-26T14:24:33.148183Z",
     "start_time": "2019-07-26T14:24:33.056474Z"
    },
    "hidden": true
   },
   "outputs": [
    {
     "data": {
      "text/html": [
       "<a href=\"localhost:5050#drop-init/memcached\">drop-init/memcached</a>"
      ],
      "text/plain": [
       "<IPython.core.display.HTML object>"
      ]
     },
     "execution_count": 24,
     "metadata": {},
     "output_type": "execute_result"
    }
   ],
   "source": [
    "mcd_exp.make_all_drop_test(load=20, win_size='100k', repeat=3, exp_type='drop-init')"
   ]
  },
  {
   "cell_type": "code",
   "execution_count": 2,
   "metadata": {
    "ExecuteTime": {
     "end_time": "2019-07-31T10:52:29.352939Z",
     "start_time": "2019-07-31T10:52:29.289093Z"
    },
    "hidden": true
   },
   "outputs": [
    {
     "data": {
      "text/html": [
       "<a href=\"localhost:5050#drop/mc\">drop/mc</a>"
      ],
      "text/plain": [
       "<IPython.core.display.HTML object>"
      ]
     },
     "execution_count": 2,
     "metadata": {},
     "output_type": "execute_result"
    }
   ],
   "source": [
    "mc_exp.make_all_drop_test(load=10, repeat=5, exp_type='drop')"
   ]
  },
  {
   "cell_type": "code",
   "execution_count": 2,
   "metadata": {
    "ExecuteTime": {
     "end_time": "2019-08-04T21:57:28.039301Z",
     "start_time": "2019-08-04T21:57:27.936898Z"
    },
    "hidden": true
   },
   "outputs": [
    {
     "data": {
      "text/html": [
       "<a href=\"localhost:5050#drop/memcached/l20-g0.90\">drop/memcached/l20-g0.90</a>"
      ],
      "text/plain": [
       "<IPython.core.display.HTML object>"
      ]
     },
     "execution_count": 2,
     "metadata": {},
     "output_type": "execute_result"
    }
   ],
   "source": [
    "mcd_exp.make_all_drop_test(load=20, win_size='100k', repeat=5, exp_type='drop', spare_mem=100, cmd_get_percent=0.9)"
   ]
  },
  {
   "cell_type": "code",
   "execution_count": 10,
   "metadata": {
    "ExecuteTime": {
     "end_time": "2019-08-24T10:56:13.395775Z",
     "start_time": "2019-08-24T10:56:13.185957Z"
    },
    "hidden": true
   },
   "outputs": [
    {
     "data": {
      "text/html": [
       "<a href=\"localhost:5050#drop/memcached-static/l20-g0.90\">drop/memcached-static/l20-g0.90</a>"
      ],
      "text/plain": [
       "<IPython.core.display.HTML object>"
      ]
     },
     "execution_count": 10,
     "metadata": {},
     "output_type": "execute_result"
    }
   ],
   "source": [
    "mcd_exp.make_all_drop_test(load=20, win_size='100k', repeat=5, exp_type='drop', spare_mem=100, cmd_get_percent=0.9, elastic=False,\n",
    "                          base_step_time=(12, 'm'), drop_step_time=(12, 'm'))"
   ]
  },
  {
   "cell_type": "markdown",
   "metadata": {
    "heading_collapsed": true,
    "hidden": true
   },
   "source": [
    "## Step Test"
   ]
  },
  {
   "cell_type": "code",
   "execution_count": null,
   "metadata": {
    "ExecuteTime": {
     "end_time": "2019-07-01T16:01:13.119877Z",
     "start_time": "2019-07-01T16:01:13.025756Z"
    },
    "hidden": true
   },
   "outputs": [],
   "source": [
    "memory_consumer.step_test(4096, 1024, [(1, 'm')]*5, load=10)"
   ]
  },
  {
   "cell_type": "code",
   "execution_count": null,
   "metadata": {
    "ExecuteTime": {
     "end_time": "2019-07-17T13:06:51.802119Z",
     "start_time": "2019-07-17T13:06:50.620777Z"
    },
    "hidden": true
   },
   "outputs": [],
   "source": [
    "mcd_exp.step_test(4096, 1024, [(4, 'm'), (1, 'm')]*10, win_size='100k', load=10)"
   ]
  },
  {
   "cell_type": "markdown",
   "metadata": {
    "heading_collapsed": true,
    "hidden": true
   },
   "source": [
    "## Static"
   ]
  },
  {
   "cell_type": "code",
   "execution_count": 2,
   "metadata": {
    "ExecuteTime": {
     "end_time": "2019-08-04T21:24:48.048725Z",
     "start_time": "2019-08-04T21:24:47.888583Z"
    },
    "hidden": true
   },
   "outputs": [
    {
     "data": {
      "text/html": [
       "<a href=\"localhost:5050#static/memcached/l20-g0.90/l20-m4096-10m\">static/memcached/l20-g0.90/l20-m4096-10m</a>"
      ],
      "text/plain": [
       "<IPython.core.display.HTML object>"
      ]
     },
     "execution_count": 2,
     "metadata": {},
     "output_type": "execute_result"
    }
   ],
   "source": [
    "mcd_exp.static_test(load=20, memory_alloc=4096, duration=(10, 'm'), win_size='100k', cmd_get_percent=0.9, dynamic=True)"
   ]
  },
  {
   "cell_type": "code",
   "execution_count": null,
   "metadata": {
    "ExecuteTime": {
     "end_time": "2019-07-18T11:06:33.993958Z",
     "start_time": "2019-07-18T11:06:33.739302Z"
    },
    "hidden": true
   },
   "outputs": [],
   "source": [
    "t = mcd_exp.make_all_step_tests(win_size='100k', load=20)\n",
    "len(t)"
   ]
  },
  {
   "cell_type": "code",
   "execution_count": null,
   "metadata": {
    "ExecuteTime": {
     "end_time": "2019-07-08T09:33:00.797272Z",
     "start_time": "2019-07-08T09:33:00.702009Z"
    },
    "hidden": true
   },
   "outputs": [],
   "source": [
    "iperf_exp.static_test(load=10, memory_alloc=4096, duration=(1, 'h'))"
   ]
  },
  {
   "cell_type": "code",
   "execution_count": null,
   "metadata": {
    "ExecuteTime": {
     "end_time": "2019-07-15T19:32:18.181121Z",
     "start_time": "2019-07-15T19:32:18.068494Z"
    },
    "hidden": true
   },
   "outputs": [],
   "source": [
    "psql_exp.static_test(load=128, memory_alloc=2048, duration=(1, 'h'))"
   ]
  },
  {
   "cell_type": "code",
   "execution_count": null,
   "metadata": {
    "hidden": true
   },
   "outputs": [],
   "source": [
    "stress_exp.static_test(load=4, memory_alloc=4096, duration=(1, 'h'))"
   ]
  },
  {
   "cell_type": "markdown",
   "metadata": {
    "heading_collapsed": true
   },
   "source": [
    "# PSQL"
   ]
  },
  {
   "cell_type": "code",
   "execution_count": null,
   "metadata": {
    "ExecuteTime": {
     "end_time": "2019-07-14T09:49:33.887749Z",
     "start_time": "2019-07-14T09:49:27.870465Z"
    },
    "hidden": true
   },
   "outputs": [],
   "source": [
    "d = ExpData(settings.get_output_path('static/psql-l4-m4096-1h'))\n",
    "c = d.column_names\n",
    "len(c)\n",
    "print([cc for cc in c if cc.startswith('perf:')])"
   ]
  },
  {
   "cell_type": "code",
   "execution_count": null,
   "metadata": {
    "ExecuteTime": {
     "end_time": "2019-07-16T08:53:46.752830Z",
     "start_time": "2019-07-16T08:53:41.978327Z"
    },
    "hidden": true,
    "scrolled": true
   },
   "outputs": [],
   "source": [
    "d = ExpData(settings.get_output_path('static/psql-l128-m2048-1h'))\n",
    "plot_funcs(d, psql_plots.tps,\n",
    "           plots.mem_libvirt, plots.mem_control, plots.mem_available, plots.mem_used, plots.mem_cache_and_buff,\n",
    "          for_group='vm-1'\n",
    "          )"
   ]
  },
  {
   "cell_type": "code",
   "execution_count": null,
   "metadata": {
    "ExecuteTime": {
     "end_time": "2019-07-15T19:09:28.108905Z",
     "start_time": "2019-07-15T19:09:20.849047Z"
    },
    "hidden": true,
    "scrolled": true
   },
   "outputs": [],
   "source": [
    "d = ExpData(settings.get_output_path('static/psql-l256-m8192-1h'))\n",
    "plot_funcs(d, psql_plots.tps,\n",
    "           plots.mem_libvirt, plots.mem_control, plots.mem_available, plots.mem_used, plots.mem_cache_and_buff,\n",
    "          for_group='vm-1'\n",
    "          )"
   ]
  },
  {
   "cell_type": "code",
   "execution_count": null,
   "metadata": {
    "ExecuteTime": {
     "end_time": "2019-07-15T19:09:53.283729Z",
     "start_time": "2019-07-15T19:09:51.974401Z"
    },
    "hidden": true,
    "scrolled": true
   },
   "outputs": [],
   "source": [
    "d = ExpData(settings.get_output_path('static/psql-l256-m4096-1h'))\n",
    "plot_funcs(d, psql_plots.tps,\n",
    "           plots.mem_libvirt, plots.mem_control, plots.mem_available, plots.mem_used, plots.mem_cache_and_buff,\n",
    "          for_group='vm-1'\n",
    "          )"
   ]
  },
  {
   "cell_type": "code",
   "execution_count": null,
   "metadata": {
    "ExecuteTime": {
     "end_time": "2019-07-15T17:11:08.369163Z",
     "start_time": "2019-07-15T17:11:06.560706Z"
    },
    "hidden": true,
    "scrolled": true
   },
   "outputs": [],
   "source": [
    "d = ExpData(settings.get_output_path('static/psql-l256-m4096-1h'))\n",
    "plot_funcs(d, psql_plots.tps,\n",
    "           plots.mem_libvirt, plots.mem_control, plots.mem_available, plots.mem_used, plots.mem_cache_and_buff, plots.cpu_usage_time_resample,\n",
    "          for_group='vm-1'\n",
    "          )"
   ]
  },
  {
   "cell_type": "code",
   "execution_count": null,
   "metadata": {
    "ExecuteTime": {
     "end_time": "2019-07-14T14:16:29.925522Z",
     "start_time": "2019-07-14T14:16:28.924523Z"
    },
    "hidden": true
   },
   "outputs": [],
   "source": [
    "d = ExpData(settings.get_output_path('static/psql-l128-m4096-1h/backup/2019-07-14--15-52-33'))\n",
    "plot_funcs(d, plots.mem_libvirt, plots.mem_control, plots.mem_available, plots.mem_used, plots.mem_cache_and_buff,\n",
    "           psql_plots.tps,\n",
    "          for_group='vm-1'\n",
    "          )"
   ]
  },
  {
   "cell_type": "code",
   "execution_count": null,
   "metadata": {
    "ExecuteTime": {
     "end_time": "2019-07-16T19:44:07.958853Z",
     "start_time": "2019-07-16T19:44:07.870204Z"
    },
    "hidden": true
   },
   "outputs": [],
   "source": [
    "print('avrora batik eclipse fop h2 jython luindex lusearch pmd sunflow tomcat tradebeans tradesoap xalan'.split())"
   ]
  },
  {
   "cell_type": "markdown",
   "metadata": {
    "ExecuteTime": {
     "end_time": "2019-06-18T15:14:42.329616Z",
     "start_time": "2019-06-18T15:14:42.254498Z"
    },
    "heading_collapsed": true
   },
   "source": [
    "# Memory Consumer"
   ]
  },
  {
   "cell_type": "code",
   "execution_count": 7,
   "metadata": {
    "ExecuteTime": {
     "end_time": "2019-07-31T13:10:25.806220Z",
     "start_time": "2019-07-31T13:10:13.632850Z"
    },
    "hidden": true
   },
   "outputs": [],
   "source": [
    "p = MultiExpAnalyzer(settings.output_path('drop/mc'), mc_plots, 'vm-1')"
   ]
  },
  {
   "cell_type": "code",
   "execution_count": 8,
   "metadata": {
    "ExecuteTime": {
     "end_time": "2019-07-31T13:10:28.575298Z",
     "start_time": "2019-07-31T13:10:27.969192Z"
    },
    "hidden": true
   },
   "outputs": [
    {
     "data": {
      "image/png": "[encoded data removed]",
      "text/plain": [
       "<Figure size 432x288 with 1 Axes>"
      ]
     },
     "metadata": {
      "needs_background": "light"
     },
     "output_type": "display_data"
    }
   ],
   "source": [
    "p.plot_memory_profile()"
   ]
  },
  {
   "cell_type": "code",
   "execution_count": 9,
   "metadata": {
    "ExecuteTime": {
     "end_time": "2019-07-27T09:51:58.459558Z",
     "start_time": "2019-07-27T09:51:54.452409Z"
    },
    "collapsed": true,
    "hidden": true
   },
   "outputs": [
    {
     "ename": "DatabaseError",
     "evalue": "Execution failed on sql 'select `sample_start`, `perf:hit-rate`, `source`, `sample_end` from data where `sample_start` != '' and `perf:hit-rate` != '' and `source` != '' and `sample_end` != '' order by `sample_start` asc': no such column: perf:hit-rate",
     "output_type": "error",
     "traceback": [
      "\u001b[0;31m---------------------------------------------------------------------------\u001b[0m",
      "\u001b[0;31mOperationalError\u001b[0m                          Traceback (most recent call last)",
      "\u001b[0;32m/homes/fonaro/anaconda3/lib/python3.7/site-packages/pandas/io/sql.py\u001b[0m in \u001b[0;36mexecute\u001b[0;34m(self, *args, **kwargs)\u001b[0m\n\u001b[1;32m   1430\u001b[0m             \u001b[0;32melse\u001b[0m\u001b[0;34m:\u001b[0m\u001b[0;34m\u001b[0m\u001b[0;34m\u001b[0m\u001b[0m\n\u001b[0;32m-> 1431\u001b[0;31m                 \u001b[0mcur\u001b[0m\u001b[0;34m.\u001b[0m\u001b[0mexecute\u001b[0m\u001b[0;34m(\u001b[0m\u001b[0;34m*\u001b[0m\u001b[0margs\u001b[0m\u001b[0;34m)\u001b[0m\u001b[0;34m\u001b[0m\u001b[0;34m\u001b[0m\u001b[0m\n\u001b[0m\u001b[1;32m   1432\u001b[0m             \u001b[0;32mreturn\u001b[0m \u001b[0mcur\u001b[0m\u001b[0;34m\u001b[0m\u001b[0;34m\u001b[0m\u001b[0m\n",
      "\u001b[0;31mOperationalError\u001b[0m: no such column: perf:hit-rate",
      "\nDuring handling of the above exception, another exception occurred:\n",
      "\u001b[0;31mDatabaseError\u001b[0m                             Traceback (most recent call last)",
      "\u001b[0;32m<ipython-input-9-180855b8d088>\u001b[0m in \u001b[0;36m<module>\u001b[0;34m\u001b[0m\n\u001b[1;32m      2\u001b[0m plot_funcs(d, plots.mem_libvirt, plots.mem_control, plots.mem_available, plots.mem_used, plots.mem_swap_out,\n\u001b[1;32m      3\u001b[0m            \u001b[0mmc_plots\u001b[0m\u001b[0;34m.\u001b[0m\u001b[0mperf_hits\u001b[0m\u001b[0;34m,\u001b[0m \u001b[0mmc_plots\u001b[0m\u001b[0;34m.\u001b[0m\u001b[0mperf_throughput\u001b[0m\u001b[0;34m,\u001b[0m \u001b[0mmc_plots\u001b[0m\u001b[0;34m.\u001b[0m\u001b[0mmemory\u001b[0m\u001b[0;34m,\u001b[0m\u001b[0;34m\u001b[0m\u001b[0;34m\u001b[0m\u001b[0m\n\u001b[0;32m----> 4\u001b[0;31m            for_group='vm-1')\n\u001b[0m",
      "\u001b[0;32m~/workspace/wRaaS/elastic-benchmarks/cloudexp/results/line_plot.py\u001b[0m in \u001b[0;36mplot_funcs\u001b[0;34m(data, output_filename, *funcs, **kwargs)\u001b[0m\n\u001b[1;32m    221\u001b[0m     \u001b[0;32mif\u001b[0m \u001b[0moutput_filename\u001b[0m \u001b[0;32mis\u001b[0m \u001b[0;32mnot\u001b[0m \u001b[0;32mNone\u001b[0m\u001b[0;34m:\u001b[0m\u001b[0;34m\u001b[0m\u001b[0;34m\u001b[0m\u001b[0m\n\u001b[1;32m    222\u001b[0m         \u001b[0mplotting\u001b[0m\u001b[0;34m.\u001b[0m\u001b[0moutput_file\u001b[0m\u001b[0;34m(\u001b[0m\u001b[0mdata\u001b[0m\u001b[0;34m.\u001b[0m\u001b[0mexport_file_path\u001b[0m\u001b[0;34m(\u001b[0m\u001b[0moutput_filename\u001b[0m\u001b[0;34m,\u001b[0m \u001b[0mext\u001b[0m\u001b[0;34m=\u001b[0m\u001b[0;34m'html'\u001b[0m\u001b[0;34m)\u001b[0m\u001b[0;34m,\u001b[0m \u001b[0mtitle\u001b[0m\u001b[0;34m=\u001b[0m\u001b[0moutput_filename\u001b[0m\u001b[0;34m)\u001b[0m\u001b[0;34m\u001b[0m\u001b[0;34m\u001b[0m\u001b[0m\n\u001b[0;32m--> 223\u001b[0;31m     \u001b[0mhdf_files\u001b[0m \u001b[0;34m=\u001b[0m \u001b[0;34m[\u001b[0m\u001b[0mf\u001b[0m\u001b[0;34m(\u001b[0m\u001b[0mdata\u001b[0m\u001b[0;34m)\u001b[0m \u001b[0;32mfor\u001b[0m \u001b[0mf\u001b[0m \u001b[0;32min\u001b[0m \u001b[0mfuncs\u001b[0m\u001b[0;34m]\u001b[0m\u001b[0;34m\u001b[0m\u001b[0;34m\u001b[0m\u001b[0m\n\u001b[0m\u001b[1;32m    224\u001b[0m     \u001b[0;32mreturn\u001b[0m \u001b[0mplot\u001b[0m\u001b[0;34m(\u001b[0m\u001b[0;34m*\u001b[0m\u001b[0mhdf_files\u001b[0m\u001b[0;34m,\u001b[0m \u001b[0;34m**\u001b[0m\u001b[0mkwargs\u001b[0m\u001b[0;34m)\u001b[0m\u001b[0;34m\u001b[0m\u001b[0;34m\u001b[0m\u001b[0m\n\u001b[1;32m    225\u001b[0m \u001b[0;34m\u001b[0m\u001b[0m\n",
      "\u001b[0;32m~/workspace/wRaaS/elastic-benchmarks/cloudexp/results/line_plot.py\u001b[0m in \u001b[0;36m<listcomp>\u001b[0;34m(.0)\u001b[0m\n\u001b[1;32m    221\u001b[0m     \u001b[0;32mif\u001b[0m \u001b[0moutput_filename\u001b[0m \u001b[0;32mis\u001b[0m \u001b[0;32mnot\u001b[0m \u001b[0;32mNone\u001b[0m\u001b[0;34m:\u001b[0m\u001b[0;34m\u001b[0m\u001b[0;34m\u001b[0m\u001b[0m\n\u001b[1;32m    222\u001b[0m         \u001b[0mplotting\u001b[0m\u001b[0;34m.\u001b[0m\u001b[0moutput_file\u001b[0m\u001b[0;34m(\u001b[0m\u001b[0mdata\u001b[0m\u001b[0;34m.\u001b[0m\u001b[0mexport_file_path\u001b[0m\u001b[0;34m(\u001b[0m\u001b[0moutput_filename\u001b[0m\u001b[0;34m,\u001b[0m \u001b[0mext\u001b[0m\u001b[0;34m=\u001b[0m\u001b[0;34m'html'\u001b[0m\u001b[0;34m)\u001b[0m\u001b[0;34m,\u001b[0m \u001b[0mtitle\u001b[0m\u001b[0;34m=\u001b[0m\u001b[0moutput_filename\u001b[0m\u001b[0;34m)\u001b[0m\u001b[0;34m\u001b[0m\u001b[0;34m\u001b[0m\u001b[0m\n\u001b[0;32m--> 223\u001b[0;31m     \u001b[0mhdf_files\u001b[0m \u001b[0;34m=\u001b[0m \u001b[0;34m[\u001b[0m\u001b[0mf\u001b[0m\u001b[0;34m(\u001b[0m\u001b[0mdata\u001b[0m\u001b[0;34m)\u001b[0m \u001b[0;32mfor\u001b[0m \u001b[0mf\u001b[0m \u001b[0;32min\u001b[0m \u001b[0mfuncs\u001b[0m\u001b[0;34m]\u001b[0m\u001b[0;34m\u001b[0m\u001b[0;34m\u001b[0m\u001b[0m\n\u001b[0m\u001b[1;32m    224\u001b[0m     \u001b[0;32mreturn\u001b[0m \u001b[0mplot\u001b[0m\u001b[0;34m(\u001b[0m\u001b[0;34m*\u001b[0m\u001b[0mhdf_files\u001b[0m\u001b[0;34m,\u001b[0m \u001b[0;34m**\u001b[0m\u001b[0mkwargs\u001b[0m\u001b[0;34m)\u001b[0m\u001b[0;34m\u001b[0m\u001b[0;34m\u001b[0m\u001b[0m\n\u001b[1;32m    225\u001b[0m \u001b[0;34m\u001b[0m\u001b[0m\n",
      "\u001b[0;32m~/workspace/wRaaS/elastic-benchmarks/elasticbench/apps/memory_consumer/plots.py\u001b[0m in \u001b[0;36mperf_hits\u001b[0;34m(d)\u001b[0m\n\u001b[1;32m     23\u001b[0m \u001b[0;34m\u001b[0m\u001b[0m\n\u001b[1;32m     24\u001b[0m \u001b[0;32mdef\u001b[0m \u001b[0mperf_hits\u001b[0m\u001b[0;34m(\u001b[0m\u001b[0md\u001b[0m\u001b[0;34m:\u001b[0m \u001b[0mExpData\u001b[0m\u001b[0;34m)\u001b[0m\u001b[0;34m:\u001b[0m\u001b[0;34m\u001b[0m\u001b[0;34m\u001b[0m\u001b[0m\n\u001b[0;32m---> 25\u001b[0;31m     \u001b[0;32mreturn\u001b[0m \u001b[0mfetch_data\u001b[0m\u001b[0;34m(\u001b[0m\u001b[0md\u001b[0m\u001b[0;34m,\u001b[0m \u001b[0my\u001b[0m\u001b[0;34m=\u001b[0m\u001b[0;34m'perf:hit-rate'\u001b[0m\u001b[0;34m,\u001b[0m \u001b[0my_name\u001b[0m\u001b[0;34m=\u001b[0m\u001b[0mRATE\u001b[0m\u001b[0;34m,\u001b[0m \u001b[0;34m**\u001b[0m\u001b[0mPLOT_PERIOD\u001b[0m\u001b[0;34m)\u001b[0m\u001b[0;34m\u001b[0m\u001b[0;34m\u001b[0m\u001b[0m\n\u001b[0m\u001b[1;32m     26\u001b[0m \u001b[0;34m\u001b[0m\u001b[0m\n\u001b[1;32m     27\u001b[0m \u001b[0;34m\u001b[0m\u001b[0m\n",
      "\u001b[0;32m~/workspace/wRaaS/elastic-benchmarks/cloudexp/results/analyze.py\u001b[0m in \u001b[0;36mfetch_data\u001b[0;34m(data, x, y, group_by, out, out_func, resample, filter_groups, x_end_value, x_as_time, diff, **plot_kwargs)\u001b[0m\n\u001b[1;32m    135\u001b[0m \u001b[0;34m\u001b[0m\u001b[0m\n\u001b[1;32m    136\u001b[0m     \u001b[0;32mwith\u001b[0m \u001b[0mdata\u001b[0m\u001b[0;34m.\u001b[0m\u001b[0mdb_connection\u001b[0m\u001b[0;34m(\u001b[0m\u001b[0;34m)\u001b[0m \u001b[0;32mas\u001b[0m \u001b[0mconn\u001b[0m\u001b[0;34m:\u001b[0m\u001b[0;34m\u001b[0m\u001b[0;34m\u001b[0m\u001b[0m\n\u001b[0;32m--> 137\u001b[0;31m         \u001b[0mfull_df\u001b[0m \u001b[0;34m=\u001b[0m \u001b[0mpd\u001b[0m\u001b[0;34m.\u001b[0m\u001b[0mread_sql_query\u001b[0m\u001b[0;34m(\u001b[0m\u001b[0mget_sql_query\u001b[0m\u001b[0;34m(\u001b[0m\u001b[0;34m*\u001b[0m\u001b[0mall_values\u001b[0m\u001b[0;34m,\u001b[0m \u001b[0mgroup_by\u001b[0m\u001b[0;34m=\u001b[0m\u001b[0mgroup_by\u001b[0m\u001b[0;34m,\u001b[0m \u001b[0mfilter_groups\u001b[0m\u001b[0;34m=\u001b[0m\u001b[0mfilter_groups\u001b[0m\u001b[0;34m)\u001b[0m\u001b[0;34m,\u001b[0m \u001b[0mconn\u001b[0m\u001b[0;34m)\u001b[0m\u001b[0;34m\u001b[0m\u001b[0;34m\u001b[0m\u001b[0m\n\u001b[0m\u001b[1;32m    138\u001b[0m \u001b[0;34m\u001b[0m\u001b[0m\n\u001b[1;32m    139\u001b[0m     \u001b[0;32mif\u001b[0m \u001b[0mx_end_value\u001b[0m\u001b[0;34m:\u001b[0m\u001b[0;34m\u001b[0m\u001b[0;34m\u001b[0m\u001b[0m\n",
      "\u001b[0;32m/homes/fonaro/anaconda3/lib/python3.7/site-packages/pandas/io/sql.py\u001b[0m in \u001b[0;36mread_sql_query\u001b[0;34m(sql, con, index_col, coerce_float, params, parse_dates, chunksize)\u001b[0m\n\u001b[1;32m    312\u001b[0m     return pandas_sql.read_query(\n\u001b[1;32m    313\u001b[0m         \u001b[0msql\u001b[0m\u001b[0;34m,\u001b[0m \u001b[0mindex_col\u001b[0m\u001b[0;34m=\u001b[0m\u001b[0mindex_col\u001b[0m\u001b[0;34m,\u001b[0m \u001b[0mparams\u001b[0m\u001b[0;34m=\u001b[0m\u001b[0mparams\u001b[0m\u001b[0;34m,\u001b[0m \u001b[0mcoerce_float\u001b[0m\u001b[0;34m=\u001b[0m\u001b[0mcoerce_float\u001b[0m\u001b[0;34m,\u001b[0m\u001b[0;34m\u001b[0m\u001b[0;34m\u001b[0m\u001b[0m\n\u001b[0;32m--> 314\u001b[0;31m         parse_dates=parse_dates, chunksize=chunksize)\n\u001b[0m\u001b[1;32m    315\u001b[0m \u001b[0;34m\u001b[0m\u001b[0m\n\u001b[1;32m    316\u001b[0m \u001b[0;34m\u001b[0m\u001b[0m\n",
      "\u001b[0;32m/homes/fonaro/anaconda3/lib/python3.7/site-packages/pandas/io/sql.py\u001b[0m in \u001b[0;36mread_query\u001b[0;34m(self, sql, index_col, coerce_float, params, parse_dates, chunksize)\u001b[0m\n\u001b[1;32m   1466\u001b[0m \u001b[0;34m\u001b[0m\u001b[0m\n\u001b[1;32m   1467\u001b[0m         \u001b[0margs\u001b[0m \u001b[0;34m=\u001b[0m \u001b[0m_convert_params\u001b[0m\u001b[0;34m(\u001b[0m\u001b[0msql\u001b[0m\u001b[0;34m,\u001b[0m \u001b[0mparams\u001b[0m\u001b[0;34m)\u001b[0m\u001b[0;34m\u001b[0m\u001b[0;34m\u001b[0m\u001b[0m\n\u001b[0;32m-> 1468\u001b[0;31m         \u001b[0mcursor\u001b[0m \u001b[0;34m=\u001b[0m \u001b[0mself\u001b[0m\u001b[0;34m.\u001b[0m\u001b[0mexecute\u001b[0m\u001b[0;34m(\u001b[0m\u001b[0;34m*\u001b[0m\u001b[0margs\u001b[0m\u001b[0;34m)\u001b[0m\u001b[0;34m\u001b[0m\u001b[0;34m\u001b[0m\u001b[0m\n\u001b[0m\u001b[1;32m   1469\u001b[0m         \u001b[0mcolumns\u001b[0m \u001b[0;34m=\u001b[0m \u001b[0;34m[\u001b[0m\u001b[0mcol_desc\u001b[0m\u001b[0;34m[\u001b[0m\u001b[0;36m0\u001b[0m\u001b[0;34m]\u001b[0m \u001b[0;32mfor\u001b[0m \u001b[0mcol_desc\u001b[0m \u001b[0;32min\u001b[0m \u001b[0mcursor\u001b[0m\u001b[0;34m.\u001b[0m\u001b[0mdescription\u001b[0m\u001b[0;34m]\u001b[0m\u001b[0;34m\u001b[0m\u001b[0;34m\u001b[0m\u001b[0m\n\u001b[1;32m   1470\u001b[0m \u001b[0;34m\u001b[0m\u001b[0m\n",
      "\u001b[0;32m/homes/fonaro/anaconda3/lib/python3.7/site-packages/pandas/io/sql.py\u001b[0m in \u001b[0;36mexecute\u001b[0;34m(self, *args, **kwargs)\u001b[0m\n\u001b[1;32m   1443\u001b[0m                 \"Execution failed on sql '{sql}': {exc}\".format(\n\u001b[1;32m   1444\u001b[0m                     sql=args[0], exc=exc))\n\u001b[0;32m-> 1445\u001b[0;31m             \u001b[0mraise_with_traceback\u001b[0m\u001b[0;34m(\u001b[0m\u001b[0mex\u001b[0m\u001b[0;34m)\u001b[0m\u001b[0;34m\u001b[0m\u001b[0;34m\u001b[0m\u001b[0m\n\u001b[0m\u001b[1;32m   1446\u001b[0m \u001b[0;34m\u001b[0m\u001b[0m\n\u001b[1;32m   1447\u001b[0m     \u001b[0;34m@\u001b[0m\u001b[0mstaticmethod\u001b[0m\u001b[0;34m\u001b[0m\u001b[0;34m\u001b[0m\u001b[0m\n",
      "\u001b[0;32m/homes/fonaro/anaconda3/lib/python3.7/site-packages/pandas/compat/__init__.py\u001b[0m in \u001b[0;36mraise_with_traceback\u001b[0;34m(exc, traceback)\u001b[0m\n\u001b[1;32m    418\u001b[0m         \u001b[0;32mif\u001b[0m \u001b[0mtraceback\u001b[0m \u001b[0;34m==\u001b[0m \u001b[0mEllipsis\u001b[0m\u001b[0;34m:\u001b[0m\u001b[0;34m\u001b[0m\u001b[0;34m\u001b[0m\u001b[0m\n\u001b[1;32m    419\u001b[0m             \u001b[0m_\u001b[0m\u001b[0;34m,\u001b[0m \u001b[0m_\u001b[0m\u001b[0;34m,\u001b[0m \u001b[0mtraceback\u001b[0m \u001b[0;34m=\u001b[0m \u001b[0msys\u001b[0m\u001b[0;34m.\u001b[0m\u001b[0mexc_info\u001b[0m\u001b[0;34m(\u001b[0m\u001b[0;34m)\u001b[0m\u001b[0;34m\u001b[0m\u001b[0;34m\u001b[0m\u001b[0m\n\u001b[0;32m--> 420\u001b[0;31m         \u001b[0;32mraise\u001b[0m \u001b[0mexc\u001b[0m\u001b[0;34m.\u001b[0m\u001b[0mwith_traceback\u001b[0m\u001b[0;34m(\u001b[0m\u001b[0mtraceback\u001b[0m\u001b[0;34m)\u001b[0m\u001b[0;34m\u001b[0m\u001b[0;34m\u001b[0m\u001b[0m\n\u001b[0m\u001b[1;32m    421\u001b[0m \u001b[0;32melse\u001b[0m\u001b[0;34m:\u001b[0m\u001b[0;34m\u001b[0m\u001b[0;34m\u001b[0m\u001b[0m\n\u001b[1;32m    422\u001b[0m     \u001b[0;31m# this version of raise is a syntax error in Python 3\u001b[0m\u001b[0;34m\u001b[0m\u001b[0;34m\u001b[0m\u001b[0;34m\u001b[0m\u001b[0m\n",
      "\u001b[0;32m/homes/fonaro/anaconda3/lib/python3.7/site-packages/pandas/io/sql.py\u001b[0m in \u001b[0;36mexecute\u001b[0;34m(self, *args, **kwargs)\u001b[0m\n\u001b[1;32m   1429\u001b[0m                 \u001b[0mcur\u001b[0m\u001b[0;34m.\u001b[0m\u001b[0mexecute\u001b[0m\u001b[0;34m(\u001b[0m\u001b[0;34m*\u001b[0m\u001b[0margs\u001b[0m\u001b[0;34m,\u001b[0m \u001b[0;34m**\u001b[0m\u001b[0mkwargs\u001b[0m\u001b[0;34m)\u001b[0m\u001b[0;34m\u001b[0m\u001b[0;34m\u001b[0m\u001b[0m\n\u001b[1;32m   1430\u001b[0m             \u001b[0;32melse\u001b[0m\u001b[0;34m:\u001b[0m\u001b[0;34m\u001b[0m\u001b[0;34m\u001b[0m\u001b[0m\n\u001b[0;32m-> 1431\u001b[0;31m                 \u001b[0mcur\u001b[0m\u001b[0;34m.\u001b[0m\u001b[0mexecute\u001b[0m\u001b[0;34m(\u001b[0m\u001b[0;34m*\u001b[0m\u001b[0margs\u001b[0m\u001b[0;34m)\u001b[0m\u001b[0;34m\u001b[0m\u001b[0;34m\u001b[0m\u001b[0m\n\u001b[0m\u001b[1;32m   1432\u001b[0m             \u001b[0;32mreturn\u001b[0m \u001b[0mcur\u001b[0m\u001b[0;34m\u001b[0m\u001b[0;34m\u001b[0m\u001b[0m\n\u001b[1;32m   1433\u001b[0m         \u001b[0;32mexcept\u001b[0m \u001b[0mException\u001b[0m \u001b[0;32mas\u001b[0m \u001b[0mexc\u001b[0m\u001b[0;34m:\u001b[0m\u001b[0;34m\u001b[0m\u001b[0;34m\u001b[0m\u001b[0m\n",
      "\u001b[0;31mDatabaseError\u001b[0m: Execution failed on sql 'select `sample_start`, `perf:hit-rate`, `source`, `sample_end` from data where `sample_start` != '' and `perf:hit-rate` != '' and `source` != '' and `sample_end` != '' order by `sample_start` asc': no such column: perf:hit-rate"
     ]
    }
   ],
   "source": [
    "d = ExpData(settings.output_path('dec-inc/mc/l10-m896-3072'))\n",
    "plot_funcs(d, plots.mem_libvirt, plots.mem_control, plots.mem_available, plots.mem_used, plots.mem_swap_out,\n",
    "           mc_plots.perf_hits, mc_plots.perf_throughput, mc_plots.memory,\n",
    "           for_group='vm-1')"
   ]
  },
  {
   "cell_type": "code",
   "execution_count": null,
   "metadata": {
    "hidden": true
   },
   "outputs": [],
   "source": [
    "d = ExpData(settings.output_path('dec-inc/mc/l10-m896-3072'))\n",
    "plot_funcs(d, plots.mem_libvirt, plots.mem_control, plots.mem_available, plots.mem_used, plots.mem_swap_out,\n",
    "           mc_plots.perf_hits, mc_plots.perf_throughput, mc_plots.memory,\n",
    "           for_group='vm-1')"
   ]
  },
  {
   "cell_type": "markdown",
   "metadata": {
    "ExecuteTime": {
     "end_time": "2019-06-30T00:09:48.920877Z",
     "start_time": "2019-06-30T00:09:47.373626Z"
    },
    "heading_collapsed": true,
    "hidden": true
   },
   "source": [
    "## Test Drop&Rise"
   ]
  },
  {
   "cell_type": "code",
   "execution_count": null,
   "metadata": {
    "ExecuteTime": {
     "end_time": "2019-07-27T12:14:22.824874Z",
     "start_time": "2019-07-27T12:14:16.583164Z"
    },
    "hidden": true,
    "scrolled": false
   },
   "outputs": [],
   "source": [
    "d = ExpData(settings.output_path('drop-init/mc/l10-b2048-d1024-x3'))\n",
    "p = ExpAnalyzer(d, mc_plots, 'vm-1')\n",
    "p.plot()"
   ]
  },
  {
   "cell_type": "code",
   "execution_count": 21,
   "metadata": {
    "ExecuteTime": {
     "end_time": "2019-07-26T14:13:25.589569Z",
     "start_time": "2019-07-26T14:13:25.268609Z"
    },
    "hidden": true,
    "scrolled": false
   },
   "outputs": [
    {
     "data": {
      "image/png": "[encoded data removed]",
      "text/plain": [
       "<Figure size 780x520 with 1 Axes>"
      ]
     },
     "metadata": {
      "needs_background": "light"
     },
     "output_type": "display_data"
    }
   ],
   "source": [
    "# p.plot()\n",
    "init_plot()\n",
    "# plt.figure(figsize=(5,3))\n",
    "p.plot_memory_profile()"
   ]
  },
  {
   "cell_type": "code",
   "execution_count": 12,
   "metadata": {
    "ExecuteTime": {
     "end_time": "2019-07-26T10:38:21.809065Z",
     "start_time": "2019-07-26T10:38:13.132073Z"
    },
    "hidden": true
   },
   "outputs": [],
   "source": [
    "from cloudexp.results.pit_test import PitTest\n",
    "d = ExpData(settings.get_output_path('drop/mc/l10-b2048-d1024-x20'))\n",
    "p = PitTest(d, mc_plots.perf_hits, 'vm-1')"
   ]
  },
  {
   "cell_type": "code",
   "execution_count": null,
   "metadata": {
    "ExecuteTime": {
     "end_time": "2019-07-26T10:42:24.961704Z",
     "start_time": "2019-07-26T10:42:21.329527Z"
    },
    "hidden": true
   },
   "outputs": [],
   "source": [
    "plot_funcs(d, plots.mem_libvirt, plots.mem_control, plots.mem_available, plots.mem_used, plots.mem_swap_out,\n",
    "           mc_plots.perf_hits, mc_plots.perf_throughput, mc_plots.memory,\n",
    "           for_group='vm-1')"
   ]
  },
  {
   "cell_type": "code",
   "execution_count": null,
   "metadata": {
    "ExecuteTime": {
     "end_time": "2019-07-26T10:38:55.255863Z",
     "start_time": "2019-07-26T10:38:28.838179Z"
    },
    "hidden": true
   },
   "outputs": [],
   "source": [
    "p.plot()"
   ]
  },
  {
   "cell_type": "markdown",
   "metadata": {
    "heading_collapsed": true
   },
   "source": [
    "# Memcached Static"
   ]
  },
  {
   "cell_type": "code",
   "execution_count": 5,
   "metadata": {
    "ExecuteTime": {
     "end_time": "2019-08-24T10:41:23.873638Z",
     "start_time": "2019-08-24T10:41:20.825802Z"
    },
    "hidden": true
   },
   "outputs": [],
   "source": [
    "p = MultiExpAnalyzer('memcached-static/l20-g0.90', settings.output_path('drop/memcached-static/l20-g0.90'), mcd_plots, 'vm-1', window_sec=90, warmup_time=(8, 'm'))"
   ]
  },
  {
   "cell_type": "code",
   "execution_count": null,
   "metadata": {
    "ExecuteTime": {
     "end_time": "2019-08-24T10:41:50.963128Z",
     "start_time": "2019-08-24T10:41:42.112712Z"
    },
    "hidden": true
   },
   "outputs": [],
   "source": [
    "p['./l20-b3072-d1024-x5'].plot()"
   ]
  },
  {
   "cell_type": "markdown",
   "metadata": {
    "heading_collapsed": true
   },
   "source": [
    "# Memcached"
   ]
  },
  {
   "cell_type": "code",
   "execution_count": 119,
   "metadata": {
    "ExecuteTime": {
     "end_time": "2019-08-06T14:32:22.059538Z",
     "start_time": "2019-08-06T14:31:02.057703Z"
    },
    "hidden": true
   },
   "outputs": [],
   "source": [
    "p = MultiExpAnalyzer('memcached/l20-g0.90', settings.output_path('drop/memcached/l20-g0.90'), mcd_plots, 'vm-1', window_sec=90, warmup_time=(8, 'm'))"
   ]
  },
  {
   "cell_type": "code",
   "execution_count": 133,
   "metadata": {
    "ExecuteTime": {
     "end_time": "2019-08-06T20:15:01.938390Z",
     "start_time": "2019-08-06T20:14:59.839534Z"
    },
    "hidden": true
   },
   "outputs": [
    {
     "data": {
      "image/png": "[encoded data removed]",
      "text/plain": [
       "<Figure size 780x520 with 1 Axes>"
      ]
     },
     "metadata": {
      "needs_background": "light"
     },
     "output_type": "display_data"
    }
   ],
   "source": [
    "init_plot()\n",
    "p.plot_perf_ratio()"
   ]
  },
  {
   "cell_type": "code",
   "execution_count": null,
   "metadata": {
    "ExecuteTime": {
     "end_time": "2019-08-06T14:34:36.917311Z",
     "start_time": "2019-08-06T14:34:36.814938Z"
    },
    "hidden": true
   },
   "outputs": [],
   "source": [
    "df = p.get_perf_ratio_data()\n",
    "df.corr()"
   ]
  },
  {
   "cell_type": "code",
   "execution_count": 117,
   "metadata": {
    "ExecuteTime": {
     "end_time": "2019-08-06T14:28:52.971988Z",
     "start_time": "2019-08-06T14:28:49.020518Z"
    },
    "hidden": true
   },
   "outputs": [],
   "source": [
    "p = ExpAnalyzer('memcached/l20-g0.90', settings.output_path('drop/memcached/l20-g0.90/l20-b3584-d3072-x5'), mcd_plots, 'vm-1', window_sec=90)"
   ]
  },
  {
   "cell_type": "code",
   "execution_count": null,
   "metadata": {
    "ExecuteTime": {
     "end_time": "2019-08-06T14:29:04.883291Z",
     "start_time": "2019-08-06T14:28:54.520307Z"
    },
    "hidden": true
   },
   "outputs": [],
   "source": [
    "p.plot()"
   ]
  },
  {
   "cell_type": "code",
   "execution_count": 11,
   "metadata": {
    "ExecuteTime": {
     "end_time": "2019-08-06T10:20:00.904598Z",
     "start_time": "2019-08-06T10:20:00.827952Z"
    },
    "hidden": true
   },
   "outputs": [
    {
     "data": {
      "text/plain": [
       "dict_keys(['./l20-b1024-d896-x5', './l20-b1536-d1024-x5', './l20-b1536-d896-x5', './l20-b2048-d1024-x5', './l20-b2048-d1536-x5', './l20-b2048-d896-x5', './l20-b2560-d1024-x5', './l20-b2560-d1536-x5', './l20-b2560-d2048-x5', './l20-b2560-d896-x5', './l20-b3072-d1024-x5', './l20-b3072-d1536-x5', './l20-b3072-d2048-x5', './l20-b3072-d2560-x5', './l20-b3072-d896-x5', './l20-b3584-d1024-x5', './l20-b3584-d1536-x5', './l20-b3584-d2048-x5', './l20-b3584-d2560-x5', './l20-b3584-d3072-x5', './l20-b3584-d896-x5'])"
      ]
     },
     "execution_count": 11,
     "metadata": {},
     "output_type": "execute_result"
    }
   ],
   "source": [
    "p.p.keys()"
   ]
  },
  {
   "cell_type": "code",
   "execution_count": null,
   "metadata": {
    "ExecuteTime": {
     "end_time": "2019-08-06T14:23:30.970573Z",
     "start_time": "2019-08-06T14:23:21.381731Z"
    },
    "hidden": true
   },
   "outputs": [],
   "source": [
    "p.p['./l20-b3584-d3072-x5'].plot()"
   ]
  },
  {
   "cell_type": "code",
   "execution_count": null,
   "metadata": {
    "ExecuteTime": {
     "end_time": "2019-08-04T21:40:19.831060Z",
     "start_time": "2019-08-04T21:40:16.941383Z"
    },
    "hidden": true
   },
   "outputs": [],
   "source": [
    "p = ExpAnalyzer('memcached', settings.output_path('static/memcached/l20-g0.90/l20-m4096-10m'), mcd_plots, 'vm-1')\n",
    "p.plot()"
   ]
  },
  {
   "cell_type": "code",
   "execution_count": 110,
   "metadata": {
    "ExecuteTime": {
     "end_time": "2019-08-06T14:23:00.109195Z",
     "start_time": "2019-08-06T14:22:59.773258Z"
    },
    "hidden": true
   },
   "outputs": [
    {
     "data": {
      "image/png": "[encoded data removed]",
      "text/plain": [
       "<Figure size 432x288 with 1 Axes>"
      ]
     },
     "metadata": {
      "needs_background": "light"
     },
     "output_type": "display_data"
    }
   ],
   "source": [
    "p.plot_memory_profile()"
   ]
  },
  {
   "cell_type": "code",
   "execution_count": 111,
   "metadata": {
    "ExecuteTime": {
     "end_time": "2019-08-06T14:23:04.568147Z",
     "start_time": "2019-08-06T14:23:04.514864Z"
    },
    "hidden": true
   },
   "outputs": [
    {
     "data": {
      "text/plain": [
       "MemoryProfile(memcached/l20-g0.90)"
      ]
     },
     "execution_count": 111,
     "metadata": {},
     "output_type": "execute_result"
    }
   ],
   "source": [
    "mcd_profile = p.generate_profile()\n",
    "mcd_profile"
   ]
  },
  {
   "cell_type": "code",
   "execution_count": 112,
   "metadata": {
    "ExecuteTime": {
     "end_time": "2019-08-06T14:23:06.919232Z",
     "start_time": "2019-08-06T14:23:06.340637Z"
    },
    "hidden": true
   },
   "outputs": [
    {
     "data": {
      "image/png": "[encoded data removed]",
      "text/plain": [
       "<Figure size 432x288 with 2 Axes>"
      ]
     },
     "metadata": {
      "needs_background": "light"
     },
     "output_type": "display_data"
    }
   ],
   "source": [
    "p.plot_t_mem()"
   ]
  },
  {
   "cell_type": "code",
   "execution_count": 113,
   "metadata": {
    "ExecuteTime": {
     "end_time": "2019-08-06T14:23:10.464103Z",
     "start_time": "2019-08-06T14:23:09.884572Z"
    },
    "hidden": true
   },
   "outputs": [
    {
     "data": {
      "image/png": "[encoded data removed]",
      "text/plain": [
       "<Figure size 432x288 with 2 Axes>"
      ]
     },
     "metadata": {
      "needs_background": "light"
     },
     "output_type": "display_data"
    }
   ],
   "source": [
    "p.plot_e_mem()"
   ]
  },
  {
   "cell_type": "code",
   "execution_count": 40,
   "metadata": {
    "ExecuteTime": {
     "end_time": "2019-07-28T13:25:22.332558Z",
     "start_time": "2019-07-28T13:25:21.956295Z"
    },
    "hidden": true
   },
   "outputs": [
    {
     "name": "stderr",
     "output_type": "stream",
     "text": [
      "/home/fonaro/workspace/wRaaS/elastic-benchmarks/cloudexp/results/exp_analyzer.py:194: FutureWarning: Using a non-tuple sequence for multidimensional indexing is deprecated; use `arr[tuple(seq)]` instead of `arr[seq]`. In the future this will be interpreted as an array index, `arr[np.array(seq)]`, which will result either in an error or a different result.\n",
      "  \n"
     ]
    },
    {
     "data": {
      "text/plain": [
       "<matplotlib.axes._subplots.Axes3DSubplot at 0x7f83dee81c88>"
      ]
     },
     "execution_count": 40,
     "metadata": {},
     "output_type": "execute_result"
    },
    {
     "data": {
      "image/png": "[encoded data removed]",
      "text/plain": [
       "<Figure size 432x288 with 1 Axes>"
      ]
     },
     "metadata": {
      "needs_background": "light"
     },
     "output_type": "display_data"
    }
   ],
   "source": [
    "p.plot_e_mem_heat_map('wire')"
   ]
  },
  {
   "cell_type": "code",
   "execution_count": 61,
   "metadata": {
    "ExecuteTime": {
     "end_time": "2019-07-28T13:53:00.851220Z",
     "start_time": "2019-07-28T13:53:00.707772Z"
    },
    "hidden": true
   },
   "outputs": [
    {
     "data": {
      "application/javascript": [
       "/* Put everything inside the global mpl namespace */\n",
       "window.mpl = {};\n",
       "\n",
       "\n",
       "mpl.get_websocket_type = function() {\n",
       "    if (typeof(WebSocket) !== 'undefined') {\n",
       "        return WebSocket;\n",
       "    } else if (typeof(MozWebSocket) !== 'undefined') {\n",
       "        return MozWebSocket;\n",
       "    } else {\n",
       "        alert('Your browser does not have WebSocket support.' +\n",
       "              'Please try Chrome, Safari or Firefox ≥ 6. ' +\n",
       "              'Firefox 4 and 5 are also supported but you ' +\n",
       "              'have to enable WebSockets in about:config.');\n",
       "    };\n",
       "}\n",
       "\n",
       "mpl.figure = function(figure_id, websocket, ondownload, parent_element) {\n",
       "    this.id = figure_id;\n",
       "\n",
       "    this.ws = websocket;\n",
       "\n",
       "    this.supports_binary = (this.ws.binaryType != undefined);\n",
       "\n",
       "    if (!this.supports_binary) {\n",
       "        var warnings = document.getElementById(\"mpl-warnings\");\n",
       "        if (warnings) {\n",
       "            warnings.style.display = 'block';\n",
       "            warnings.textContent = (\n",
       "                \"This browser does not support binary websocket messages. \" +\n",
       "                    \"Performance may be slow.\");\n",
       "        }\n",
       "    }\n",
       "\n",
       "    this.imageObj = new Image();\n",
       "\n",
       "    this.context = undefined;\n",
       "    this.message = undefined;\n",
       "    this.canvas = undefined;\n",
       "    this.rubberband_canvas = undefined;\n",
       "    this.rubberband_context = undefined;\n",
       "    this.format_dropdown = undefined;\n",
       "\n",
       "    this.image_mode = 'full';\n",
       "\n",
       "    this.root = $('<div/>');\n",
       "    this._root_extra_style(this.root)\n",
       "    this.root.attr('style', 'display: inline-block');\n",
       "\n",
       "    $(parent_element).append(this.root);\n",
       "\n",
       "    this._init_header(this);\n",
       "    this._init_canvas(this);\n",
       "    this._init_toolbar(this);\n",
       "\n",
       "    var fig = this;\n",
       "\n",
       "    this.waiting = false;\n",
       "\n",
       "    this.ws.onopen =  function () {\n",
       "            fig.send_message(\"supports_binary\", {value: fig.supports_binary});\n",
       "            fig.send_message(\"send_image_mode\", {});\n",
       "            if (mpl.ratio != 1) {\n",
       "                fig.send_message(\"set_dpi_ratio\", {'dpi_ratio': mpl.ratio});\n",
       "            }\n",
       "            fig.send_message(\"refresh\", {});\n",
       "        }\n",
       "\n",
       "    this.imageObj.onload = function() {\n",
       "            if (fig.image_mode == 'full') {\n",
       "                // Full images could contain transparency (where diff images\n",
       "                // almost always do), so we need to clear the canvas so that\n",
       "                // there is no ghosting.\n",
       "                fig.context.clearRect(0, 0, fig.canvas.width, fig.canvas.height);\n",
       "            }\n",
       "            fig.context.drawImage(fig.imageObj, 0, 0);\n",
       "        };\n",
       "\n",
       "    this.imageObj.onunload = function() {\n",
       "        fig.ws.close();\n",
       "    }\n",
       "\n",
       "    this.ws.onmessage = this._make_on_message_function(this);\n",
       "\n",
       "    this.ondownload = ondownload;\n",
       "}\n",
       "\n",
       "mpl.figure.prototype._init_header = function() {\n",
       "    var titlebar = $(\n",
       "        '<div class=\"ui-dialog-titlebar ui-widget-header ui-corner-all ' +\n",
       "        'ui-helper-clearfix\"/>');\n",
       "    var titletext = $(\n",
       "        '<div class=\"ui-dialog-title\" style=\"width: 100%; ' +\n",
       "        'text-align: center; padding: 3px;\"/>');\n",
       "    titlebar.append(titletext)\n",
       "    this.root.append(titlebar);\n",
       "    this.header = titletext[0];\n",
       "}\n",
       "\n",
       "\n",
       "\n",
       "mpl.figure.prototype._canvas_extra_style = function(canvas_div) {\n",
       "\n",
       "}\n",
       "\n",
       "\n",
       "mpl.figure.prototype._root_extra_style = function(canvas_div) {\n",
       "\n",
       "}\n",
       "\n",
       "mpl.figure.prototype._init_canvas = function() {\n",
       "    var fig = this;\n",
       "\n",
       "    var canvas_div = $('<div/>');\n",
       "\n",
       "    canvas_div.attr('style', 'position: relative; clear: both; outline: 0');\n",
       "\n",
       "    function canvas_keyboard_event(event) {\n",
       "        return fig.key_event(event, event['data']);\n",
       "    }\n",
       "\n",
       "    canvas_div.keydown('key_press', canvas_keyboard_event);\n",
       "    canvas_div.keyup('key_release', canvas_keyboard_event);\n",
       "    this.canvas_div = canvas_div\n",
       "    this._canvas_extra_style(canvas_div)\n",
       "    this.root.append(canvas_div);\n",
       "\n",
       "    var canvas = $('<canvas/>');\n",
       "    canvas.addClass('mpl-canvas');\n",
       "    canvas.attr('style', \"left: 0; top: 0; z-index: 0; outline: 0\")\n",
       "\n",
       "    this.canvas = canvas[0];\n",
       "    this.context = canvas[0].getContext(\"2d\");\n",
       "\n",
       "    var backingStore = this.context.backingStorePixelRatio ||\n",
       "\tthis.context.webkitBackingStorePixelRatio ||\n",
       "\tthis.context.mozBackingStorePixelRatio ||\n",
       "\tthis.context.msBackingStorePixelRatio ||\n",
       "\tthis.context.oBackingStorePixelRatio ||\n",
       "\tthis.context.backingStorePixelRatio || 1;\n",
       "\n",
       "    mpl.ratio = (window.devicePixelRatio || 1) / backingStore;\n",
       "\n",
       "    var rubberband = $('<canvas/>');\n",
       "    rubberband.attr('style', \"position: absolute; left: 0; top: 0; z-index: 1;\")\n",
       "\n",
       "    var pass_mouse_events = true;\n",
       "\n",
       "    canvas_div.resizable({\n",
       "        start: function(event, ui) {\n",
       "            pass_mouse_events = false;\n",
       "        },\n",
       "        resize: function(event, ui) {\n",
       "            fig.request_resize(ui.size.width, ui.size.height);\n",
       "        },\n",
       "        stop: function(event, ui) {\n",
       "            pass_mouse_events = true;\n",
       "            fig.request_resize(ui.size.width, ui.size.height);\n",
       "        },\n",
       "    });\n",
       "\n",
       "    function mouse_event_fn(event) {\n",
       "        if (pass_mouse_events)\n",
       "            return fig.mouse_event(event, event['data']);\n",
       "    }\n",
       "\n",
       "    rubberband.mousedown('button_press', mouse_event_fn);\n",
       "    rubberband.mouseup('button_release', mouse_event_fn);\n",
       "    // Throttle sequential mouse events to 1 every 20ms.\n",
       "    rubberband.mousemove('motion_notify', mouse_event_fn);\n",
       "\n",
       "    rubberband.mouseenter('figure_enter', mouse_event_fn);\n",
       "    rubberband.mouseleave('figure_leave', mouse_event_fn);\n",
       "\n",
       "    canvas_div.on(\"wheel\", function (event) {\n",
       "        event = event.originalEvent;\n",
       "        event['data'] = 'scroll'\n",
       "        if (event.deltaY < 0) {\n",
       "            event.step = 1;\n",
       "        } else {\n",
       "            event.step = -1;\n",
       "        }\n",
       "        mouse_event_fn(event);\n",
       "    });\n",
       "\n",
       "    canvas_div.append(canvas);\n",
       "    canvas_div.append(rubberband);\n",
       "\n",
       "    this.rubberband = rubberband;\n",
       "    this.rubberband_canvas = rubberband[0];\n",
       "    this.rubberband_context = rubberband[0].getContext(\"2d\");\n",
       "    this.rubberband_context.strokeStyle = \"#000000\";\n",
       "\n",
       "    this._resize_canvas = function(width, height) {\n",
       "        // Keep the size of the canvas, canvas container, and rubber band\n",
       "        // canvas in synch.\n",
       "        canvas_div.css('width', width)\n",
       "        canvas_div.css('height', height)\n",
       "\n",
       "        canvas.attr('width', width * mpl.ratio);\n",
       "        canvas.attr('height', height * mpl.ratio);\n",
       "        canvas.attr('style', 'width: ' + width + 'px; height: ' + height + 'px;');\n",
       "\n",
       "        rubberband.attr('width', width);\n",
       "        rubberband.attr('height', height);\n",
       "    }\n",
       "\n",
       "    // Set the figure to an initial 600x600px, this will subsequently be updated\n",
       "    // upon first draw.\n",
       "    this._resize_canvas(600, 600);\n",
       "\n",
       "    // Disable right mouse context menu.\n",
       "    $(this.rubberband_canvas).bind(\"contextmenu\",function(e){\n",
       "        return false;\n",
       "    });\n",
       "\n",
       "    function set_focus () {\n",
       "        canvas.focus();\n",
       "        canvas_div.focus();\n",
       "    }\n",
       "\n",
       "    window.setTimeout(set_focus, 100);\n",
       "}\n",
       "\n",
       "mpl.figure.prototype._init_toolbar = function() {\n",
       "    var fig = this;\n",
       "\n",
       "    var nav_element = $('<div/>')\n",
       "    nav_element.attr('style', 'width: 100%');\n",
       "    this.root.append(nav_element);\n",
       "\n",
       "    // Define a callback function for later on.\n",
       "    function toolbar_event(event) {\n",
       "        return fig.toolbar_button_onclick(event['data']);\n",
       "    }\n",
       "    function toolbar_mouse_event(event) {\n",
       "        return fig.toolbar_button_onmouseover(event['data']);\n",
       "    }\n",
       "\n",
       "    for(var toolbar_ind in mpl.toolbar_items) {\n",
       "        var name = mpl.toolbar_items[toolbar_ind][0];\n",
       "        var tooltip = mpl.toolbar_items[toolbar_ind][1];\n",
       "        var image = mpl.toolbar_items[toolbar_ind][2];\n",
       "        var method_name = mpl.toolbar_items[toolbar_ind][3];\n",
       "\n",
       "        if (!name) {\n",
       "            // put a spacer in here.\n",
       "            continue;\n",
       "        }\n",
       "        var button = $('<button/>');\n",
       "        button.addClass('ui-button ui-widget ui-state-default ui-corner-all ' +\n",
       "                        'ui-button-icon-only');\n",
       "        button.attr('role', 'button');\n",
       "        button.attr('aria-disabled', 'false');\n",
       "        button.click(method_name, toolbar_event);\n",
       "        button.mouseover(tooltip, toolbar_mouse_event);\n",
       "\n",
       "        var icon_img = $('<span/>');\n",
       "        icon_img.addClass('ui-button-icon-primary ui-icon');\n",
       "        icon_img.addClass(image);\n",
       "        icon_img.addClass('ui-corner-all');\n",
       "\n",
       "        var tooltip_span = $('<span/>');\n",
       "        tooltip_span.addClass('ui-button-text');\n",
       "        tooltip_span.html(tooltip);\n",
       "\n",
       "        button.append(icon_img);\n",
       "        button.append(tooltip_span);\n",
       "\n",
       "        nav_element.append(button);\n",
       "    }\n",
       "\n",
       "    var fmt_picker_span = $('<span/>');\n",
       "\n",
       "    var fmt_picker = $('<select/>');\n",
       "    fmt_picker.addClass('mpl-toolbar-option ui-widget ui-widget-content');\n",
       "    fmt_picker_span.append(fmt_picker);\n",
       "    nav_element.append(fmt_picker_span);\n",
       "    this.format_dropdown = fmt_picker[0];\n",
       "\n",
       "    for (var ind in mpl.extensions) {\n",
       "        var fmt = mpl.extensions[ind];\n",
       "        var option = $(\n",
       "            '<option/>', {selected: fmt === mpl.default_extension}).html(fmt);\n",
       "        fmt_picker.append(option)\n",
       "    }\n",
       "\n",
       "    // Add hover states to the ui-buttons\n",
       "    $( \".ui-button\" ).hover(\n",
       "        function() { $(this).addClass(\"ui-state-hover\");},\n",
       "        function() { $(this).removeClass(\"ui-state-hover\");}\n",
       "    );\n",
       "\n",
       "    var status_bar = $('<span class=\"mpl-message\"/>');\n",
       "    nav_element.append(status_bar);\n",
       "    this.message = status_bar[0];\n",
       "}\n",
       "\n",
       "mpl.figure.prototype.request_resize = function(x_pixels, y_pixels) {\n",
       "    // Request matplotlib to resize the figure. Matplotlib will then trigger a resize in the client,\n",
       "    // which will in turn request a refresh of the image.\n",
       "    this.send_message('resize', {'width': x_pixels, 'height': y_pixels});\n",
       "}\n",
       "\n",
       "mpl.figure.prototype.send_message = function(type, properties) {\n",
       "    properties['type'] = type;\n",
       "    properties['figure_id'] = this.id;\n",
       "    this.ws.send(JSON.stringify(properties));\n",
       "}\n",
       "\n",
       "mpl.figure.prototype.send_draw_message = function() {\n",
       "    if (!this.waiting) {\n",
       "        this.waiting = true;\n",
       "        this.ws.send(JSON.stringify({type: \"draw\", figure_id: this.id}));\n",
       "    }\n",
       "}\n",
       "\n",
       "\n",
       "mpl.figure.prototype.handle_save = function(fig, msg) {\n",
       "    var format_dropdown = fig.format_dropdown;\n",
       "    var format = format_dropdown.options[format_dropdown.selectedIndex].value;\n",
       "    fig.ondownload(fig, format);\n",
       "}\n",
       "\n",
       "\n",
       "mpl.figure.prototype.handle_resize = function(fig, msg) {\n",
       "    var size = msg['size'];\n",
       "    if (size[0] != fig.canvas.width || size[1] != fig.canvas.height) {\n",
       "        fig._resize_canvas(size[0], size[1]);\n",
       "        fig.send_message(\"refresh\", {});\n",
       "    };\n",
       "}\n",
       "\n",
       "mpl.figure.prototype.handle_rubberband = function(fig, msg) {\n",
       "    var x0 = msg['x0'] / mpl.ratio;\n",
       "    var y0 = (fig.canvas.height - msg['y0']) / mpl.ratio;\n",
       "    var x1 = msg['x1'] / mpl.ratio;\n",
       "    var y1 = (fig.canvas.height - msg['y1']) / mpl.ratio;\n",
       "    x0 = Math.floor(x0) + 0.5;\n",
       "    y0 = Math.floor(y0) + 0.5;\n",
       "    x1 = Math.floor(x1) + 0.5;\n",
       "    y1 = Math.floor(y1) + 0.5;\n",
       "    var min_x = Math.min(x0, x1);\n",
       "    var min_y = Math.min(y0, y1);\n",
       "    var width = Math.abs(x1 - x0);\n",
       "    var height = Math.abs(y1 - y0);\n",
       "\n",
       "    fig.rubberband_context.clearRect(\n",
       "        0, 0, fig.canvas.width, fig.canvas.height);\n",
       "\n",
       "    fig.rubberband_context.strokeRect(min_x, min_y, width, height);\n",
       "}\n",
       "\n",
       "mpl.figure.prototype.handle_figure_label = function(fig, msg) {\n",
       "    // Updates the figure title.\n",
       "    fig.header.textContent = msg['label'];\n",
       "}\n",
       "\n",
       "mpl.figure.prototype.handle_cursor = function(fig, msg) {\n",
       "    var cursor = msg['cursor'];\n",
       "    switch(cursor)\n",
       "    {\n",
       "    case 0:\n",
       "        cursor = 'pointer';\n",
       "        break;\n",
       "    case 1:\n",
       "        cursor = 'default';\n",
       "        break;\n",
       "    case 2:\n",
       "        cursor = 'crosshair';\n",
       "        break;\n",
       "    case 3:\n",
       "        cursor = 'move';\n",
       "        break;\n",
       "    }\n",
       "    fig.rubberband_canvas.style.cursor = cursor;\n",
       "}\n",
       "\n",
       "mpl.figure.prototype.handle_message = function(fig, msg) {\n",
       "    fig.message.textContent = msg['message'];\n",
       "}\n",
       "\n",
       "mpl.figure.prototype.handle_draw = function(fig, msg) {\n",
       "    // Request the server to send over a new figure.\n",
       "    fig.send_draw_message();\n",
       "}\n",
       "\n",
       "mpl.figure.prototype.handle_image_mode = function(fig, msg) {\n",
       "    fig.image_mode = msg['mode'];\n",
       "}\n",
       "\n",
       "mpl.figure.prototype.updated_canvas_event = function() {\n",
       "    // Called whenever the canvas gets updated.\n",
       "    this.send_message(\"ack\", {});\n",
       "}\n",
       "\n",
       "// A function to construct a web socket function for onmessage handling.\n",
       "// Called in the figure constructor.\n",
       "mpl.figure.prototype._make_on_message_function = function(fig) {\n",
       "    return function socket_on_message(evt) {\n",
       "        if (evt.data instanceof Blob) {\n",
       "            /* FIXME: We get \"Resource interpreted as Image but\n",
       "             * transferred with MIME type text/plain:\" errors on\n",
       "             * Chrome.  But how to set the MIME type?  It doesn't seem\n",
       "             * to be part of the websocket stream */\n",
       "            evt.data.type = \"image/png\";\n",
       "\n",
       "            /* Free the memory for the previous frames */\n",
       "            if (fig.imageObj.src) {\n",
       "                (window.URL || window.webkitURL).revokeObjectURL(\n",
       "                    fig.imageObj.src);\n",
       "            }\n",
       "\n",
       "            fig.imageObj.src = (window.URL || window.webkitURL).createObjectURL(\n",
       "                evt.data);\n",
       "            fig.updated_canvas_event();\n",
       "            fig.waiting = false;\n",
       "            return;\n",
       "        }\n",
       "        else if (typeof evt.data === 'string' && evt.data.slice(0, 21) == \"data:image/png;base64\") {\n",
       "            fig.imageObj.src = evt.data;\n",
       "            fig.updated_canvas_event();\n",
       "            fig.waiting = false;\n",
       "            return;\n",
       "        }\n",
       "\n",
       "        var msg = JSON.parse(evt.data);\n",
       "        var msg_type = msg['type'];\n",
       "\n",
       "        // Call the  \"handle_{type}\" callback, which takes\n",
       "        // the figure and JSON message as its only arguments.\n",
       "        try {\n",
       "            var callback = fig[\"handle_\" + msg_type];\n",
       "        } catch (e) {\n",
       "            console.log(\"No handler for the '\" + msg_type + \"' message type: \", msg);\n",
       "            return;\n",
       "        }\n",
       "\n",
       "        if (callback) {\n",
       "            try {\n",
       "                // console.log(\"Handling '\" + msg_type + \"' message: \", msg);\n",
       "                callback(fig, msg);\n",
       "            } catch (e) {\n",
       "                console.log(\"Exception inside the 'handler_\" + msg_type + \"' callback:\", e, e.stack, msg);\n",
       "            }\n",
       "        }\n",
       "    };\n",
       "}\n",
       "\n",
       "// from http://stackoverflow.com/questions/1114465/getting-mouse-location-in-canvas\n",
       "mpl.findpos = function(e) {\n",
       "    //this section is from http://www.quirksmode.org/js/events_properties.html\n",
       "    var targ;\n",
       "    if (!e)\n",
       "        e = window.event;\n",
       "    if (e.target)\n",
       "        targ = e.target;\n",
       "    else if (e.srcElement)\n",
       "        targ = e.srcElement;\n",
       "    if (targ.nodeType == 3) // defeat Safari bug\n",
       "        targ = targ.parentNode;\n",
       "\n",
       "    // jQuery normalizes the pageX and pageY\n",
       "    // pageX,Y are the mouse positions relative to the document\n",
       "    // offset() returns the position of the element relative to the document\n",
       "    var x = e.pageX - $(targ).offset().left;\n",
       "    var y = e.pageY - $(targ).offset().top;\n",
       "\n",
       "    return {\"x\": x, \"y\": y};\n",
       "};\n",
       "\n",
       "/*\n",
       " * return a copy of an object with only non-object keys\n",
       " * we need this to avoid circular references\n",
       " * http://stackoverflow.com/a/24161582/3208463\n",
       " */\n",
       "function simpleKeys (original) {\n",
       "  return Object.keys(original).reduce(function (obj, key) {\n",
       "    if (typeof original[key] !== 'object')\n",
       "        obj[key] = original[key]\n",
       "    return obj;\n",
       "  }, {});\n",
       "}\n",
       "\n",
       "mpl.figure.prototype.mouse_event = function(event, name) {\n",
       "    var canvas_pos = mpl.findpos(event)\n",
       "\n",
       "    if (name === 'button_press')\n",
       "    {\n",
       "        this.canvas.focus();\n",
       "        this.canvas_div.focus();\n",
       "    }\n",
       "\n",
       "    var x = canvas_pos.x * mpl.ratio;\n",
       "    var y = canvas_pos.y * mpl.ratio;\n",
       "\n",
       "    this.send_message(name, {x: x, y: y, button: event.button,\n",
       "                             step: event.step,\n",
       "                             guiEvent: simpleKeys(event)});\n",
       "\n",
       "    /* This prevents the web browser from automatically changing to\n",
       "     * the text insertion cursor when the button is pressed.  We want\n",
       "     * to control all of the cursor setting manually through the\n",
       "     * 'cursor' event from matplotlib */\n",
       "    event.preventDefault();\n",
       "    return false;\n",
       "}\n",
       "\n",
       "mpl.figure.prototype._key_event_extra = function(event, name) {\n",
       "    // Handle any extra behaviour associated with a key event\n",
       "}\n",
       "\n",
       "mpl.figure.prototype.key_event = function(event, name) {\n",
       "\n",
       "    // Prevent repeat events\n",
       "    if (name == 'key_press')\n",
       "    {\n",
       "        if (event.which === this._key)\n",
       "            return;\n",
       "        else\n",
       "            this._key = event.which;\n",
       "    }\n",
       "    if (name == 'key_release')\n",
       "        this._key = null;\n",
       "\n",
       "    var value = '';\n",
       "    if (event.ctrlKey && event.which != 17)\n",
       "        value += \"ctrl+\";\n",
       "    if (event.altKey && event.which != 18)\n",
       "        value += \"alt+\";\n",
       "    if (event.shiftKey && event.which != 16)\n",
       "        value += \"shift+\";\n",
       "\n",
       "    value += 'k';\n",
       "    value += event.which.toString();\n",
       "\n",
       "    this._key_event_extra(event, name);\n",
       "\n",
       "    this.send_message(name, {key: value,\n",
       "                             guiEvent: simpleKeys(event)});\n",
       "    return false;\n",
       "}\n",
       "\n",
       "mpl.figure.prototype.toolbar_button_onclick = function(name) {\n",
       "    if (name == 'download') {\n",
       "        this.handle_save(this, null);\n",
       "    } else {\n",
       "        this.send_message(\"toolbar_button\", {name: name});\n",
       "    }\n",
       "};\n",
       "\n",
       "mpl.figure.prototype.toolbar_button_onmouseover = function(tooltip) {\n",
       "    this.message.textContent = tooltip;\n",
       "};\n",
       "mpl.toolbar_items = [[\"Home\", \"Reset original view\", \"fa fa-home icon-home\", \"home\"], [\"Back\", \"Back to previous view\", \"fa fa-arrow-left icon-arrow-left\", \"back\"], [\"Forward\", \"Forward to next view\", \"fa fa-arrow-right icon-arrow-right\", \"forward\"], [\"\", \"\", \"\", \"\"], [\"Pan\", \"Pan axes with left mouse, zoom with right\", \"fa fa-arrows icon-move\", \"pan\"], [\"Zoom\", \"Zoom to rectangle\", \"fa fa-square-o icon-check-empty\", \"zoom\"], [\"\", \"\", \"\", \"\"], [\"Download\", \"Download plot\", \"fa fa-floppy-o icon-save\", \"download\"]];\n",
       "\n",
       "mpl.extensions = [\"eps\", \"jpeg\", \"pdf\", \"png\", \"ps\", \"raw\", \"svg\", \"tif\"];\n",
       "\n",
       "mpl.default_extension = \"png\";var comm_websocket_adapter = function(comm) {\n",
       "    // Create a \"websocket\"-like object which calls the given IPython comm\n",
       "    // object with the appropriate methods. Currently this is a non binary\n",
       "    // socket, so there is still some room for performance tuning.\n",
       "    var ws = {};\n",
       "\n",
       "    ws.close = function() {\n",
       "        comm.close()\n",
       "    };\n",
       "    ws.send = function(m) {\n",
       "        //console.log('sending', m);\n",
       "        comm.send(m);\n",
       "    };\n",
       "    // Register the callback with on_msg.\n",
       "    comm.on_msg(function(msg) {\n",
       "        //console.log('receiving', msg['content']['data'], msg);\n",
       "        // Pass the mpl event to the overridden (by mpl) onmessage function.\n",
       "        ws.onmessage(msg['content']['data'])\n",
       "    });\n",
       "    return ws;\n",
       "}\n",
       "\n",
       "mpl.mpl_figure_comm = function(comm, msg) {\n",
       "    // This is the function which gets called when the mpl process\n",
       "    // starts-up an IPython Comm through the \"matplotlib\" channel.\n",
       "\n",
       "    var id = msg.content.data.id;\n",
       "    // Get hold of the div created by the display call when the Comm\n",
       "    // socket was opened in Python.\n",
       "    var element = $(\"#\" + id);\n",
       "    var ws_proxy = comm_websocket_adapter(comm)\n",
       "\n",
       "    function ondownload(figure, format) {\n",
       "        window.open(figure.imageObj.src);\n",
       "    }\n",
       "\n",
       "    var fig = new mpl.figure(id, ws_proxy,\n",
       "                           ondownload,\n",
       "                           element.get(0));\n",
       "\n",
       "    // Call onopen now - mpl needs it, as it is assuming we've passed it a real\n",
       "    // web socket which is closed, not our websocket->open comm proxy.\n",
       "    ws_proxy.onopen();\n",
       "\n",
       "    fig.parent_element = element.get(0);\n",
       "    fig.cell_info = mpl.find_output_cell(\"<div id='\" + id + \"'></div>\");\n",
       "    if (!fig.cell_info) {\n",
       "        console.error(\"Failed to find cell for figure\", id, fig);\n",
       "        return;\n",
       "    }\n",
       "\n",
       "    var output_index = fig.cell_info[2]\n",
       "    var cell = fig.cell_info[0];\n",
       "\n",
       "};\n",
       "\n",
       "mpl.figure.prototype.handle_close = function(fig, msg) {\n",
       "    var width = fig.canvas.width/mpl.ratio\n",
       "    fig.root.unbind('remove')\n",
       "\n",
       "    // Update the output cell to use the data from the current canvas.\n",
       "    fig.push_to_output();\n",
       "    var dataURL = fig.canvas.toDataURL();\n",
       "    // Re-enable the keyboard manager in IPython - without this line, in FF,\n",
       "    // the notebook keyboard shortcuts fail.\n",
       "    IPython.keyboard_manager.enable()\n",
       "    $(fig.parent_element).html('<img src=\"' + dataURL + '\" width=\"' + width + '\">');\n",
       "    fig.close_ws(fig, msg);\n",
       "}\n",
       "\n",
       "mpl.figure.prototype.close_ws = function(fig, msg){\n",
       "    fig.send_message('closing', msg);\n",
       "    // fig.ws.close()\n",
       "}\n",
       "\n",
       "mpl.figure.prototype.push_to_output = function(remove_interactive) {\n",
       "    // Turn the data on the canvas into data in the output cell.\n",
       "    var width = this.canvas.width/mpl.ratio\n",
       "    var dataURL = this.canvas.toDataURL();\n",
       "    this.cell_info[1]['text/html'] = '<img src=\"' + dataURL + '\" width=\"' + width + '\">';\n",
       "}\n",
       "\n",
       "mpl.figure.prototype.updated_canvas_event = function() {\n",
       "    // Tell IPython that the notebook contents must change.\n",
       "    IPython.notebook.set_dirty(true);\n",
       "    this.send_message(\"ack\", {});\n",
       "    var fig = this;\n",
       "    // Wait a second, then push the new image to the DOM so\n",
       "    // that it is saved nicely (might be nice to debounce this).\n",
       "    setTimeout(function () { fig.push_to_output() }, 1000);\n",
       "}\n",
       "\n",
       "mpl.figure.prototype._init_toolbar = function() {\n",
       "    var fig = this;\n",
       "\n",
       "    var nav_element = $('<div/>')\n",
       "    nav_element.attr('style', 'width: 100%');\n",
       "    this.root.append(nav_element);\n",
       "\n",
       "    // Define a callback function for later on.\n",
       "    function toolbar_event(event) {\n",
       "        return fig.toolbar_button_onclick(event['data']);\n",
       "    }\n",
       "    function toolbar_mouse_event(event) {\n",
       "        return fig.toolbar_button_onmouseover(event['data']);\n",
       "    }\n",
       "\n",
       "    for(var toolbar_ind in mpl.toolbar_items){\n",
       "        var name = mpl.toolbar_items[toolbar_ind][0];\n",
       "        var tooltip = mpl.toolbar_items[toolbar_ind][1];\n",
       "        var image = mpl.toolbar_items[toolbar_ind][2];\n",
       "        var method_name = mpl.toolbar_items[toolbar_ind][3];\n",
       "\n",
       "        if (!name) { continue; };\n",
       "\n",
       "        var button = $('<button class=\"btn btn-default\" href=\"#\" title=\"' + name + '\"><i class=\"fa ' + image + ' fa-lg\"></i></button>');\n",
       "        button.click(method_name, toolbar_event);\n",
       "        button.mouseover(tooltip, toolbar_mouse_event);\n",
       "        nav_element.append(button);\n",
       "    }\n",
       "\n",
       "    // Add the status bar.\n",
       "    var status_bar = $('<span class=\"mpl-message\" style=\"text-align:right; float: right;\"/>');\n",
       "    nav_element.append(status_bar);\n",
       "    this.message = status_bar[0];\n",
       "\n",
       "    // Add the close button to the window.\n",
       "    var buttongrp = $('<div class=\"btn-group inline pull-right\"></div>');\n",
       "    var button = $('<button class=\"btn btn-mini btn-primary\" href=\"#\" title=\"Stop Interaction\"><i class=\"fa fa-power-off icon-remove icon-large\"></i></button>');\n",
       "    button.click(function (evt) { fig.handle_close(fig, {}); } );\n",
       "    button.mouseover('Stop Interaction', toolbar_mouse_event);\n",
       "    buttongrp.append(button);\n",
       "    var titlebar = this.root.find($('.ui-dialog-titlebar'));\n",
       "    titlebar.prepend(buttongrp);\n",
       "}\n",
       "\n",
       "mpl.figure.prototype._root_extra_style = function(el){\n",
       "    var fig = this\n",
       "    el.on(\"remove\", function(){\n",
       "\tfig.close_ws(fig, {});\n",
       "    });\n",
       "}\n",
       "\n",
       "mpl.figure.prototype._canvas_extra_style = function(el){\n",
       "    // this is important to make the div 'focusable\n",
       "    el.attr('tabindex', 0)\n",
       "    // reach out to IPython and tell the keyboard manager to turn it's self\n",
       "    // off when our div gets focus\n",
       "\n",
       "    // location in version 3\n",
       "    if (IPython.notebook.keyboard_manager) {\n",
       "        IPython.notebook.keyboard_manager.register_events(el);\n",
       "    }\n",
       "    else {\n",
       "        // location in version 2\n",
       "        IPython.keyboard_manager.register_events(el);\n",
       "    }\n",
       "\n",
       "}\n",
       "\n",
       "mpl.figure.prototype._key_event_extra = function(event, name) {\n",
       "    var manager = IPython.notebook.keyboard_manager;\n",
       "    if (!manager)\n",
       "        manager = IPython.keyboard_manager;\n",
       "\n",
       "    // Check for shift+enter\n",
       "    if (event.shiftKey && event.which == 13) {\n",
       "        this.canvas_div.blur();\n",
       "        event.shiftKey = false;\n",
       "        // Send a \"J\" for go to next cell\n",
       "        event.which = 74;\n",
       "        event.keyCode = 74;\n",
       "        manager.command_mode();\n",
       "        manager.handle_keydown(event);\n",
       "    }\n",
       "}\n",
       "\n",
       "mpl.figure.prototype.handle_save = function(fig, msg) {\n",
       "    fig.ondownload(fig, null);\n",
       "}\n",
       "\n",
       "\n",
       "mpl.find_output_cell = function(html_output) {\n",
       "    // Return the cell and output element which can be found *uniquely* in the notebook.\n",
       "    // Note - this is a bit hacky, but it is done because the \"notebook_saving.Notebook\"\n",
       "    // IPython event is triggered only after the cells have been serialised, which for\n",
       "    // our purposes (turning an active figure into a static one), is too late.\n",
       "    var cells = IPython.notebook.get_cells();\n",
       "    var ncells = cells.length;\n",
       "    for (var i=0; i<ncells; i++) {\n",
       "        var cell = cells[i];\n",
       "        if (cell.cell_type === 'code'){\n",
       "            for (var j=0; j<cell.output_area.outputs.length; j++) {\n",
       "                var data = cell.output_area.outputs[j];\n",
       "                if (data.data) {\n",
       "                    // IPython >= 3 moved mimebundle to data attribute of output\n",
       "                    data = data.data;\n",
       "                }\n",
       "                if (data['text/html'] == html_output) {\n",
       "                    return [cell, data, j];\n",
       "                }\n",
       "            }\n",
       "        }\n",
       "    }\n",
       "}\n",
       "\n",
       "// Register the function which deals with the matplotlib target/channel.\n",
       "// The kernel may be null if the page has been refreshed.\n",
       "if (IPython.notebook.kernel != null) {\n",
       "    IPython.notebook.kernel.comm_manager.register_target('matplotlib', mpl.mpl_figure_comm);\n",
       "}\n"
      ],
      "text/plain": [
       "<IPython.core.display.Javascript object>"
      ]
     },
     "metadata": {},
     "output_type": "display_data"
    },
    {
     "data": {
      "text/html": [
       "<img src=\"data:image/png;base64,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\" width=\"832\">"
      ],
      "text/plain": [
       "<IPython.core.display.HTML object>"
      ]
     },
     "metadata": {},
     "output_type": "display_data"
    },
    {
     "data": {
      "text/plain": [
       "<matplotlib.axes._subplots.Axes3DSubplot at 0x7f83decc1dd8>"
      ]
     },
     "execution_count": 61,
     "metadata": {},
     "output_type": "execute_result"
    }
   ],
   "source": [
    "init_plot()\n",
    "%matplotlib notebook\n",
    "p.plot_d_e_mem_heat_map('wire')"
   ]
  },
  {
   "cell_type": "code",
   "execution_count": 31,
   "metadata": {
    "ExecuteTime": {
     "end_time": "2019-07-28T13:00:23.246144Z",
     "start_time": "2019-07-28T13:00:22.830227Z"
    },
    "hidden": true
   },
   "outputs": [
    {
     "data": {
      "image/png": "[encoded data removed]",
      "text/plain": [
       "<Figure size 432x288 with 2 Axes>"
      ]
     },
     "metadata": {
      "needs_background": "light"
     },
     "output_type": "display_data"
    }
   ],
   "source": [
    "p.plot_t_t_mem_heat_map()"
   ]
  },
  {
   "cell_type": "code",
   "execution_count": 5,
   "metadata": {
    "ExecuteTime": {
     "end_time": "2019-07-31T09:39:42.255986Z",
     "start_time": "2019-07-31T09:39:41.852737Z"
    },
    "hidden": true
   },
   "outputs": [
    {
     "data": {
      "image/png": "[encoded data removed]",
      "text/plain": [
       "<Figure size 780x520 with 1 Axes>"
      ]
     },
     "metadata": {
      "needs_background": "light"
     },
     "output_type": "display_data"
    }
   ],
   "source": [
    "from elasticbench.exp.mem_trace import generate_mem_trace\n",
    "f = generate_mem_trace(max_amplitude=2048, changes_per_hour=20, density=1)\n",
    "f += 2048\n",
    "%matplotlib inline\n",
    "init_plot()\n",
    "f.plot()\n",
    "f.clip(896, 4096, inplace=True)\n",
    "f.plot()"
   ]
  },
  {
   "cell_type": "code",
   "execution_count": 3,
   "metadata": {
    "ExecuteTime": {
     "end_time": "2019-07-31T10:27:54.136904Z",
     "start_time": "2019-07-31T10:27:51.137389Z"
    },
    "hidden": true,
    "scrolled": true
   },
   "outputs": [
    {
     "data": {
      "image/png": "[encoded data removed]",
      "text/plain": [
       "<Figure size 432x288 with 1 Axes>"
      ]
     },
     "metadata": {
      "needs_background": "light"
     },
     "output_type": "display_data"
    },
    {
     "data": {
      "image/png": "[encoded data removed]",
      "text/plain": [
       "<Figure size 432x288 with 1 Axes>"
      ]
     },
     "metadata": {
      "needs_background": "light"
     },
     "output_type": "display_data"
    },
    {
     "data": {
      "image/png": "[encoded data removed]",
      "text/plain": [
       "<Figure size 432x288 with 1 Axes>"
      ]
     },
     "metadata": {
      "needs_background": "light"
     },
     "output_type": "display_data"
    },
    {
     "data": {
      "image/png": "[encoded data removed]",
      "text/plain": [
       "<Figure size 432x288 with 1 Axes>"
      ]
     },
     "metadata": {
      "needs_background": "light"
     },
     "output_type": "display_data"
    },
    {
     "data": {
      "image/png": "[encoded data removed]",
      "text/plain": [
       "<Figure size 432x288 with 1 Axes>"
      ]
     },
     "metadata": {
      "needs_background": "light"
     },
     "output_type": "display_data"
    },
    {
     "data": {
      "image/png": "[encoded data removed]",
      "text/plain": [
       "<Figure size 432x288 with 1 Axes>"
      ]
     },
     "metadata": {
      "needs_background": "light"
     },
     "output_type": "display_data"
    },
    {
     "data": {
      "image/png": "[encoded data removed]",
      "text/plain": [
       "<Figure size 432x288 with 1 Axes>"
      ]
     },
     "metadata": {
      "needs_background": "light"
     },
     "output_type": "display_data"
    },
    {
     "data": {
      "image/png": "[encoded data removed]",
      "text/plain": [
       "<Figure size 432x288 with 1 Axes>"
      ]
     },
     "metadata": {
      "needs_background": "light"
     },
     "output_type": "display_data"
    },
    {
     "data": {
      "image/png": "[encoded data removed]",
      "text/plain": [
       "<Figure size 432x288 with 1 Axes>"
      ]
     },
     "metadata": {
      "needs_background": "light"
     },
     "output_type": "display_data"
    },
    {
     "data": {
      "image/png": "[encoded data removed]",
      "text/plain": [
       "<Figure size 432x288 with 1 Axes>"
      ]
     },
     "metadata": {
      "needs_background": "light"
     },
     "output_type": "display_data"
    },
    {
     "data": {
      "image/png": "[encoded data removed]",
      "text/plain": [
       "<Figure size 432x288 with 1 Axes>"
      ]
     },
     "metadata": {
      "needs_background": "light"
     },
     "output_type": "display_data"
    },
    {
     "data": {
      "image/png": "[encoded data removed]",
      "text/plain": [
       "<Figure size 432x288 with 1 Axes>"
      ]
     },
     "metadata": {
      "needs_background": "light"
     },
     "output_type": "display_data"
    },
    {
     "data": {
      "image/png": "[encoded data removed]",
      "text/plain": [
       "<Figure size 432x288 with 1 Axes>"
      ]
     },
     "metadata": {
      "needs_background": "light"
     },
     "output_type": "display_data"
    },
    {
     "data": {
      "image/png": "[encoded data removed]",
      "text/plain": [
       "<Figure size 432x288 with 1 Axes>"
      ]
     },
     "metadata": {
      "needs_background": "light"
     },
     "output_type": "display_data"
    },
    {
     "data": {
      "image/png": "[encoded data removed]",
      "text/plain": [
       "<Figure size 432x288 with 1 Axes>"
      ]
     },
     "metadata": {
      "needs_background": "light"
     },
     "output_type": "display_data"
    }
   ],
   "source": [
    "from elasticbench.exp.mem_trace import iterate_over_stored_mem_trace\n",
    "for k, f in iterate_over_stored_mem_trace():\n",
    "    f.plot()\n",
    "    plt.title(k)\n",
    "    plt.show()"
   ]
  },
  {
   "cell_type": "code",
   "execution_count": 16,
   "metadata": {
    "ExecuteTime": {
     "end_time": "2019-07-31T10:06:53.126461Z",
     "start_time": "2019-07-31T10:06:52.826694Z"
    },
    "hidden": true
   },
   "outputs": [
    {
     "data": {
      "image/png": "[encoded data removed]",
      "text/plain": [
       "<Figure size 780x520 with 1 Axes>"
      ]
     },
     "metadata": {
      "needs_background": "light"
     },
     "output_type": "display_data"
    }
   ],
   "source": [
    "import nesteddict\n",
    "f = get_stored_mem_trace(256, 10, 0)\n",
    "f += 2048\n",
    "%matplotlib inline\n",
    "init_plot()\n",
    "f.plot()\n",
    "f.clip(896, 4096, inplace=True)\n",
    "f.plot()"
   ]
  },
  {
   "cell_type": "code",
   "execution_count": null,
   "metadata": {
    "ExecuteTime": {
     "end_time": "2019-07-26T09:34:57.702298Z",
     "start_time": "2019-07-26T09:34:56.218013Z"
    },
    "hidden": true,
    "scrolled": true
   },
   "outputs": [],
   "source": [
    "d = ExpData(settings.get_output_path('dec-inc/memcached-l20-m896-6144'))\n",
    "plot_funcs(d, plots.mem_libvirt, plots.mem_control, plots.mem_available, plots.mem_used,\n",
    "           mcd_plots.perf_hit_rate, mcd_plots.perf_get_throughput, mcd_plots.mem_alloc,\n",
    "           mcd_plots.mem_max_bytes,\n",
    "           for_group='vm-1')"
   ]
  },
  {
   "cell_type": "code",
   "execution_count": null,
   "metadata": {
    "ExecuteTime": {
     "end_time": "2019-07-27T20:22:44.757821Z",
     "start_time": "2019-07-27T20:22:38.913725Z"
    },
    "hidden": true
   },
   "outputs": [],
   "source": [
    "d = ExpData(settings.output_path('drop/memcached/l20-b1024-d896-x5'))\n",
    "plot_funcs(d, plots.mem_libvirt, plots.mem_control, plots.mem_available, plots.mem_used, plots.mem_swap_out,\n",
    "           #mcd_plots.memaslap_rss, mcd_plots.memaslap_vsize,\n",
    "           mcd_plots.perf_hit_rate, mcd_plots.perf_get_throughput, mcd_plots.mem_alloc,\n",
    "           mcd_plots.mem_max_bytes,\n",
    "           for_group='vm-1')"
   ]
  },
  {
   "cell_type": "code",
   "execution_count": null,
   "metadata": {
    "ExecuteTime": {
     "end_time": "2019-07-29T12:29:04.926778Z",
     "start_time": "2019-07-29T12:28:59.626280Z"
    },
    "hidden": true
   },
   "outputs": [],
   "source": [
    "d = ExpData(settings.output_path('drop-init/memcached/l20-b1024-d896-x3'))\n",
    "plot_funcs(d, plots.mem_libvirt, plots.mem_control, plots.mem_available, plots.mem_used, plots.mem_swap_out,\n",
    "           mcd_plots.perf_hit_rate, mcd_plots.perf_get_throughput, mcd_plots.mem_alloc,\n",
    "           mcd_plots.mem_max_bytes,\n",
    "           for_group='vm-1')"
   ]
  },
  {
   "cell_type": "code",
   "execution_count": null,
   "metadata": {
    "ExecuteTime": {
     "end_time": "2019-07-29T17:24:49.213920Z",
     "start_time": "2019-07-29T17:24:37.983770Z"
    },
    "hidden": true,
    "scrolled": false
   },
   "outputs": [],
   "source": [
    "d = ExpData(settings.output_path('drop/memcached/l20-b1536-d1024-x5'))\n",
    "p = ExpAnalyzer(d, mcd_plots, 'vm-1', window_sec=90)\n",
    "p.plot()"
   ]
  },
  {
   "cell_type": "code",
   "execution_count": null,
   "metadata": {
    "ExecuteTime": {
     "end_time": "2019-07-29T12:00:42.294627Z",
     "start_time": "2019-07-29T12:00:32.980027Z"
    },
    "hidden": true
   },
   "outputs": [],
   "source": [
    "d = ExpData(settings.output_path('drop/memcached/l20-b2048-d1536-x5'))\n",
    "p = ExpAnalyzer(d, mcd_plots, 'vm-1', window_sec=60)\n",
    "p.plot()"
   ]
  },
  {
   "cell_type": "code",
   "execution_count": 22,
   "metadata": {
    "ExecuteTime": {
     "end_time": "2019-07-27T10:34:24.991608Z",
     "start_time": "2019-07-27T10:34:24.427195Z"
    },
    "hidden": true
   },
   "outputs": [
    {
     "data": {
      "image/png": "[encoded data removed]",
      "text/plain": [
       "<Figure size 432x288 with 1 Axes>"
      ]
     },
     "metadata": {
      "needs_background": "light"
     },
     "output_type": "display_data"
    }
   ],
   "source": [
    "p.plot_memory_profile()"
   ]
  },
  {
   "cell_type": "code",
   "execution_count": null,
   "metadata": {
    "ExecuteTime": {
     "end_time": "2019-07-22T12:16:03.282973Z",
     "start_time": "2019-07-22T12:15:39.282699Z"
    },
    "hidden": true,
    "scrolled": true
   },
   "outputs": [],
   "source": [
    "# from bokeh.themes import built_in_themes\n",
    "# from bokeh.io import curdoc\n",
    "# curdoc().theme = 'dark_minimal'\n",
    "d = ExpData(settings.get_output_path('step/memcached-l20-b4096-s3072-x60'))\n",
    "plot_funcs(d, plots.mem_libvirt, plots.mem_control, plots.mem_available, plots.mem_used,\n",
    "           mcd_plots.perf_hit_rate, mcd_plots.perf_get_throughput, mcd_plots.mem_alloc,\n",
    "           mcd_plots.perf_hit_percentage,\n",
    "           mcd_plots.mem_max_bytes, mcd_plots.perf_ops, #cpu_usage_time, # cpu_usage_percentage\n",
    "           for_group='vm-1')"
   ]
  },
  {
   "cell_type": "code",
   "execution_count": null,
   "metadata": {
    "ExecuteTime": {
     "end_time": "2019-07-22T12:17:19.865598Z",
     "start_time": "2019-07-22T12:16:34.717361Z"
    },
    "hidden": true,
    "scrolled": true
   },
   "outputs": [],
   "source": [
    "from cloudexp.results.pit_test import PitTest\n",
    "PitTest(d, mcd_plots.perf_hit_rate, 'vm-1', window_sec=15).plot()"
   ]
  },
  {
   "cell_type": "code",
   "execution_count": null,
   "metadata": {
    "ExecuteTime": {
     "end_time": "2019-07-08T08:07:00.572627Z",
     "start_time": "2019-07-08T08:07:00.380353Z"
    },
    "hidden": true,
    "scrolled": true
   },
   "outputs": [],
   "source": [
    "d = ExpData(settings.get_output_path('static', 'memcached-l10-m4096-1h'))\n",
    "plot_funcs(d, mem_libvirt, mem_control, mem_available, mem_used,\n",
    "           mcd_plots.perf_hit_rate, mcd_plots.perf_get_throughput, mcd_plots.mem_alloc,\n",
    "           mcd_plots.perf_hit_percentage,\n",
    "           mcd_plots.mem_max_bytes, mem_major_fault, mem_minor_fault, cpu_usage_percentage, #cpu_usage_time, # cpu_usage_percentage\n",
    "           for_group='vm-1')"
   ]
  },
  {
   "cell_type": "code",
   "execution_count": null,
   "metadata": {
    "ExecuteTime": {
     "end_time": "2019-07-08T10:37:45.369616Z",
     "start_time": "2019-07-08T10:37:44.737117Z"
    },
    "hidden": true
   },
   "outputs": [],
   "source": [
    "d = ExpData(settings.get_output_path('static', 'iperf-l10-m4096-1h'))\n",
    "plot_funcs(d, #plots.mem_libvirt, plots.mem_control, plots.mem_available, plots.mem_used,\n",
    "           iperf_plots.perf_bandwidth_resample, #iperf_plots.perf_transfer,\n",
    "           for_group='vm-1')"
   ]
  },
  {
   "cell_type": "code",
   "execution_count": null,
   "metadata": {
    "ExecuteTime": {
     "end_time": "2019-07-10T11:08:38.369800Z",
     "start_time": "2019-07-10T11:08:37.292903Z"
    },
    "hidden": true
   },
   "outputs": [],
   "source": [
    "d = ExpData(settings.get_output_path('static', 'stress-l4-m4096-1h'))\n",
    "plot_funcs(d,\n",
    "           stress_plots.time_ratio, stress_plots.ops_per_second_real_time, stress_plots.ops_per_second_vm_time,\n",
    "           plots.cpu_usage_time,\n",
    "          )"
   ]
  },
  {
   "cell_type": "code",
   "execution_count": null,
   "metadata": {
    "ExecuteTime": {
     "end_time": "2019-07-11T07:50:10.710941Z",
     "start_time": "2019-07-11T07:50:09.885506Z"
    },
    "hidden": true
   },
   "outputs": [],
   "source": [
    "d = ExpData(settings.get_output_path('static', 'memcached-l1-m4096-3h'))\n",
    "plot_funcs(d,\n",
    "           mcd_plots.perf_get_throughput, #mcd_plots.perf_set_throughput,\n",
    "#            plots.cpu_usage_percentage,\n",
    "           plots.cpu_usage_time,\n",
    "#            *[plots.sensor(i, c) for i in range(2) for c in range(6)],\n",
    "#            *[plots.cpu_freq(i) for i in range(24)],\n",
    "#            *plots.ksm_parameters()\n",
    "          )"
   ]
  },
  {
   "cell_type": "code",
   "execution_count": null,
   "metadata": {
    "ExecuteTime": {
     "end_time": "2019-07-11T05:50:50.830620Z",
     "start_time": "2019-07-11T05:50:50.768018Z"
    },
    "hidden": true
   },
   "outputs": [],
   "source": [
    "x = \"full_scans  merge_across_nodes  pages_shared  pages_sharing  pages_to_scan  pages_unshared  pages_volatile  run  sleep_millisecs\"\n",
    "print(x.split())"
   ]
  },
  {
   "cell_type": "code",
   "execution_count": null,
   "metadata": {
    "ExecuteTime": {
     "end_time": "2019-07-10T23:11:52.050482Z",
     "start_time": "2019-07-10T23:11:51.681021Z"
    },
    "hidden": true
   },
   "outputs": [],
   "source": [
    "from elasticbench.apps.memcached.memslap import MemSlap\n",
    "from cloudexp.util.logs import start_stdio_logging\n",
    "from bokeh.models import Range1d\n",
    "# start_stdio_logging()\n",
    "m = MemSlap()\n",
    "x = []\n",
    "y = []\n",
    "with open('/home/fonaro/workspace/wRaaS/elasticbench-apps/output-no-ksm.txt', 'r') as f:\n",
    "    for offset, res in m.iter_parse_lines(f):\n",
    "        x.append(offset)\n",
    "        y.append(res['get']['period']['tps(ops/s)'])\n",
    "fig = new_fig()\n",
    "print(max(y))\n",
    "fig.line(x=np.array(x) / 60, y=y)\n",
    "fig.y_range = Range1d(0, max(y)*1.1)\n",
    "show(fig)"
   ]
  },
  {
   "cell_type": "code",
   "execution_count": null,
   "metadata": {
    "ExecuteTime": {
     "end_time": "2019-07-10T14:30:18.496549Z",
     "start_time": "2019-07-10T14:30:18.471153Z"
    },
    "hidden": true
   },
   "outputs": [],
   "source": [
    "keys_dist = [(249, 249, 1.0)]\n",
    "list(map('{0[0]} {0[1]} {0[2]:.1f}'.format, keys_dist))"
   ]
  },
  {
   "cell_type": "code",
   "execution_count": null,
   "metadata": {
    "ExecuteTime": {
     "end_time": "2019-07-09T11:23:44.356938Z",
     "start_time": "2019-07-09T11:23:37.667448Z"
    },
    "hidden": true
   },
   "outputs": [],
   "source": [
    "d = ExpData(settings.get_output_path('static', 'memcached-l1-m4096-3h'))\n",
    "plot_funcs(d, #plots.mem_libvirt, plots.mem_control,\n",
    "           #mcd_plots.perf_hit_rate,\n",
    "           mcd_plots.perf_get_throughput,\n",
    "           #mcd_plots.mem_alloc,\n",
    "           plots.mem_available, plots.mem_used,\n",
    "           #mcd_plots.perf_hit_percentage,\n",
    "           #mcd_plots.mem_max_bytes,\n",
    "           #plots.cpu_usage_percentage,\n",
    "           plots.mem_major_fault, plots.mem_minor_fault, \n",
    "           plots.cpu_usage_time_resample,# *[plots.cpu_usage_time_i(i) for i in range(4)],\n",
    "           plots.app_cpu_time('memcached'), plots.app_cpu_time('memaslap'), plots.app_cpu_time('python'),\n",
    "#            output_filename='vm-perf-drop-puzzle',\n",
    "          #for_group='vm-1'\n",
    "          )"
   ]
  },
  {
   "cell_type": "code",
   "execution_count": null,
   "metadata": {
    "ExecuteTime": {
     "end_time": "2019-07-09T11:41:08.547593Z",
     "start_time": "2019-07-09T11:41:03.871249Z"
    },
    "hidden": true
   },
   "outputs": [],
   "source": [
    "d = ExpData(settings.get_output_path('static', 'memcached-l1-m4096-3h'))\n",
    "lo_empty_keys = {'carrier', 'colls', 'multicast', 'compressed', 'frame', 'fifo', 'drop', 'errs'}\n",
    "eth_empty_keys = {'carrier', 'colls', 'compressed', 'frame', 'fifo', 'drop', 'errs'}\n",
    "plot_funcs(d,\n",
    "           mcd_plots.perf_get_throughput,\n",
    "           *[plots.net_stat('lo', d, c) for d, c in plots.NET_KEYS if c not in lo_empty_keys],\n",
    "           *[plots.net_stat('eth0', d, c) for d, c in plots.NET_KEYS if c not in eth_empty_keys],\n",
    "          )"
   ]
  },
  {
   "cell_type": "code",
   "execution_count": null,
   "metadata": {
    "ExecuteTime": {
     "end_time": "2019-07-07T14:21:49.424092Z",
     "start_time": "2019-07-07T14:21:14.336487Z"
    },
    "hidden": true
   },
   "outputs": [],
   "source": [
    "d = ExpData(settings.get_output_path('static', 'memcached-l1-m4096-3h'))\n",
    "t = mcd_plots.perf_get_throughput(d)\n",
    "f = [analyze.fetch_data(d, x='sample_start', y=f'memcached:{k}', y_name=k) for k in keys]"
   ]
  },
  {
   "cell_type": "code",
   "execution_count": null,
   "metadata": {
    "ExecuteTime": {
     "end_time": "2019-07-07T14:46:47.126706Z",
     "start_time": "2019-07-07T14:46:44.991024Z"
    },
    "hidden": true
   },
   "outputs": [],
   "source": [
    "good = ['hash_power_level', 'hash_bytes', 'hash_is_expanding', 'lru_crawler_running', 'lru_crawler_starts', 'crawler_items_checked', 'moves_within_lru']\n",
    "lru_m = analyze.fetch_data(d, x='sample_start', y=f'memcached:lru_maintainer_juggles', y_name='lru_maintainer_juggles', diff=True)\n",
    "active_slabs = analyze.fetch_data(d, x='sample_start', y=f'memcached:active_slabs', y_name='active_slabs')\n",
    "good_f = [f[keys.index(g)] for g in good]\n",
    "plot(t, *good_f, lru_m, active_slabs, for_group='vm-1')"
   ]
  },
  {
   "cell_type": "code",
   "execution_count": null,
   "metadata": {
    "ExecuteTime": {
     "end_time": "2019-07-07T13:43:08.486390Z",
     "start_time": "2019-07-07T13:43:05.069553Z"
    },
    "hidden": true
   },
   "outputs": [],
   "source": [
    "d = ExpData(settings.get_output_path('static', 'memcached-l1-m4096-1h'))\n",
    "plot_funcs(d, plots.mem_libvirt, plots.mem_control, plots.mem_available, plots.mem_used,\n",
    "           mcd_plots.perf_hit_rate, mcd_plots.perf_get_throughput, mcd_plots.mem_alloc,\n",
    "           mcd_plots.perf_hit_percentage,\n",
    "           mcd_plots.mem_max_bytes, #plots.cpu_usage_percentage,#cpu_usage_time, # \n",
    "           for_group='vm-1')"
   ]
  },
  {
   "cell_type": "code",
   "execution_count": null,
   "metadata": {
    "ExecuteTime": {
     "end_time": "2019-07-06T18:41:05.451756Z",
     "start_time": "2019-07-06T18:40:57.329091Z"
    },
    "hidden": true
   },
   "outputs": [],
   "source": [
    "d = ExpData(settings.get_output_path('static', 'memcached-l2-m4096-1h'))\n",
    "plot_funcs(d, plots.mem_libvirt, plots.mem_control, plots.mem_available, plots.mem_used,\n",
    "           mcd_plots.perf_hit_rate, mcd_plots.perf_get_throughput, mcd_plots.mem_alloc,\n",
    "           mcd_plots.perf_hit_percentage,\n",
    "           mcd_plots.mem_max_bytes, #cpu_usage_time, # cpu_usage_percentage\n",
    "           for_group='vm-1')"
   ]
  },
  {
   "cell_type": "code",
   "execution_count": null,
   "metadata": {
    "ExecuteTime": {
     "end_time": "2019-07-06T16:46:21.383121Z",
     "start_time": "2019-07-06T16:46:18.801986Z"
    },
    "hidden": true
   },
   "outputs": [],
   "source": [
    "d = ExpData(settings.get_output_path('static', 'memcached-l10-m4096-3h'))\n",
    "plot_funcs(d, mem_libvirt, mem_control, mem_available, mem_used,\n",
    "           mcd_plots.perf_hit_rate, mcd_plots.perf_get_throughput, mcd_plots.mem_alloc,\n",
    "           mcd_plots.perf_hit_percentage,\n",
    "           mcd_plots.mem_max_bytes, mcd_plots.perf_get_net_rate, mcd_plots.perf_set_net_rate, mcd_plots.perf_total_throughput, #cpu_usage_time, # cpu_usage_percentage\n",
    "           for_group='vm-1')"
   ]
  },
  {
   "cell_type": "code",
   "execution_count": null,
   "metadata": {
    "ExecuteTime": {
     "end_time": "2019-07-03T12:27:04.905501Z",
     "start_time": "2019-07-03T12:27:02.943251Z"
    },
    "hidden": true
   },
   "outputs": [],
   "source": [
    "d = ExpData(settings.get_output_path('step/memcached-l10-b4096-s1024-x6'))\n",
    "df, units = join_multiple_data(d, 'vm-1', mem_used, mem_cache_and_buff,\n",
    "                               mcd_plots.mem_rss)\n",
    "# df, units = join_multiple_data(d, 'vm-1', mcd_plots.mem_rss, mcd_plots.mem_alloc)\n",
    "df, units = join_multiple_data(d, 'vm-1', mem_available, mem_used)\n",
    "cols = df.columns\n",
    "df['diff'] = df[cols[0]] - df[cols[1]]# - df[cols[2]]\n",
    "p = LinePlot()\n",
    "p.plot_df(df, units=[*units, 'diff'])\n",
    "p.show()"
   ]
  },
  {
   "cell_type": "code",
   "execution_count": null,
   "metadata": {
    "ExecuteTime": {
     "end_time": "2019-07-10T23:30:00.800267Z",
     "start_time": "2019-07-10T23:30:00.770227Z"
    },
    "hidden": true
   },
   "outputs": [],
   "source": [
    "sys.version"
   ]
  },
  {
   "cell_type": "code",
   "execution_count": null,
   "metadata": {
    "ExecuteTime": {
     "end_time": "2019-07-10T23:41:21.337716Z",
     "start_time": "2019-07-10T23:41:16.720852Z"
    },
    "hidden": true
   },
   "outputs": [],
   "source": [
    "from cloudexp.drivers import cpu_settings\n",
    "cpu_settings.enable_hyper_threading()\n",
    "cpu_settings.set_cpu_governor('performance')\n",
    "# cpu_settings.disable_hyper_threading()"
   ]
  },
  {
   "cell_type": "markdown",
   "metadata": {
    "heading_collapsed": true
   },
   "source": [
    "# Parse stress-ng"
   ]
  },
  {
   "cell_type": "code",
   "execution_count": null,
   "metadata": {
    "ExecuteTime": {
     "end_time": "2019-07-09T21:24:42.857772Z",
     "start_time": "2019-07-09T21:24:42.791221Z"
    },
    "hidden": true
   },
   "outputs": [],
   "source": [
    "out = \"\"\"\n",
    "stress-ng: info:  [4601] dispatching hogs: 1 cpu\n",
    "stress-ng: info:  [4601] successful run completed in 3.02s\n",
    "stress-ng: info:  [4601] stressor       bogo ops real time  usr time  sys time   bogo ops/s   bogo ops/s\n",
    "stress-ng: info:  [4601]                           (secs)    (secs)    (secs)   (real time) (usr+sys time)\n",
    "stress-ng: info:  [4601] cpu                 518      3.02      3.01      0.00       171.80       172.09\n",
    "\"\"\"\n",
    "\n",
    "from elasticbench.apps.stress import parse_stress_ng\n",
    "parse_stress_ng(out)"
   ]
  },
  {
   "cell_type": "markdown",
   "metadata": {
    "heading_collapsed": true
   },
   "source": [
    "# Parse 'sensors'"
   ]
  },
  {
   "cell_type": "code",
   "execution_count": null,
   "metadata": {
    "ExecuteTime": {
     "end_time": "2019-07-09T18:00:14.298380Z",
     "start_time": "2019-07-09T18:00:14.260720Z"
    },
    "hidden": true
   },
   "outputs": [],
   "source": [
    "out = \"\"\"\n",
    "coretemp-isa-0000\n",
    "Adapter: ISA adapter\n",
    "Physical id 0:  +56.0°C  (high = +87.0°C, crit = +97.0°C)\n",
    "Core 0:         +55.0°C  (high = +87.0°C, crit = +97.0°C)\n",
    "Core 1:         +56.0°C  (high = +87.0°C, crit = +97.0°C)\n",
    "Core 2:         +54.0°C  (high = +87.0°C, crit = +97.0°C)\n",
    "Core 3:         +55.0°C  (high = +87.0°C, crit = +97.0°C)\n",
    "Core 4:         +55.0°C  (high = +87.0°C, crit = +97.0°C)\n",
    "Core 5:         +53.0°C  (high = +87.0°C, crit = +97.0°C)\n",
    "\n",
    "coretemp-isa-0001\n",
    "Adapter: ISA adapter\n",
    "Physical id 1:  +53.0°C  (high = +87.0°C, crit = +97.0°C)\n",
    "Core 0:         +50.0°C  (high = +87.0°C, crit = +97.0°C)\n",
    "Core 1:         +53.0°C  (high = +87.0°C, crit = +97.0°C)\n",
    "Core 2:         +51.0°C  (high = +87.0°C, crit = +97.0°C)\n",
    "Core 3:         +52.0°C  (high = +87.0°C, crit = +97.0°C)\n",
    "Core 4:         +52.0°C  (high = +87.0°C, crit = +97.0°C)\n",
    "Core 5:         +53.0°C  (high = +87.0°C, crit = +97.0°C)\n",
    "\"\"\"\n",
    "\n",
    "from mom.monitor.collectors.sensors import parse_sensors\n",
    "parse_sensors(out)"
   ]
  },
  {
   "cell_type": "markdown",
   "metadata": {
    "heading_collapsed": true
   },
   "source": [
    "# Understand win_size"
   ]
  },
  {
   "cell_type": "code",
   "execution_count": null,
   "metadata": {
    "ExecuteTime": {
     "end_time": "2019-07-07T08:37:49.224995Z",
     "start_time": "2019-07-07T08:37:49.156911Z"
    },
    "hidden": true
   },
   "outputs": [],
   "source": [
    "G = 2**30\n",
    "k = 2**10\n",
    "\n",
    "cache_size = 3*G\n",
    "concurrency = 128\n",
    "key_size = 128\n",
    "value_size = 2048 \n",
    "\n",
    "total_size = key_size + value_size\n",
    "print(\"Total size (k):\", total_size / k)\n",
    "\n",
    "# The formula for calculating window size for cache miss rate 0%:\n",
    "win_size = cache_size / concurrency / (key_size + value_size) * 0.5\n",
    "print(\"0% miss rate - win size (k):\", win_size / k)\n",
    "\n",
    "# The formula for calculating window size for cache miss rate 5%:\n",
    "win_size = cache_size / concurrency / (key_size + value_size) * 0.7\n",
    "print(\"5% miss rate - win size (k):\", win_size / k)"
   ]
  },
  {
   "cell_type": "code",
   "execution_count": null,
   "metadata": {
    "ExecuteTime": {
     "end_time": "2019-07-07T08:33:15.523826Z",
     "start_time": "2019-07-07T08:33:15.492854Z"
    },
    "hidden": true
   },
   "outputs": [],
   "source": [
    "# 0.5 = m*0 + c => c=0.5\n",
    "# 0.7 = m*0.05 + 0.5 => 0.2 = m*0.05 => m=4\n",
    "m, c = 4, 1/2\n",
    "f = lambda x: m*x + c\n",
    "print(f(1-0.125))\n",
    "\n",
    "# 0.05 = m*0.7 + c\n",
    "# 0 = m*0.5 + c\n",
    "# 0.05 = m*0.2 => m=0.25\n",
    "# 0 = 0.25*0.5 + c => c = -25/2\n",
    "f2 = lambda x: m*x + c\n",
    "m, c = 0.25, -0.125\n",
    "print(f2(4))"
   ]
  },
  {
   "cell_type": "code",
   "execution_count": null,
   "metadata": {
    "ExecuteTime": {
     "end_time": "2019-07-07T14:48:06.314484Z",
     "start_time": "2019-07-07T14:48:06.284300Z"
    },
    "hidden": true
   },
   "outputs": [],
   "source": [
    "G = 2**30\n",
    "k = 2**10\n",
    "\n",
    "cache_size = 3*G\n",
    "win_size = 1000*k\n",
    "concurrency = 16\n",
    "key_size = 512 #249\n",
    "value_size = 1024\n",
    "\n",
    "total_size = key_size + value_size\n",
    "print(\"Total size (k):\", total_size / k)\n",
    "\n",
    "sz = cache_size / concurrency / total_size\n",
    "hit_rate = sz / win_size\n",
    "print(\"Hit rate:\", hit_rate)"
   ]
  },
  {
   "cell_type": "markdown",
   "metadata": {
    "heading_collapsed": true
   },
   "source": [
    "# Parse `/proc/net/dev`"
   ]
  },
  {
   "cell_type": "code",
   "execution_count": null,
   "metadata": {
    "ExecuteTime": {
     "end_time": "2019-07-09T11:31:39.801087Z",
     "start_time": "2019-07-09T11:31:39.706233Z"
    },
    "hidden": true
   },
   "outputs": [],
   "source": [
    "from itertools import cycle, chain\n",
    "import msgpack, pickle\n",
    "import zlib\n",
    "\n",
    "with open(\"/proc/net/dev\", 'r') as f:\n",
    "    content = f.readlines()\n",
    "\n",
    "headres = [h.strip().lower() for h in content[0].split('|')]\n",
    "sub_headres = [h.split() for h in content[1].split('|')]\n",
    "headres = headres[1:]\n",
    "sub_headres = sub_headres[1:]\n",
    "print(headres)\n",
    "print(sub_headres)\n",
    "\n",
    "keys = list(chain(*[zip(cycle([h]), s) for h, s in zip(headres, sub_headres)]))\n",
    "print(keys)\n",
    "\n",
    "ret = {}\n",
    "for l in content[2:]:\n",
    "    l = l.split()\n",
    "    interface_name = l[0].strip(\": \")\n",
    "    data = l[1:]\n",
    "    interface = ret.setdefault(interface_name, {})\n",
    "    for (direction, key), d in zip(keys, data):\n",
    "        interface.setdefault(direction, {})[key] = int(d)\n",
    "\n",
    "p1 = pickle.dumps(ret)\n",
    "p2 = msgpack.dumps(ret, use_bin_type=True)\n",
    "l1, l2 = map(len, [p1, p2])\n",
    "c1, c2 = map(lambda o: zlib.compress(o, level=9), [p1, p2])\n",
    "lc1, lc2 = map(len, [c1, c2])\n",
    "l1, l2, lc1, lc2"
   ]
  },
  {
   "cell_type": "markdown",
   "metadata": {
    "heading_collapsed": true
   },
   "source": [
    "# Parse iperf"
   ]
  },
  {
   "cell_type": "code",
   "execution_count": null,
   "metadata": {
    "ExecuteTime": {
     "end_time": "2019-07-08T05:14:53.048054Z",
     "start_time": "2019-07-08T05:14:52.945291Z"
    },
    "hidden": true
   },
   "outputs": [],
   "source": [
    "out = \"\"\"\n",
    "------------------------------------------------------------\n",
    "Client connecting to localhost, TCP port 5001\n",
    "TCP window size: 2.50 MByte (default)\n",
    "------------------------------------------------------------\n",
    "[ 12] local 127.0.0.1 port 42018 connected with 127.0.0.1 port 5001\n",
    "[  3] local 127.0.0.1 port 42000 connected with 127.0.0.1 port 5001\n",
    "[  6] local 127.0.0.1 port 42002 connected with 127.0.0.1 port 5001\n",
    "[  7] local 127.0.0.1 port 42006 connected with 127.0.0.1 port 5001\n",
    "[  4] local 127.0.0.1 port 42004 connected with 127.0.0.1 port 5001\n",
    "[  8] local 127.0.0.1 port 42008 connected with 127.0.0.1 port 5001\n",
    "[ 10] local 127.0.0.1 port 42010 connected with 127.0.0.1 port 5001\n",
    "[  5] local 127.0.0.1 port 42014 connected with 127.0.0.1 port 5001\n",
    "[  9] local 127.0.0.1 port 42012 connected with 127.0.0.1 port 5001\n",
    "[ 11] local 127.0.0.1 port 42016 connected with 127.0.0.1 port 5001\n",
    "[ ID] Interval       Transfer     Bandwidth\n",
    "[ 12]  0.0- 3.0 sec  5184 MBytes  1728 MBytes/sec\n",
    "[  3]  0.0- 3.0 sec  2251 MBytes   750 MBytes/sec\n",
    "[  6]  0.0- 3.0 sec  2683 MBytes   894 MBytes/sec\n",
    "[  7]  0.0- 3.0 sec  2479 MBytes   826 MBytes/sec\n",
    "[  4]  0.0- 3.0 sec  2318 MBytes   773 MBytes/sec\n",
    "[  8]  0.0- 3.0 sec  2068 MBytes   689 MBytes/sec\n",
    "[ 10]  0.0- 3.0 sec  1959 MBytes   653 MBytes/sec\n",
    "[  5]  0.0- 3.0 sec  2008 MBytes   669 MBytes/sec\n",
    "[  9]  0.0- 3.0 sec  2094 MBytes   698 MBytes/sec\n",
    "[ 11]  0.0- 3.0 sec  2731 MBytes   910 MBytes/sec\n",
    "[SUM]  0.0- 3.0 sec  25775 MBytes  8589 MBytes/sec\n",
    "\"\"\"\n",
    "\n",
    "import re\n",
    "result_pattern = re.compile(r'\\s*\\[\\s*(SUM|\\d+)\\s*\\]\\s+[.\\d\\s-]+\\s+[a-z]+\\s+([\\d.]+)\\s+MBytes\\s+([\\d.]+)\\s+MBytes/sec',\n",
    "                            re.I | re.M)\n",
    "transfer, bandwidth = 0, 0\n",
    "match_list = result_pattern.findall(out)\n",
    "if len(match_list) == 0:\n",
    "    m = None\n",
    "elif len(match_list) == 1:\n",
    "    m = match_list[0][1:]\n",
    "else:\n",
    "    match_dict = {k: m for k, *m in match_list}\n",
    "    m = match_dict['SUM']\n",
    "\n",
    "if m is not None:\n",
    "    transfer, bandwidth = map(float, m)\n",
    "\n",
    "dict(transfer=transfer, bandwidth=bandwidth)"
   ]
  },
  {
   "cell_type": "markdown",
   "metadata": {
    "heading_collapsed": true
   },
   "source": [
    "# Intergral Tests"
   ]
  },
  {
   "cell_type": "code",
   "execution_count": null,
   "metadata": {
    "ExecuteTime": {
     "end_time": "2019-07-03T09:06:04.286551Z",
     "start_time": "2019-07-03T09:06:04.009869Z"
    },
    "hidden": true
   },
   "outputs": [],
   "source": [
    "n = 5\n",
    "ix = [0, 1, 4, 8, 16]\n",
    "iy = np.random.uniform(0, 1, size=n-1)\n",
    "iy = np.cumsum([0, *iy])\n",
    "iy /= iy.max()\n",
    "x = np.linspace(0, max(ix), 1024)\n",
    "y = np.interp(x, ix, iy)\n",
    "\n",
    "plt.plot(x,y)"
   ]
  },
  {
   "cell_type": "code",
   "execution_count": null,
   "metadata": {
    "ExecuteTime": {
     "end_time": "2019-07-03T09:06:06.909533Z",
     "start_time": "2019-07-03T09:06:06.637111Z"
    },
    "hidden": true
   },
   "outputs": [],
   "source": [
    "yy = 1-y\n",
    "plt.plot(x, yy)\n",
    "print(np.trapz(yy, x))"
   ]
  },
  {
   "cell_type": "code",
   "execution_count": null,
   "metadata": {
    "ExecuteTime": {
     "end_time": "2019-07-03T09:06:08.817098Z",
     "start_time": "2019-07-03T09:06:08.536355Z"
    },
    "hidden": true
   },
   "outputs": [],
   "source": [
    "ry = np.linspace(0,1,1024)\n",
    "rx = np.interp(ry, (1-y)[::-1], x[::-1])\n",
    "# rx = np.gradient(rx ,ry)\n",
    "# rx = [0, *np.diff(rx) / (ry[1]-ry[0])]\n",
    "plt.plot(ry, rx)\n",
    "print(np.trapz(rx, ry))\n"
   ]
  },
  {
   "cell_type": "markdown",
   "metadata": {
    "heading_collapsed": true
   },
   "source": [
    "# Parse memaslap"
   ]
  },
  {
   "cell_type": "code",
   "execution_count": null,
   "metadata": {
    "ExecuteTime": {
     "end_time": "2019-06-30T21:38:36.941509Z",
     "start_time": "2019-06-30T21:38:36.884099Z"
    },
    "hidden": true
   },
   "outputs": [],
   "source": [
    "test_result_file = '/home/fonaro/workspace/wRaaS/elasticbench-apps/test.txt'\n",
    "a = b'\\x1b[1;1H\\x1b[2J'.decode('utf-8')\n",
    "with open(test_result_file, 'r') as f:\n",
    "    r = f.read()\n",
    "#print(r)"
   ]
  },
  {
   "cell_type": "code",
   "execution_count": null,
   "metadata": {
    "ExecuteTime": {
     "end_time": "2019-06-30T22:15:42.885873Z",
     "start_time": "2019-06-30T22:15:41.570680Z"
    },
    "hidden": true
   },
   "outputs": [],
   "source": [
    "import re\n",
    "import pprint\n",
    "from mom.util.parsers import parameter_int_or_float_or_str\n",
    "\n",
    "MEMSLAP_RESULT_TITLE_PATTERN = re.compile(r'^\\s*(Get|Set|Total)\\s*Statistics\\s*$', re.I | re.M)\n",
    "\n",
    "def parse_lines(lines):\n",
    "    ret = {}\n",
    "    op = None\n",
    "    headers = None\n",
    "    for l in lines:\n",
    "        # First, match an OP (get/set/total) and split to columns.\n",
    "        op_m = MEMSLAP_RESULT_TITLE_PATTERN.match(l)\n",
    "        cols = l.split()\n",
    "        if op_m is not None:\n",
    "            # If we match an OP, then starting a new table.\n",
    "            op = op_m.group(1).lower()\n",
    "            headers = None\n",
    "        elif op is None:\n",
    "            # If we did not found an OP and no OP is set, then there is nothing to do.\n",
    "            pass\n",
    "        elif headers is None:\n",
    "            # If headers is not set, then this is an header row.\n",
    "            headers = [c.lower() for c in cols]\n",
    "        elif len(cols) == len(headers):\n",
    "            # If we found an OP and a header row with the same length, then this is its data row.\n",
    "            d = dict(zip(headers, map(parameter_int_or_float_or_str, cols)))\n",
    "            t = d.pop('type').lower()\n",
    "            ret.setdefault(op, {})[t] = d\n",
    "        else:\n",
    "            # We have an OP and a header but not data. This means the table has ended.\n",
    "            op = None\n",
    "            headers = None\n",
    "\n",
    "    return ret\n",
    "\n",
    "s1 = (segment.split('\\n') for segment in r.split(a))\n",
    "s2 = (filter(None, (cur_line.strip() for cur_line in segment_lines))\n",
    "      for segment_lines in s1)\n",
    "result = map(parse_lines, s2)\n",
    "for i, rr in enumerate(result):\n",
    "    print(i, end=\": \")\n",
    "    pprint.pprint(rr)"
   ]
  },
  {
   "cell_type": "code",
   "execution_count": null,
   "metadata": {
    "ExecuteTime": {
     "end_time": "2019-06-30T22:27:31.880407Z",
     "start_time": "2019-06-30T22:27:31.838716Z"
    },
    "hidden": true
   },
   "outputs": [],
   "source": [
    "def foo():\n",
    "    yield from range(3)\n",
    "        \n",
    "def bar():\n",
    "    return foo()\n",
    "        \n",
    "f = bar()\n",
    "from typing import Iterator\n",
    "print(isinstance(f, Iterator))\n",
    "if not f:\n",
    "    print('f')\n",
    "else:\n",
    "    for i in f:\n",
    "        print(i)"
   ]
  },
  {
   "cell_type": "code",
   "execution_count": null,
   "metadata": {
    "ExecuteTime": {
     "end_time": "2019-06-30T17:30:39.153240Z",
     "start_time": "2019-06-30T17:30:38.997782Z"
    },
    "hidden": true
   },
   "outputs": [],
   "source": [
    "import re\n",
    "from mom.util.parsers import parameter_int_or_float_or_str\n",
    "p = re.compile(r'\\s*(Get|Set|Total)\\s*Statistics\\s*', re.I | re.M)\n",
    "\n",
    "s = filter(None, (p.split(l)[1:] for l in r.split(a)))\n",
    "\n",
    "for i, ops in enumerate(s):\n",
    "    p.split()\n",
    "    op_m = p.match(lines[0])\n",
    "    if op_m is None:\n",
    "        continue\n",
    "    op = op_m.gruop(1).lower()\n",
    "    \n",
    "    for i, (op, val) in enumerate(zip(s[1::2], s[2::2])):\n",
    "        print(i, 'OP:', op)\n",
    "        print(i, 'VAL:')\n",
    "        for v in val.strip().split('\\n'):\n",
    "            print(i, v)\n",
    "    #     v = [l.split() for l in val.strip().split('\\n')]\n",
    "    #     k = v[0]\n",
    "    #     for l in v[1:]:\n",
    "    #         print(i, dict(zip(k, map(parameter_int_or_float_or_str, l))))"
   ]
  },
  {
   "cell_type": "markdown",
   "metadata": {
    "heading_collapsed": true
   },
   "source": [
    "# Parse memcached STATS"
   ]
  },
  {
   "cell_type": "code",
   "execution_count": null,
   "metadata": {
    "ExecuteTime": {
     "end_time": "2019-07-07T14:11:16.641234Z",
     "start_time": "2019-07-07T14:11:16.534913Z"
    },
    "hidden": true
   },
   "outputs": [],
   "source": [
    "x = \"\"\"\n",
    "STAT pid 1270\n",
    "STAT uptime 1290\n",
    "STAT time 1562501438\n",
    "STAT version 1.5.16\n",
    "STAT libevent 2.1.8-stable\n",
    "STAT pointer_size 64\n",
    "STAT rusage_user 237.004043\n",
    "STAT rusage_system 496.497734\n",
    "STAT max_connections 1024\n",
    "STAT curr_connections 5\n",
    "STAT total_connections 6\n",
    "STAT rejected_connections 0\n",
    "STAT connection_structures 6\n",
    "STAT reserved_fds 20\n",
    "STAT cmd_get 5298945\n",
    "STAT cmd_set 12364204\n",
    "STAT cmd_flush 0\n",
    "STAT cmd_touch 0\n",
    "STAT get_hits 5298945\n",
    "STAT get_misses 0\n",
    "STAT get_expired 0\n",
    "STAT get_flushed 0\n",
    "STAT delete_misses 0\n",
    "STAT delete_hits 0\n",
    "STAT incr_misses 0\n",
    "STAT incr_hits 0\n",
    "STAT decr_misses 0\n",
    "STAT decr_hits 0\n",
    "STAT cas_misses 0\n",
    "STAT cas_hits 0\n",
    "STAT cas_badval 0\n",
    "STAT touch_hits 0\n",
    "STAT touch_misses 0\n",
    "STAT auth_cmds 0\n",
    "STAT auth_errors 0\n",
    "STAT bytes_read 17301068741\n",
    "STAT bytes_written 6962622120\n",
    "STAT limit_maxbytes 3221225472\n",
    "STAT accepting_conns 1\n",
    "STAT listen_disabled_num 0\n",
    "STAT time_in_listen_disabled_us 0\n",
    "STAT threads 4\n",
    "STAT conn_yields 0\n",
    "STAT hash_power_level 21\n",
    "STAT hash_bytes 16777216\n",
    "STAT hash_is_expanding 0\n",
    "STAT slab_reassign_rescues 0\n",
    "STAT slab_reassign_chunk_rescues 0\n",
    "STAT slab_reassign_evictions_nomem 0\n",
    "STAT slab_reassign_inline_reclaim 0\n",
    "STAT slab_reassign_busy_items 0\n",
    "STAT slab_reassign_busy_deletes 0\n",
    "STAT slab_reassign_running 0\n",
    "STAT slabs_moved 0\n",
    "STAT lru_crawler_running 0\n",
    "STAT lru_crawler_starts 1530\n",
    "STAT lru_maintainer_juggles 480350\n",
    "STAT malloc_fails 0\n",
    "STAT log_worker_dropped 0\n",
    "STAT log_worker_written 0\n",
    "STAT log_watcher_skipped 0\n",
    "STAT log_watcher_sent 0\n",
    "STAT bytes 2897068032\n",
    "STAT curr_items 2174976\n",
    "STAT total_items 12364204\n",
    "STAT slab_global_page_pool 0\n",
    "STAT expired_unfetched 0\n",
    "STAT evicted_unfetched 6785373\n",
    "STAT evicted_active 0\n",
    "STAT evictions 10189229\n",
    "STAT reclaimed 0\n",
    "STAT crawler_reclaimed 0\n",
    "STAT crawler_items_checked 9001040\n",
    "STAT lrutail_reflocked 1\n",
    "STAT moves_to_cold 11750969\n",
    "STAT moves_to_warm 836903\n",
    "STAT moves_within_lru 5851\n",
    "STAT direct_reclaims 10189228\n",
    "STAT lru_bumps_dropped 0\n",
    "END\n",
    "\"\"\"\n",
    "\n",
    "y=\"\"\"\n",
    "STAT 13:chunk_size 1480\n",
    "STAT 13:chunks_per_page 708\n",
    "STAT 13:total_pages 3072\n",
    "STAT 13:total_chunks 2174976\n",
    "STAT 13:used_chunks 2174976\n",
    "STAT 13:free_chunks 0\n",
    "STAT 13:free_chunks_end 0\n",
    "STAT 13:mem_requested 2897068032\n",
    "STAT 13:get_hits 8136011\n",
    "STAT 13:cmd_set 18984024\n",
    "STAT 13:delete_hits 0\n",
    "STAT 13:incr_hits 0\n",
    "STAT 13:decr_hits 0\n",
    "STAT 13:cas_hits 0\n",
    "STAT 13:cas_badval 0\n",
    "STAT 13:touch_hits 0\n",
    "STAT active_slabs 1\n",
    "STAT total_malloced 3221225472\n",
    "END\n",
    "\"\"\""
   ]
  },
  {
   "cell_type": "code",
   "execution_count": null,
   "metadata": {
    "ExecuteTime": {
     "end_time": "2019-07-07T14:16:31.808535Z",
     "start_time": "2019-07-07T14:16:31.767545Z"
    },
    "hidden": true,
    "scrolled": false
   },
   "outputs": [],
   "source": [
    "import re\n",
    "from mom.util.parsers import parameter_int_or_float_or_str\n",
    "\n",
    "e = re.compile(r\"\\s*STAT\\s+([a-z_]+)\\s+([\\d.]+)\", re.I)\n",
    "data = {m.group(1): parameter_int_or_float_or_str(m.group(2)) for m in e.finditer(x)}\n",
    "print([k for k, v in data.items() if not isinstance(v, str)])"
   ]
  }
 ],
 "metadata": {
  "kernelspec": {
   "display_name": "Python 3",
   "language": "python",
   "name": "python3"
  },
  "language_info": {
   "codemirror_mode": {
    "name": "ipython",
    "version": 3
   },
   "file_extension": ".py",
   "mimetype": "text/x-python",
   "name": "python",
   "nbconvert_exporter": "python",
   "pygments_lexer": "ipython3",
   "version": "3.7.2"
  }
 },
 "nbformat": 4,
 "nbformat_minor": 2
}
